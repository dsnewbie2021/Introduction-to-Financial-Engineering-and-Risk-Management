{
 "cells": [
  {
   "cell_type": "code",
   "execution_count": 1,
   "metadata": {},
   "outputs": [],
   "source": [
    "%load_ext autoreload\n",
    "%autoreload 2\n",
    "\n",
    "import pandas as pd\n",
    "import numpy as np\n",
    "import risk_kit as rk"
   ]
  },
  {
   "cell_type": "markdown",
   "metadata": {},
   "source": [
    "A major lottery advertises that it pays the winner `$10 million`. However this prize money is paid at the rate of `$500,000` each year (with the first payment being immediate) for a total of $20$ payments. What is the present value of this prize at $10%$ interest compounded annually?"
   ]
  },
  {
   "cell_type": "markdown",
   "metadata": {},
   "source": [
    "$$\n",
    "\\begin{align}\n",
    "PV &= A\\sum_{i=0}^{T-1} \\frac{1}{(1+r)^t} \\\\\n",
    "&= \\frac{A(1+r)}{r}(1-\\frac{1}{(1+r)^T}) \\\\\n",
    "&= \\frac{500,000(1+0.1)}{0.1}(1-\\frac{1}{1.01^{20}}) \\\\\n",
    "&= 4.6825M\n",
    "\\end{align}\n",
    "$$"
   ]
  },
  {
   "cell_type": "code",
   "execution_count": 2,
   "metadata": {},
   "outputs": [
    {
     "data": {
      "text/plain": [
       "0    4.68246\n",
       "dtype: float64"
      ]
     },
     "execution_count": 2,
     "metadata": {},
     "output_type": "execute_result"
    }
   ],
   "source": [
    "cash_flows = pd.Series([500000] * 20)\n",
    "discount_rate = 0.1\n",
    "unit = 1000000\n",
    "rk.present_value(cash_flows, discount_rate) / unit"
   ]
  },
  {
   "cell_type": "markdown",
   "metadata": {},
   "source": [
    "### Question 2 (Sunk Costs (Exercise 2.6 in Luenberger))"
   ]
  },
  {
   "cell_type": "markdown",
   "metadata": {},
   "source": [
    "A young couple has made a deposit of the first month's rent (equal to `$1,000`) on a 6-month apartment lease. The deposit is refundable at the end of six months if they stay until the end of the lease.\n",
    "\n",
    "The next day they find a different apartment that they like just as well, but its monthly rent is only `$900`. And they would again have to put a deposit of `$900` refundable at the end of 6 months.\n",
    "\n",
    "They plan to be in the apartment only 6 months. Should they switch to the new apartment? Assume an (admittedly unrealistic!) interest rate of $12%$ per month compounded monthly."
   ]
  },
  {
   "cell_type": "markdown",
   "metadata": {},
   "source": [
    "Compare the two alternatives: Stay in the original apartment, for an NPV, $C_1$, given by\n",
    "$$C_1 = -\\sum_{i=0}^5 \\frac{1000}{1.12^i} + \\frac{1000}{1.12^6} \\approx -4098$$\n",
    "Take the new apartment where we assume a security deposit is again required. The NPV then is \n",
    "$$C_2 = -900 - \\sum_{i=0}^5 \\frac{900}{1.12^i} + \\frac{900}{1.12^6} \\approx -4588$$\n",
    "The couple should take the $1000 apartment."
   ]
  },
  {
   "cell_type": "code",
   "execution_count": 3,
   "metadata": {},
   "outputs": [
    {
     "name": "stderr",
     "output_type": "stream",
     "text": [
      "C:\\Users\\x_tia\\AppData\\Local\\Temp\\ipykernel_14744\\1653239865.py:6: FutureWarning: Calling float on a single element Series is deprecated and will raise a TypeError in the future. Use float(ser.iloc[0]) instead\n",
      "  stay_cost = float(rk.present_value(cash_flow_stay, discount_rate))\n",
      "C:\\Users\\x_tia\\AppData\\Local\\Temp\\ipykernel_14744\\1653239865.py:7: FutureWarning: Calling float on a single element Series is deprecated and will raise a TypeError in the future. Use float(ser.iloc[0]) instead\n",
      "  switch_cost = float(rk.present_value(cash_flow_switch, discount_rate))\n"
     ]
    },
    {
     "data": {
      "text/plain": [
       "(-3098.1450811676837, -4588.330573050915)"
      ]
     },
     "execution_count": 3,
     "metadata": {},
     "output_type": "execute_result"
    }
   ],
   "source": [
    "# Assuming the desposited amount is not refundable if they chose to switch\n",
    "\n",
    "cash_flow_stay = pd.Series([0] + [-1000] * 5 + [1000])\n",
    "cash_flow_switch = pd.Series([-1800] + [-900] * 5 + [900])\n",
    "discount_rate = 0.12\n",
    "stay_cost = float(rk.present_value(cash_flow_stay, discount_rate))\n",
    "switch_cost = float(rk.present_value(cash_flow_switch, discount_rate))\n",
    "stay_cost, switch_cost"
   ]
  },
  {
   "cell_type": "markdown",
   "metadata": {},
   "source": [
    "### Question 3 (Relation between spot and discount rates)"
   ]
  },
  {
   "cell_type": "markdown",
   "metadata": {},
   "source": [
    "Suppose the spot rates for $1$ and $2$ years are $s_1 = 6.3%$ and $s_2 = 6.9%$ with annual compounding. Recall that in this course interest rates are always quoted on an annual basis unless otherwise specified. What is the discount rate $d(0,2)$?"
   ]
  },
  {
   "cell_type": "markdown",
   "metadata": {},
   "source": [
    "From the relation in the slides we get\n",
    "$$\n",
    "d(0,2) = \\frac{1}{(1+s_2)^2} = 0.8751\n",
    "$$"
   ]
  },
  {
   "cell_type": "code",
   "execution_count": 4,
   "metadata": {},
   "outputs": [
    {
     "data": {
      "text/plain": [
       "0.8750736155679097"
      ]
     },
     "execution_count": 4,
     "metadata": {},
     "output_type": "execute_result"
    }
   ],
   "source": [
    "s1 = 0.063\n",
    "s2 = 0.069\n",
    "\n",
    "rk.discount(2, 0.069)"
   ]
  },
  {
   "cell_type": "markdown",
   "metadata": {},
   "source": [
    "### Question 4 (Relation between spot and forward rates)"
   ]
  },
  {
   "cell_type": "markdown",
   "metadata": {},
   "source": [
    "Suppose the spot rates for $1$ and $2$ years are $s_1 = 6.3%$ and $s_2 = 6.9%$ with annual compounding. Recall that in this course interest rates are always quoted on an annual basis unless otherwise specified. What is the forward rate, $f_{1,2}$ assuming annual compounding?"
   ]
  },
  {
   "cell_type": "markdown",
   "metadata": {},
   "source": [
    "From the relation in the slides we get \n",
    "$$\n",
    "\\begin{align}\n",
    "(1+s_2)^2 &= (1+s_1)(1+f_{1,2}) \\\\\n",
    "\\Rightarrow f_{1,2} &= \\frac{(1+s_2)^2}{(1+s_1)} - 1 \\\\\n",
    "&= 0.075 = 7.5\\%\n",
    "\\end{align}\n",
    "$$"
   ]
  },
  {
   "cell_type": "code",
   "execution_count": 5,
   "metadata": {},
   "outputs": [
    {
     "data": {
      "text/plain": [
       "7.503386641580434"
      ]
     },
     "execution_count": 5,
     "metadata": {},
     "output_type": "execute_result"
    }
   ],
   "source": [
    "f_12 = rk.discount(1, s1) / rk.discount(2, s2) - 1\n",
    "f_12 * 100"
   ]
  },
  {
   "cell_type": "markdown",
   "metadata": {},
   "source": [
    "### Question 5 (Forward contract on a stock)"
   ]
  },
  {
   "cell_type": "markdown",
   "metadata": {},
   "source": [
    "The current price of a stock is `$400` per share and it pays no dividends. Assuming a constant interest rate of $8%$  per year compounded quarterly, what is the stock's theoretical forward price for delivery in $9$ months?"
   ]
  },
  {
   "cell_type": "markdown",
   "metadata": {},
   "source": [
    "The discount factor is\n",
    "$$\n",
    "d(0,9) = \\frac{1}{(1+r/4)^3} = \\frac{1}{1.02^3}\n",
    "$$\n",
    "Therefore, the forward price is \n",
    "$$\n",
    "F = \\frac{S_0}{d(0,9)} = 400(1.02)^3 = 424.4832\n",
    "$$\n"
   ]
  },
  {
   "cell_type": "code",
   "execution_count": 6,
   "metadata": {},
   "outputs": [
    {
     "data": {
      "text/plain": [
       "424.48320000000007"
      ]
     },
     "execution_count": 6,
     "metadata": {},
     "output_type": "execute_result"
    }
   ],
   "source": [
    "p = 400\n",
    "r = 0.08\n",
    "period = 4\n",
    "time = 0.75 # in years\n",
    "\n",
    "rk.compound_interest(p, r, time, periods_per_year=period)"
   ]
  },
  {
   "cell_type": "markdown",
   "metadata": {},
   "source": [
    "### Question 6 (Bounds using different lending and borrowing rate )"
   ]
  },
  {
   "cell_type": "markdown",
   "metadata": {},
   "source": [
    "Suppose the borrowing rate $r_B = 10%$ compounded annually. However, the lending rate (or equivalently, the interest rate on deposits) is only $8%$ compounded annually. \n",
    "\n",
    "Compute the difference between the upper and lower bounds on the price of an perpetuity that pays A = `$10,000` per year."
   ]
  },
  {
   "cell_type": "markdown",
   "metadata": {},
   "source": [
    " The upper bound on the price of the annuity is\n",
    "$$\n",
    "\\frac{r_L}{A} = \\frac{0.08}{10000} = 125,000\n",
    "$$\n",
    " The lower bound on the price of the annuity is \n",
    "$$\n",
    "\\frac{A}{r_B} = \\frac{10000}{0.1} = 100,000\n",
    "$$\n",
    " The difference is 25,000."
   ]
  },
  {
   "cell_type": "code",
   "execution_count": 7,
   "metadata": {},
   "outputs": [
    {
     "data": {
      "text/plain": [
       "25000.0"
      ]
     },
     "execution_count": 7,
     "metadata": {},
     "output_type": "execute_result"
    }
   ],
   "source": [
    "A = 10000\n",
    "rb = 0.1\n",
    "rl = 0.08\n",
    "perpetuity_b = A / rb\n",
    "perpetuity_l = A / rl\n",
    "perpetuity_l - perpetuity_b"
   ]
  },
  {
   "cell_type": "markdown",
   "metadata": {},
   "source": [
    "### Question 7 (Value of a Forward contract at an intermediate time)"
   ]
  },
  {
   "cell_type": "markdown",
   "metadata": {},
   "source": [
    "Suppose we hold a forward contract on a stock with expiration $6$ months from now. We entered into this contract $6$ months ago so that when we entered into the contract, the expiration was $T = 1$ year. The stock price $6$ months ago was $S_0 = 100$, the current stock price is $125$ and the current interest rate is $r = 10%$ compounded semi-annually. (This is the same rate that prevailed $6$ months ago.) \n",
    "\n",
    "What is the current value of our forward contract?"
   ]
  },
  {
   "cell_type": "markdown",
   "metadata": {},
   "source": [
    "The forward price $F_0$ at the time we entered into the forward contract is given by \n",
    "$$\n",
    "F_0 = S_0/d(0,T) = S_0(1+r/2)^2 = 110.25\n",
    "$$\n",
    "The forward price $F_t$ at the current time t for a forward contract with expiration 6 months is given by \n",
    "$$\n",
    "F_t = S_t/d(t,T) = S_t(1+r/2) = 131.25\n",
    "$$\n",
    "Therefore, the value is \n",
    "$$\n",
    "f_t = (F_t-F_0)d(t,T) = (131.25-110.25)/(1+r/2) = 20\n",
    "$$\n"
   ]
  },
  {
   "cell_type": "code",
   "execution_count": 8,
   "metadata": {},
   "outputs": [
    {
     "data": {
      "text/plain": [
       "20.0"
      ]
     },
     "execution_count": 8,
     "metadata": {},
     "output_type": "execute_result"
    }
   ],
   "source": [
    "S0 = 100\n",
    "St = 125\n",
    "rate = 0.1\n",
    "periods = 2\n",
    "\n",
    "F0 = S0 / rk.discount(2, rate / periods)\n",
    "Ft = St / rk.discount(1, rate / periods)\n",
    "ft = (Ft - F0) * rk.discount(1, rate / periods)\n",
    "\n",
    "round(ft, 1)"
   ]
  }
 ],
 "metadata": {
  "kernelspec": {
   "display_name": "Python 3",
   "language": "python",
   "name": "python3"
  },
  "language_info": {
   "codemirror_mode": {
    "name": "ipython",
    "version": 3
   },
   "file_extension": ".py",
   "mimetype": "text/x-python",
   "name": "python",
   "nbconvert_exporter": "python",
   "pygments_lexer": "ipython3",
   "version": "3.11.7"
  }
 },
 "nbformat": 4,
 "nbformat_minor": 2
}
