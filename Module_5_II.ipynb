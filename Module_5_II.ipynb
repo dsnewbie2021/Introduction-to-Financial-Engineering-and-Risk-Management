{
  "cells": [
    {
      "cell_type": "markdown",
      "metadata": {
        "id": "Et-sbofInp6D"
      },
      "source": [
        "Question 1\n",
        "\n",
        "**(Pricing a forward contract with dividends)**\n",
        "\n",
        "The current price of silver is `$206` per ounce. The storage cost is `$1` ounce per year, payable quarterly in advance. Assuming a constant annual interest rate of $9%$ compounded quarterly, what is the theoretical forward price of silver for delivery in $9$ months?\n",
        "\n",
        "Please submit your answer rounded to the nearest integer - for example, if your answer is 19.8, round it to either 20."
      ]
    },
    {
      "cell_type": "code",
      "execution_count": 1,
      "metadata": {
        "colab": {
          "base_uri": "https://localhost:8080/"
        },
        "id": "cTHWlMMNne2e",
        "outputId": "de5b4711-1916-4346-e1c9-e8d4f147a9ce"
      },
      "outputs": [
        {
          "name": "stdout",
          "output_type": "stream",
          "text": [
            "The theoretical forward price of silver for delivery in 9 months is $221.19 per ounce\n"
          ]
        }
      ],
      "source": [
        "import math\n",
        "\n",
        "# Given parameters\n",
        "S = 206  # Current spot price of silver\n",
        "r = 0.09  # Annual interest rate\n",
        "t = 9/12  # Time to delivery in years\n",
        "q = 4  # Number of quarters in a year\n",
        "storage_cost = 1  # Annual storage cost per ounce\n",
        "\n",
        "# Calculate the total storage cost for 9 months\n",
        "total_storage_cost = storage_cost * (3/4)\n",
        "\n",
        "# Calculate the forward price\n",
        "forward_price = (S + total_storage_cost) * math.exp(r * t)\n",
        "\n",
        "print(f\"The theoretical forward price of silver for delivery in 9 months is ${forward_price:.2f} per ounce\")"
      ]
    },
    {
      "cell_type": "markdown",
      "metadata": {
        "id": "qLdGtR2anq-A"
      },
      "source": [
        "Question 2\n",
        "\n",
        "**(Pricing Call Options)**\n",
        "\n",
        "Consider a 1-period binomial model with\n",
        "$R = 1.05$, $S_0=50$, $u=1/d=1.08$. What is the value of a European call option on the stock with strike $K=52$, assuming that the stock does not pay dividends?\n",
        "\n",
        "Please submit your answer rounded to two decimal places. So for example, if your answer is 5.489 then you should submit an answer of 5.48 or 5.49."
      ]
    },
    {
      "cell_type": "code",
      "execution_count": 2,
      "metadata": {
        "colab": {
          "base_uri": "https://localhost:8080/"
        },
        "id": "xE9RAbriod4i",
        "outputId": "4077d1ee-195e-4156-a352-79171a069f2f"
      },
      "outputs": [
        {
          "name": "stdout",
          "output_type": "stream",
          "text": [
            "The value of the European call option is $1.53\n"
          ]
        }
      ],
      "source": [
        "import math\n",
        "\n",
        "# Given parameters\n",
        "R = 1.05  # Risk-free rate\n",
        "S0 = 50   # Initial stock price\n",
        "u = 1.08  # Up factor\n",
        "d = 1/u   # Down factor\n",
        "K = 52    # Strike price\n",
        "\n",
        "# Calculate stock prices at t=1\n",
        "Su = S0 * u  # Stock price in up state\n",
        "Sd = S0 * d  # Stock price in down state\n",
        "\n",
        "# Calculate option payoffs at t=1\n",
        "Cu = max(Su - K, 0)  # Call payoff in up state\n",
        "Cd = max(Sd - K, 0)  # Call payoff in down state\n",
        "\n",
        "# Calculate risk-neutral probability\n",
        "p = (R - d) / (u - d)\n",
        "\n",
        "# Calculate option price at t=0\n",
        "C0 = (p * Cu + (1-p) * Cd) / R\n",
        "\n",
        "print(f\"The value of the European call option is ${C0:.2f}\")"
      ]
    },
    {
      "cell_type": "markdown",
      "metadata": {
        "id": "lrVxpsBgoeOj"
      },
      "source": [
        "Question 3\n",
        "\n",
        "**(Minimum-variance Hedging)**\n",
        "\n",
        "A farmer has a crop of grapefruit juice that will be ready for harvest and sale as $150000$ pounds of grapefruit juice in $3% months. He is worried about possible price changes, so he is considering hedging - a financial engineering technique that minimizes future uncertainties in the cash flow. Typically, hedging is carried out using futures contract. However, unfortunately, there is no 3-month futures contract for grapefruit juice, but there is a futures contract for orange juice. Still, the farmer might consider using the 3-month futures contract for orange juice as a replacement for 3-month futures contract for grapefruit juice, in the hope that these two contracts are highly correlated due to the similarity of the underlying products.\n",
        "\n",
        "Currently, the spot prices are `$1.20` per pound for orange juice and `$1.50` per pound for grapefruit juice. The standard deviation of the prices of orange juice and grapefruit juice is `$0.2` per year, and the correlation coefficient between their prices is about $0.7$ (highly correlated). What is the minimum variance hedge for farmer, i.e. how many orange juice futures contracts does the farmer need to purchase in total?\n",
        "\n",
        "Hint: let $h$ be the number of orange juice futures contracts that the farmer purchases. Let $T$ be the time when the grapefruit juice will be sold (in $3$ months). The cash flow at time $T$ will be two parts: (1) profits from selling the juice (2) cash flow generated by futures contract. Can you write down the explicit form of this cash flow? Notice that this cash flow is a random variable, then we can compute $h$ by minimizing the variance of the cash flow (hence minimum-variance hedging). Here each contract size is 1 pound."
      ]
    },
    {
      "cell_type": "code",
      "execution_count": 3,
      "metadata": {
        "colab": {
          "base_uri": "https://localhost:8080/"
        },
        "id": "WvQh_Z-Eoehx",
        "outputId": "08074e09-3352-4934-95cb-fecf35a6fb16"
      },
      "outputs": [
        {
          "name": "stdout",
          "output_type": "stream",
          "text": [
            "The farmer should purchase 105000 orange juice futures contracts.\n"
          ]
        }
      ],
      "source": [
        "import numpy as np\n",
        "\n",
        "# Given parameters\n",
        "grapefruit_quantity = 150000  # pounds\n",
        "time_to_maturity = 3/12  # 3 months in years\n",
        "spot_orange = 1.20  # $/pound\n",
        "spot_grapefruit = 1.50  # $/pound\n",
        "std_dev = 0.2  # annual standard deviation for both juices\n",
        "correlation = 0.7\n",
        "\n",
        "# Calculate covariance\n",
        "covariance = correlation * (std_dev ** 2)\n",
        "\n",
        "# Calculate the minimum variance hedge ratio\n",
        "hedge_ratio = covariance / (std_dev ** 2)\n",
        "\n",
        "# Calculate the number of orange juice futures contracts\n",
        "num_contracts = hedge_ratio * grapefruit_quantity\n",
        "\n",
        "print(f\"The farmer should purchase {num_contracts:.0f} orange juice futures contracts.\")"
      ]
    },
    {
      "cell_type": "markdown",
      "metadata": {
        "id": "l4Lo2NxAoe7j"
      },
      "source": [
        "Question 4\n",
        "\n",
        "**(Paradox of risk-neutral pricing)**\n",
        "\n",
        "Consider using a binomial model to price a non-dividend paying security (e.g. a stock) where the true probability of an up-move is $p=0.5$. The initial value of the stock is $S_0=100$. Let $P_0$$ denote the time $t=0$ price of a European put option on the stock with strike $K$ that expires after some fixed periods.\n",
        "\n",
        "Now suppose that some favorable news about the stock come about. This will cause an immediate change in the price's up-move probability (say to $p=0.7$). What do you think should happen to $P_0$ according to risk-neutral pricing?"
      ]
    },
    {
      "cell_type": "code",
      "execution_count": 4,
      "metadata": {
        "colab": {
          "base_uri": "https://localhost:8080/"
        },
        "id": "2BclmZjrofRd",
        "outputId": "9f883eca-9c1e-4033-9999-b66e43bcb45a"
      },
      "outputs": [
        {
          "name": "stdout",
          "output_type": "stream",
          "text": [
            "The European put option price P0 is: $33.26\n"
          ]
        }
      ],
      "source": [
        "import numpy as np\n",
        "\n",
        "def binomial_euro_put(S0, K, r, T, N, u, d):\n",
        "    # Calculate risk-neutral probability\n",
        "    p_tilde = (np.exp(r * T/N) - d) / (u - d)\n",
        "\n",
        "    # Initialize asset prices at maturity\n",
        "    ST = S0 * (u**np.arange(N, -1, -1)) * (d**np.arange(0, N+1, 1))\n",
        "\n",
        "    # Calculate option payoff at maturity\n",
        "    payoff = np.maximum(K - ST, 0)\n",
        "\n",
        "    # Backward induction\n",
        "    for i in range(N-1, -1, -1):\n",
        "        payoff = np.exp(-r * T/N) * (p_tilde * payoff[:-1] + (1-p_tilde) * payoff[1:])\n",
        "\n",
        "    return payoff[0]\n",
        "\n",
        "# Parameters\n",
        "S0 = 100\n",
        "K = 100  # Assuming at-the-money put\n",
        "r = 0.05  # Assuming 5% risk-free rate\n",
        "T = 1  # 1 year to expiry\n",
        "N = 100  # Number of steps\n",
        "u = 1.1  # Up factor\n",
        "d = 1/u  # Down factor\n",
        "\n",
        "# Calculate put price\n",
        "P0 = binomial_euro_put(S0, K, r, T, N, u, d)\n",
        "\n",
        "print(f\"The European put option price P0 is: ${P0:.2f}\")"
      ]
    },
    {
      "cell_type": "markdown",
      "metadata": {
        "id": "HRJRrlLJr4Fm"
      },
      "source": [
        "This code calculates the European put option price using the binomial model with risk-neutral pricing. The actual probability p is not used in the calculation, demonstrating that changes in p do not affect the option price P<sub>0</sub>."
      ]
    },
    {
      "cell_type": "markdown",
      "metadata": {
        "id": "FGitNYs9ofwL"
      },
      "source": [
        "Question 5\n",
        "\n",
        "**(Replicating strategy for pricing)**\n",
        "\n",
        "To price a derivative, we can use risk-neutral pricing. As an alternative yet equivalent method, we can construct price the derivative using replicating strategies.\n",
        "\n",
        "Consider a 1-period binomial model, where we have three nodes $N_{0,0}$, $N_{1,0}$, $N_{1,1}$. We have a cash account with fixed interest rate\n",
        "$r=0.01$ - that is, if we have at $N_{0,0}$ cash account with $D$ dollars, we expect $(1+r)D$ at either $N_{1,0}$ or $N_{1,1}$. We also have a stock with price $S_{0,0}$=10 at $N_{0,0}$, $S_{1,0}$=8 at $N_{1,0}$ and $S_{1,1}$=15 at $N_{1,1}$.\n",
        "\n",
        "Now consider an European call option at time t=1 with strike K=12. Can you price the option at $N_{0,0}$ using a replicating strategy, and what is the price?\n",
        "\n",
        "Please submit your answer rounded to only one decimal digit - for example if your answer is 1.28, then submit 1.3. If your answer is 1.12, submit 1.1."
      ]
    },
    {
      "cell_type": "code",
      "execution_count": 5,
      "metadata": {
        "colab": {
          "base_uri": "https://localhost:8080/"
        },
        "id": "83UozpjVogGr",
        "outputId": "f5ad731d-aa08-4a1d-f708-dc86d0702bfa"
      },
      "outputs": [
        {
          "name": "stdout",
          "output_type": "stream",
          "text": [
            "The price of the European call option at N0,0 is: 0.9\n"
          ]
        }
      ],
      "source": [
        "import numpy as np\n",
        "\n",
        "# Given parameters\n",
        "S00 = 10  # Initial stock price\n",
        "S10 = 8   # Stock price in down state\n",
        "S11 = 15  # Stock price in up state\n",
        "K = 12    # Strike price\n",
        "r = 0.01  # Interest rate\n",
        "\n",
        "# Calculate option payoffs at t=1\n",
        "C10 = max(S10 - K, 0)  # Payoff in down state\n",
        "C11 = max(S11 - K, 0)  # Payoff in up state\n",
        "\n",
        "# Solve for replicating portfolio\n",
        "delta = (C11 - C10) / (S11 - S10)\n",
        "B = (S11 * C10 - S10 * C11) / ((1 + r) * (S11 - S10))\n",
        "\n",
        "# Calculate option price at t=0\n",
        "C00 = delta * S00 + B\n",
        "\n",
        "print(f\"The price of the European call option at N0,0 is: {C00:.1f}\")"
      ]
    }
  ],
  "metadata": {
    "colab": {
      "provenance": []
    },
    "kernelspec": {
      "display_name": "Python 3",
      "name": "python3"
    },
    "language_info": {
      "codemirror_mode": {
        "name": "ipython",
        "version": 3
      },
      "file_extension": ".py",
      "mimetype": "text/x-python",
      "name": "python",
      "nbconvert_exporter": "python",
      "pygments_lexer": "ipython3",
      "version": "3.11.7"
    }
  },
  "nbformat": 4,
  "nbformat_minor": 0
}
