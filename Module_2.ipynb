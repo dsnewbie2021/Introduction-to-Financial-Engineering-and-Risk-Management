{
 "cells": [
  {
   "cell_type": "code",
   "execution_count": 1,
   "metadata": {},
   "outputs": [],
   "source": [
    "%load_ext autoreload\n",
    "%autoreload 2\n",
    "\n",
    "import pandas as pd\n",
    "import numpy as np\n",
    "import risk_kit as rk"
   ]
  },
  {
   "cell_type": "markdown",
   "metadata": {},
   "source": [
    "### Question 1"
   ]
  },
  {
   "cell_type": "markdown",
   "metadata": {},
   "source": [
    "A major lottery advertises that it pays the winner $10 million. However this prize money is paid at the rate of $500,000 each year (with the first payment being immediate) for a total of 20 payments. What is the present value of this prize at 10% interest compounded annually?"
   ]
  },
  {
   "cell_type": "code",
   "execution_count": 2,
   "metadata": {},
   "outputs": [
    {
     "data": {
      "text/plain": [
       "0    4.68246\n",
       "dtype: float64"
      ]
     },
     "execution_count": 2,
     "metadata": {},
     "output_type": "execute_result"
    }
   ],
   "source": [
    "cash_flows = pd.Series([500000] * 20)\n",
    "discount_rate = 0.1\n",
    "unit = 1000000\n",
    "rk.present_value(cash_flows, discount_rate) / unit"
   ]
  },
  {
   "cell_type": "markdown",
   "metadata": {},
   "source": [
    "### Question 2"
   ]
  },
  {
   "cell_type": "markdown",
   "metadata": {},
   "source": [
    "A young couple has made a deposit of the first month's rent (equal to $1,000) on a 6-month apartment lease. The deposit is refundable at the end of six months if they stay until the end of the lease.\n",
    "\n",
    "The next day they find a different apartment that they like just as well, but its monthly rent is only $900. And they would again have to put a deposit of $900 refundable at the end of 6 months.\n",
    "\n",
    "They plan to be in the apartment only 6 months. Should they switch to the new apartment? Assume an (admittedly unrealistic!) interest rate of 12% per month compounded monthly."
   ]
  },
  {
   "cell_type": "code",
   "execution_count": 3,
   "metadata": {},
   "outputs": [
    {
     "data": {
      "text/plain": [
       "(-3098.1450811676837, -4588.330573050915)"
      ]
     },
     "execution_count": 3,
     "metadata": {},
     "output_type": "execute_result"
    }
   ],
   "source": [
    "# Assuming the desposited amount is not refundable if they chose to switch\n",
    "\n",
    "cash_flow_stay = pd.Series([0] + [-1000] * 5 + [1000])\n",
    "cash_flow_switch = pd.Series([-1800] + [-900] * 5 + [900])\n",
    "discount_rate = 0.12\n",
    "stay_cost = float(rk.present_value(cash_flow_stay, discount_rate))\n",
    "switch_cost = float(rk.present_value(cash_flow_switch, discount_rate))\n",
    "stay_cost, switch_cost"
   ]
  },
  {
   "cell_type": "markdown",
   "metadata": {},
   "source": [
    "### Question 3"
   ]
  },
  {
   "cell_type": "markdown",
   "metadata": {},
   "source": [
    "Suppose the spot rates for 1 and 2 years are $s_1$ = 6.3% and $s_2$ = 6.9% with annual compounding. Recall that in this course interest rates are always quoted on an annual basis unless otherwise specified. What is the discount rate d(0,2)?"
   ]
  },
  {
   "cell_type": "code",
   "execution_count": 4,
   "metadata": {},
   "outputs": [
    {
     "data": {
      "text/plain": [
       "0.8750736155679097"
      ]
     },
     "execution_count": 4,
     "metadata": {},
     "output_type": "execute_result"
    }
   ],
   "source": [
    "s1 = 0.063\n",
    "s2 = 0.069\n",
    "\n",
    "rk.discount(2, 0.069)"
   ]
  },
  {
   "cell_type": "markdown",
   "metadata": {},
   "source": [
    "### Question 4"
   ]
  },
  {
   "cell_type": "markdown",
   "metadata": {},
   "source": [
    "Suppose the spot rates for 1 and 2 years are $s_1$ = 6.3% and $s_2$ = 6.9% with annual compounding. Recall that in this course interest rates are always quoted on an annual basis unless otherwise specified. What is the forward rate, $f_{1,2}$ assuming annual compounding?"
   ]
  },
  {
   "cell_type": "code",
   "execution_count": 5,
   "metadata": {},
   "outputs": [
    {
     "data": {
      "text/plain": [
       "7.503386641580434"
      ]
     },
     "execution_count": 5,
     "metadata": {},
     "output_type": "execute_result"
    }
   ],
   "source": [
    "f_12 = rk.discount(1, s1) / rk.discount(2, s2) - 1\n",
    "f_12 * 100"
   ]
  },
  {
   "cell_type": "markdown",
   "metadata": {},
   "source": [
    "### Question 5"
   ]
  },
  {
   "cell_type": "markdown",
   "metadata": {},
   "source": [
    "The current price of a stock is $400 per share and it pays no dividends. Assuming a constant interest rate of 8%  per year compounded quarterly, what is the stock's theoretical forward price for delivery in 9 months?"
   ]
  },
  {
   "cell_type": "code",
   "execution_count": 6,
   "metadata": {},
   "outputs": [
    {
     "data": {
      "text/plain": [
       "424.48320000000007"
      ]
     },
     "execution_count": 6,
     "metadata": {},
     "output_type": "execute_result"
    }
   ],
   "source": [
    "p = 400\n",
    "r = 0.08\n",
    "period = 4\n",
    "time = 0.75 # in years\n",
    "\n",
    "rk.compound_interest(p, r, time, periods_per_year=period)"
   ]
  },
  {
   "cell_type": "markdown",
   "metadata": {},
   "source": [
    "### Question 6"
   ]
  },
  {
   "cell_type": "markdown",
   "metadata": {},
   "source": [
    "Suppose the borrowing rate $r_B$ = 10% compounded annually. However, the lending rate (or equivalently, the interest rate on deposits) is only 8% compounded annually. \n",
    "\n",
    "Compute the difference between the upper and lower bounds on the price of an perpetuity that pays A = 10,000$ per year."
   ]
  },
  {
   "cell_type": "code",
   "execution_count": 7,
   "metadata": {},
   "outputs": [
    {
     "data": {
      "text/plain": [
       "25000.0"
      ]
     },
     "execution_count": 7,
     "metadata": {},
     "output_type": "execute_result"
    }
   ],
   "source": [
    "A = 10000\n",
    "rb = 0.1\n",
    "rl = 0.08\n",
    "perpetuity_b = A / rb\n",
    "perpetuity_l = A / rl\n",
    "perpetuity_l - perpetuity_b"
   ]
  },
  {
   "cell_type": "markdown",
   "metadata": {},
   "source": [
    "### Question 7"
   ]
  },
  {
   "cell_type": "markdown",
   "metadata": {},
   "source": [
    "Suppose we hold a forward contract on a stock with expiration 6 months from now. We entered into this contract 6 months ago so that when we entered into the contract, the expiration was T = 1 year. The stock price 6 months ago was $S_0$ = 100, the current stock price is 125 and the current interest rate is r = 10% compounded semi-annually. (This is the same rate that prevailed 6 months ago.) \n",
    "\n",
    "What is the current value of our forward contract?"
   ]
  },
  {
   "cell_type": "code",
   "execution_count": 8,
   "metadata": {},
   "outputs": [
    {
     "data": {
      "text/plain": [
       "20.0"
      ]
     },
     "execution_count": 8,
     "metadata": {},
     "output_type": "execute_result"
    }
   ],
   "source": [
    "S0 = 100\n",
    "St = 125\n",
    "rate = 0.1\n",
    "periods = 2\n",
    "\n",
    "F0 = S0 / rk.discount(2, rate / periods)\n",
    "Ft = St / rk.discount(1, rate / periods)\n",
    "ft = (Ft - F0) * rk.discount(1, rate / periods)\n",
    "\n",
    "round(ft, 1)"
   ]
  }
 ],
 "metadata": {
  "kernelspec": {
   "display_name": "Python 3",
   "language": "python",
   "name": "python3"
  },
  "language_info": {
   "codemirror_mode": {
    "name": "ipython",
    "version": 3
   },
   "file_extension": ".py",
   "mimetype": "text/x-python",
   "name": "python",
   "nbconvert_exporter": "python",
   "pygments_lexer": "ipython3",
   "version": "3.7.1"
  }
 },
 "nbformat": 4,
 "nbformat_minor": 2
}
