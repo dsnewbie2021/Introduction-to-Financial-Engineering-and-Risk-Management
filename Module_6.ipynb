{
 "cells": [
  {
   "cell_type": "code",
   "execution_count": 1,
   "metadata": {},
   "outputs": [],
   "source": [
    "%load_ext autoreload\n",
    "%autoreload 2\n",
    "\n",
    "import pandas as pd\n",
    "import numpy as np\n",
    "import risk_kit as rk\n",
    "from pricing_models import StockPricing, FuturesPricing, OptionsPricing, BondPricing, ForwardsPricing, SwapsPricing"
   ]
  },
  {
   "cell_type": "markdown",
   "metadata": {},
   "source": [
    "Questions 1-6 should be answered by building an n = 10-period binomial model for the short-rate, $r_{i,j}$. The lattice parameters are: \n",
    "\n",
    "$r_{0,0}$ = 5%, u = 1.1, d = 0.9 and q = 1-q = 1/2q."
   ]
  },
  {
   "cell_type": "code",
   "execution_count": 2,
   "metadata": {},
   "outputs": [],
   "source": [
    "n = 10\n",
    "r00 = 0.05\n",
    "u = 1.1\n",
    "d = 0.9\n",
    "q = 0.5"
   ]
  },
  {
   "cell_type": "code",
   "execution_count": 3,
   "metadata": {},
   "outputs": [],
   "source": [
    "rate_model = StockPricing(n, r00, u, d)"
   ]
  },
  {
   "cell_type": "markdown",
   "metadata": {},
   "source": [
    "### Question 1"
   ]
  },
  {
   "cell_type": "markdown",
   "metadata": {},
   "source": [
    "Compute the price of a zero-coupon bond(ZCB) that matures at time t = 10 and that has face value 100."
   ]
  },
  {
   "cell_type": "code",
   "execution_count": 4,
   "metadata": {},
   "outputs": [
    {
     "data": {
      "text/plain": [
       "61.62"
      ]
     },
     "execution_count": 4,
     "metadata": {},
     "output_type": "execute_result"
    }
   ],
   "source": [
    "F = 100\n",
    "\n",
    "bond_pricing = BondPricing(n=n, F=F, q=q, r=rate_model, c=0)\n",
    "round(bond_pricing.price, 2)"
   ]
  },
  {
   "cell_type": "markdown",
   "metadata": {},
   "source": [
    "### Question 2"
   ]
  },
  {
   "cell_type": "markdown",
   "metadata": {},
   "source": [
    "Compute the price of a forward contract on the same ZCB of the previous question where the forward contract matures at time t = 4."
   ]
  },
  {
   "cell_type": "code",
   "execution_count": 5,
   "metadata": {
    "scrolled": true
   },
   "outputs": [
    {
     "data": {
      "text/plain": [
       "74.88"
      ]
     },
     "execution_count": 5,
     "metadata": {},
     "output_type": "execute_result"
    }
   ],
   "source": [
    "n = 4\n",
    "foward_price = ForwardsPricing(n, bond_pricing, q, rate_model)\n",
    "round(foward_price.price, 2)"
   ]
  },
  {
   "cell_type": "markdown",
   "metadata": {},
   "source": [
    "### Question 3"
   ]
  },
  {
   "cell_type": "markdown",
   "metadata": {},
   "source": [
    "Compute the initial price of a futures contract on the same ZCB of the previous two questions. The futures contract has an expiration of t = 4."
   ]
  },
  {
   "cell_type": "code",
   "execution_count": 6,
   "metadata": {},
   "outputs": [
    {
     "data": {
      "text/plain": [
       "74.82"
      ]
     },
     "execution_count": 6,
     "metadata": {},
     "output_type": "execute_result"
    }
   ],
   "source": [
    "future_price = FuturesPricing(n, bond_pricing, q)\n",
    "round(future_price.price, 2)"
   ]
  },
  {
   "cell_type": "markdown",
   "metadata": {},
   "source": [
    "### Question 4"
   ]
  },
  {
   "cell_type": "markdown",
   "metadata": {},
   "source": [
    "Compute the price of an American call option on the same ZCB of the previous three questions. The option has expiration t = 6 and strike = 80."
   ]
  },
  {
   "cell_type": "code",
   "execution_count": 7,
   "metadata": {},
   "outputs": [
    {
     "data": {
      "text/plain": [
       "2.36"
      ]
     },
     "execution_count": 7,
     "metadata": {},
     "output_type": "execute_result"
    }
   ],
   "source": [
    "n = 6\n",
    "strike = 80\n",
    "is_call = True\n",
    "is_american = True\n",
    "\n",
    "option_price = OptionsPricing(n, bond_pricing, rate_model, q, strike, is_call, is_american)\n",
    "round(option_price.price, 2)"
   ]
  },
  {
   "cell_type": "markdown",
   "metadata": {},
   "source": [
    "### Question 5"
   ]
  },
  {
   "cell_type": "markdown",
   "metadata": {},
   "source": [
    "Compute the initial value of a forward-starting swap that begins at t=1, with maturity t = 10 and a fixed rate of 4.5%. \n",
    "\n",
    "(The first payment then takes place at t = 2 and the final payment takes place at t = 11 as we are assuming, as usual, that payments take place in arrears.) You should assume a swap notional of 1 million and assume that you receive floating and pay fixed.)"
   ]
  },
  {
   "cell_type": "code",
   "execution_count": 8,
   "metadata": {},
   "outputs": [
    {
     "data": {
      "text/plain": [
       "33374.0"
      ]
     },
     "execution_count": 8,
     "metadata": {},
     "output_type": "execute_result"
    }
   ],
   "source": [
    "n = 11\n",
    "fixed_rate = 0.045\n",
    "start = 2\n",
    "is_long = 1\n",
    "N = 1000000\n",
    "\n",
    "swap_pricing = SwapsPricing(n, q, fixed_rate, start_time=2, is_long=is_long, r=rate_model)\n",
    "round(swap_pricing.price * N)"
   ]
  },
  {
   "cell_type": "markdown",
   "metadata": {},
   "source": [
    "### Question 6"
   ]
  },
  {
   "cell_type": "markdown",
   "metadata": {},
   "source": [
    "Compute the initial price of a swaption that matures at time t = 5 and has a strike of 0. The underlying swap is the same swap as described in the previous question with a notional of 1 million. \n",
    "\n"
   ]
  },
  {
   "cell_type": "code",
   "execution_count": 9,
   "metadata": {},
   "outputs": [
    {
     "data": {
      "text/plain": [
       "26311.0"
      ]
     },
     "execution_count": 9,
     "metadata": {},
     "output_type": "execute_result"
    }
   ],
   "source": [
    "# Assuming the European Call Option\n",
    "n = 5\n",
    "strike = 0\n",
    "N = 1000000\n",
    "\n",
    "option_pricing = OptionsPricing(n, swap_pricing, rate_model, q, strike)\n",
    "round(option_pricing.price * N)"
   ]
  }
 ],
 "metadata": {
  "kernelspec": {
   "display_name": "Python 3",
   "language": "python",
   "name": "python3"
  },
  "language_info": {
   "codemirror_mode": {
    "name": "ipython",
    "version": 3
   },
   "file_extension": ".py",
   "mimetype": "text/x-python",
   "name": "python",
   "nbconvert_exporter": "python",
   "pygments_lexer": "ipython3",
   "version": "3.7.1"
  }
 },
 "nbformat": 4,
 "nbformat_minor": 2
}
