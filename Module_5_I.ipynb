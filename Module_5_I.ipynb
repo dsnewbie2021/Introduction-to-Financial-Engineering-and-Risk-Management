{
 "cells": [
  {
   "cell_type": "code",
   "execution_count": 1,
   "metadata": {},
   "outputs": [],
   "source": [
    "%load_ext autoreload\n",
    "%autoreload 2\n",
    "\n",
    "import pandas as pd\n",
    "import numpy as np\n",
    "import risk_kit as rk\n",
    "from pricing_models import StockPricing, FuturesPricing, OptionsPricing"
   ]
  },
  {
   "cell_type": "markdown",
   "metadata": {},
   "source": [
    "Questions 1-8 should be answered by building a 15-period binomial model whose parameters should be calibrated to a Black-Scholes geometric Brownian motion model with: T = .25 years, $S_{0}$ = 100, r = 2%, σ = 30% and a dividend yield of c = 1%."
   ]
  },
  {
   "cell_type": "code",
   "execution_count": 2,
   "metadata": {},
   "outputs": [],
   "source": [
    "# Setting parameters\n",
    "periods = 15\n",
    "T = 0.25\n",
    "S0 = 100.0\n",
    "r = 0.02\n",
    "sigma = 0.3\n",
    "c = 0.01"
   ]
  },
  {
   "cell_type": "code",
   "execution_count": 3,
   "metadata": {},
   "outputs": [],
   "source": [
    "binomial_params = rk.blackscholes_to_binomial(r, sigma, periods, T, c)\n",
    "u = binomial_params['upward_drift']\n",
    "d = binomial_params['downward_drift']\n",
    "div = binomial_params['dividend_per_period']\n",
    "rfr = binomial_params['risk_free_rate']\n",
    "\n",
    "pricing_model = StockPricing(n=periods,S0=S0,u=u,d=d,c=div)"
   ]
  },
  {
   "cell_type": "markdown",
   "metadata": {
    "scrolled": true
   },
   "source": [
    "### Question 1"
   ]
  },
  {
   "cell_type": "markdown",
   "metadata": {},
   "source": [
    "Compute the price of an American call option with strike K=110 and maturity T=.25 years."
   ]
  },
  {
   "cell_type": "code",
   "execution_count": 4,
   "metadata": {
    "scrolled": true
   },
   "outputs": [
    {
     "data": {
      "text/plain": [
       "2.6"
      ]
     },
     "execution_count": 4,
     "metadata": {},
     "output_type": "execute_result"
    }
   ],
   "source": [
    "K = 110\n",
    "is_call = True\n",
    "is_american = True\n",
    "\n",
    "q = ((1+rfr) - d - div) / (u - d)\n",
    "\n",
    "call_option = OptionsPricing(n=periods,\n",
    "                           model=pricing_model,\n",
    "                           r=rfr,\n",
    "                           q=q,\n",
    "                           K=K,\n",
    "                           is_call=is_call,\n",
    "                           is_american=is_american)\n",
    "round(call_option.price, 2)"
   ]
  },
  {
   "cell_type": "markdown",
   "metadata": {},
   "source": [
    "### Question 2"
   ]
  },
  {
   "cell_type": "markdown",
   "metadata": {},
   "source": [
    "Compute the price of an American put option with strike K=110 and maturity T=.25 years."
   ]
  },
  {
   "cell_type": "code",
   "execution_count": 5,
   "metadata": {},
   "outputs": [
    {
     "data": {
      "text/plain": [
       "12.36"
      ]
     },
     "execution_count": 5,
     "metadata": {},
     "output_type": "execute_result"
    }
   ],
   "source": [
    "K = 110\n",
    "is_call = False\n",
    "is_american = True\n",
    "\n",
    "q = ((1+rfr) - d - div) / (u - d)\n",
    "\n",
    "put_option = OptionsPricing(n=periods,\n",
    "                           model=pricing_model,\n",
    "                           r=rfr,\n",
    "                           q=q,\n",
    "                           K=K,\n",
    "                           is_call=is_call,\n",
    "                           is_american=is_american)\n",
    "round(put_option.price, 2)"
   ]
  },
  {
   "cell_type": "markdown",
   "metadata": {},
   "source": [
    "### Question 3"
   ]
  },
  {
   "cell_type": "markdown",
   "metadata": {},
   "source": [
    "Is it ever optimal to early exercise the put option of Question 2?"
   ]
  },
  {
   "cell_type": "code",
   "execution_count": 6,
   "metadata": {},
   "outputs": [
    {
     "data": {
      "text/plain": [
       "True"
      ]
     },
     "execution_count": 6,
     "metadata": {},
     "output_type": "execute_result"
    }
   ],
   "source": [
    "answer = True if put_option.early_exercise else False\n",
    "answer"
   ]
  },
  {
   "cell_type": "markdown",
   "metadata": {},
   "source": [
    "### Question 4"
   ]
  },
  {
   "cell_type": "markdown",
   "metadata": {},
   "source": [
    "If your answer to Question 3 is \"Yes\", when is the earliest period at which it might be optimal to early exercise?"
   ]
  },
  {
   "cell_type": "code",
   "execution_count": 7,
   "metadata": {},
   "outputs": [
    {
     "data": {
      "text/plain": [
       "5"
      ]
     },
     "execution_count": 7,
     "metadata": {},
     "output_type": "execute_result"
    }
   ],
   "source": [
    "put_option.early_exercise[0]['Time']"
   ]
  },
  {
   "cell_type": "markdown",
   "metadata": {},
   "source": [
    "### Question 5"
   ]
  },
  {
   "cell_type": "markdown",
   "metadata": {},
   "source": [
    "Do the call and put option prices of Questions 1 and 2 satisfy put-call parity?"
   ]
  },
  {
   "cell_type": "markdown",
   "metadata": {},
   "source": [
    "$No$, the parity is valid only for european options"
   ]
  },
  {
   "cell_type": "markdown",
   "metadata": {},
   "source": [
    "### Question 6"
   ]
  },
  {
   "cell_type": "markdown",
   "metadata": {},
   "source": [
    "Compute the fair value of an American call option with strike K = 110 and maturity n=10 periods where the option is written on a futures contract that expires after 15 periods. \n",
    "\n",
    "The futures contract is on the same underlying security of the previous questions."
   ]
  },
  {
   "cell_type": "code",
   "execution_count": 8,
   "metadata": {},
   "outputs": [],
   "source": [
    "futures_pricing = FuturesPricing(n=periods,\n",
    "                                model=pricing_model,\n",
    "                                q=q)"
   ]
  },
  {
   "cell_type": "code",
   "execution_count": 9,
   "metadata": {
    "scrolled": true
   },
   "outputs": [
    {
     "data": {
      "text/plain": [
       "1.66"
      ]
     },
     "execution_count": 9,
     "metadata": {},
     "output_type": "execute_result"
    }
   ],
   "source": [
    "options_periods = 10\n",
    "is_call = True\n",
    "K = 110\n",
    "is_american = True\n",
    "\n",
    "option_on_futures = OptionsPricing(n=options_periods,\n",
    "                                  model=futures_pricing,\n",
    "                                  r=rfr,\n",
    "                                  q=q,\n",
    "                                  K=K,\n",
    "                                  is_call=is_call,\n",
    "                                  is_american=is_american)\n",
    "round(option_on_futures.price, 2)"
   ]
  },
  {
   "cell_type": "markdown",
   "metadata": {},
   "source": [
    "### Question 7"
   ]
  },
  {
   "cell_type": "markdown",
   "metadata": {},
   "source": [
    "What is the earliest time period in which you might want to exercise the American futures option of Question 6?"
   ]
  },
  {
   "cell_type": "code",
   "execution_count": 10,
   "metadata": {},
   "outputs": [
    {
     "data": {
      "text/plain": [
       "7"
      ]
     },
     "execution_count": 10,
     "metadata": {},
     "output_type": "execute_result"
    }
   ],
   "source": [
    "option_on_futures.early_exercise[0]['Time']"
   ]
  },
  {
   "cell_type": "markdown",
   "metadata": {},
   "source": [
    "### Question 8"
   ]
  },
  {
   "cell_type": "markdown",
   "metadata": {},
   "source": [
    "Compute the fair value of a $chooser$ option which expires after n = 10 periods. At expiration the owner of the chooser gets to choose (at no cost) a European call option or a European put option. The call and put each have strike K = 100 and they mature 5 periods later, i.e. at n=15."
   ]
  },
  {
   "cell_type": "code",
   "execution_count": 11,
   "metadata": {},
   "outputs": [
    {
     "data": {
      "text/plain": [
       "10.81"
      ]
     },
     "execution_count": 11,
     "metadata": {},
     "output_type": "execute_result"
    }
   ],
   "source": [
    "periods = 15\n",
    "K = 100\n",
    "call_option = OptionsPricing(n=periods,\n",
    "                            model=pricing_model,\n",
    "                            r=rfr,\n",
    "                            q=q,\n",
    "                            K=K,\n",
    "                            is_call=True)\n",
    "\n",
    "put_option = OptionsPricing(n=periods,\n",
    "                            model=pricing_model,\n",
    "                            r=rfr,\n",
    "                            q=q,\n",
    "                            K=K,\n",
    "                            is_call=False)\n",
    "\n",
    "chooser_period = 10\n",
    "tree = np.zeros([chooser_period + 1, chooser_period + 1])\n",
    "\n",
    "for i in range(chooser_period, -1, -1):\n",
    "    if i==chooser_period:\n",
    "        for j in range(i + 1):\n",
    "            tree[i, j] = max(call_option.tree[i, j], put_option.tree[i, j])\n",
    "    else:\n",
    "        for j in range(i + 1):\n",
    "            childd = tree[i + 1, j]\n",
    "            childu = tree[i + 1, j + 1]\n",
    "            \n",
    "            price = (q * childu + (1 - q) * childd) / (1 + rfr)\n",
    "            \n",
    "            tree[i, j] = price\n",
    "round(tree[0, 0], 2)"
   ]
  }
 ],
 "metadata": {
  "kernelspec": {
   "display_name": "Python 3",
   "language": "python",
   "name": "python3"
  },
  "language_info": {
   "codemirror_mode": {
    "name": "ipython",
    "version": 3
   },
   "file_extension": ".py",
   "mimetype": "text/x-python",
   "name": "python",
   "nbconvert_exporter": "python",
   "pygments_lexer": "ipython3",
   "version": "3.7.1"
  }
 },
 "nbformat": 4,
 "nbformat_minor": 2
}
