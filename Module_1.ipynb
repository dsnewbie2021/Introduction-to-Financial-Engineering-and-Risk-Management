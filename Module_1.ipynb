{
 "cells": [
  {
   "cell_type": "markdown",
   "metadata": {},
   "source": [
    "## Probability I\n",
    "\n",
    "### Question 1"
   ]
  },
  {
   "cell_type": "markdown",
   "metadata": {},
   "source": [
    "Suppose you toss a fair coin $10$ times, and random variable $X$ is the number of heads in total.  What's the mathematical expectation of $X$?"
   ]
  },
  {
   "cell_type": "markdown",
   "metadata": {},
   "source": [
    "Random variable $X$ follows binomial distribution with $n=10$ and $p=1/2$. So we have \n",
    "$$\n",
    "E[X]=np=5\n",
    "$$."
   ]
  },
  {
   "cell_type": "markdown",
   "metadata": {},
   "source": [
    "### Question 2"
   ]
  },
  {
   "cell_type": "markdown",
   "metadata": {},
   "source": [
    "What is the variance of $X$?"
   ]
  },
  {
   "cell_type": "markdown",
   "metadata": {},
   "source": [
    "$$Var(X)=np(1−p)=2.5$$"
   ]
  },
  {
   "cell_type": "markdown",
   "metadata": {},
   "source": [
    "### Question 3"
   ]
  },
  {
   "cell_type": "markdown",
   "metadata": {},
   "source": [
    "Suppose you toss two fair 6-face dice, and you get $Y_1$\n",
    " and $Y_2$. Let $Y=Y_1+Y_2$. Find the conditional probability $P(Y_2\\geq 4\\mid Y_1\\leq 7)$. Round your answer to 3 decimal places."
   ]
  },
  {
   "cell_type": "markdown",
   "metadata": {},
   "source": [
    "For $X≤7$, there are $6+5+4+3+2+1=21$ cases in total: \n",
    "$(Y_1,Y_2)=(1,1...6),(2,1...5),(3,1...4),(4,1...3),(5,1...2),(6,1)$. And there are 6 cases satisfies $Y_2\\geq 4$, so the conditional probability is: \n",
    "$(Y_1,Y_2)=(1,4..6),(2,4..5),(3,4)$, so the conditional probability is \n",
    "$$\n",
    "P[Y_2 \\geq 4|X \\leq 7] = \\frac{6}{21} = \\frac{2}{7} \\approx 0.286\n",
    "$$"
   ]
  },
  {
   "cell_type": "markdown",
   "metadata": {},
   "source": [
    "### Question 4"
   ]
  },
  {
   "cell_type": "markdown",
   "metadata": {},
   "source": [
    "Question 4\n",
    "Suppose continuous random variable $X$ follows exponential distribution with parameter $λ=1$, i.e., \n",
    "$X∼exp(1)$. Which is the correct answer for conditional probability $P(X\\geq 3\\mid X\\geq 1)$\n"
   ]
  },
  {
   "cell_type": "markdown",
   "metadata": {},
   "source": [
    "Apply Bayes' Theorem, we have \n",
    "$$\n",
    "P[X \\geq 3|X \\geq 1] = \\frac{P[X \\geq 3,X \\geq 1]}{P[X \\geq 1]} = \\frac{P[X \\geq 3]}{P[X \\geq 1]}\n",
    "$$\n",
    "\n",
    "CDF for exponential distribution is \n",
    "$$\n",
    "P[X \\leq x] = 1-e^{-\\lambda x}\n",
    "$$\n",
    "\n",
    "So \n",
    "$$\n",
    "P[X \\geq 3] = e^{-3}\n",
    "$$ \n",
    "and \n",
    "$$\n",
    "P[X \\geq 1] = e^{-1}\n",
    "$$\n",
    "\n",
    "then we have \n",
    "$$\n",
    "P[X \\geq 3|X \\geq 1] = \\frac{e^{-3}}{e^{-1}} = e^{-2}\n",
    "$$\n",
    "\n",
    "Actually the answer is equivalent with \n",
    "$$\n",
    "P[X \\geq 2] = e^{-2}\n",
    "$$ \n",
    "because of the memorylessness property of exponential distribution."
   ]
  },
  {
   "cell_type": "markdown",
   "metadata": {},
   "source": [
    "### Question 5"
   ]
  },
  {
   "cell_type": "markdown",
   "metadata": {},
   "source": [
    "Suppose continuous random variable $X$ follows a normal distribution with mean $2$ and variance $4$, i.e. $X∼N(2,4)$. What is the mathematical expectation of $e^X$? Round your answer to 1 decimal.\n",
    "\n",
    "Think about why this is larger or smaller than $e^{E[X]}$."
   ]
  },
  {
   "cell_type": "markdown",
   "metadata": {},
   "source": [
    "$$\n",
    "E[e^X] = e^{E[X]+Var(X)/2} = e^{2+4/2} = e^4 = 54.60\n",
    "$$\n",
    "\n",
    "This is larger than \n",
    "$$\n",
    "e^{E[X]} = e^2\n",
    "$$ \n",
    "Hint: Jensen's inequality."
   ]
  },
  {
   "cell_type": "markdown",
   "metadata": {},
   "source": [
    "### Question 6"
   ]
  },
  {
   "cell_type": "markdown",
   "metadata": {},
   "source": [
    "Question 6\n",
    "Suppose $X$ is a continuous random variable with mean $1$ and variance $4$, $Y$ is a standard normal random variable, that is $Y∼N(0,1)$. Assume $X$ and $Y$ are independent. What is the mathematical expectation of $Xexp(Y)$? Round your answer to 2 decimal places."
   ]
  },
  {
   "cell_type": "markdown",
   "metadata": {},
   "source": [
    "Apply conditional expectation identity (tower property), we have \n",
    "$$\n",
    "E[Xe^Y] = E[E[Xe^Y|X]] = E[XE[e^Y|X]] = E[XE[e^Y]]\n",
    "$$\n",
    "\n",
    "The last equality part is because $X,Y$ are independent. We know that \n",
    "$$\n",
    "E[e^Y] = e^{0+1/2} = e^{0.5}\n",
    "$$\n",
    "so \n",
    "$$\n",
    "E[Xe^Y] = E[e^{0.5}X] = e^{0.5} = 1.65\n",
    "$$"
   ]
  },
  {
   "cell_type": "markdown",
   "metadata": {},
   "source": [
    "### Question 7"
   ]
  },
  {
   "cell_type": "markdown",
   "metadata": {},
   "source": [
    "What is the variance of $Xexp(Y)$? Round your answer to 2 decimal places."
   ]
  },
  {
   "cell_type": "markdown",
   "metadata": {},
   "source": [
    "Apply conditional variance identity: \n",
    "$$\n",
    "Var(Xe^Y) = Var(E[Xe^Y|X]) + E[Var(Xe^Y|X)]\n",
    "$$\n",
    "\n",
    "From question 6, we know \n",
    "$$\n",
    "E[Xe^Y|X] = Xe^{0.5}\n",
    "$$\n",
    "so \n",
    "$$\n",
    "Var(E[Xe^Y|X]) = (e^{0.5})^2 Var(X) = 4e\n",
    "$$\n",
    "\n",
    "Following the same logic in question 6, we have \n",
    "$$\n",
    "Var(Xe^Y|X) = X^2Var(e^Y|X) = X^2Var(e^Y) = X^2e^{2*0+1}(e^1-1) = X^2e(e-1)\n",
    "$$\n",
    "so \n",
    "$$\n",
    "E[Var(Xe^Y|X)] = e(e-1)E[X^2] = 5e(e-1)\n",
    "$$\n",
    "\n",
    "Therefore we have \n",
    "$$\n",
    "Var(Xe^Y) = 4e + 5e^2-5e = 5e^2-e = 34.23\n",
    "$$"
   ]
  },
  {
   "cell_type": "markdown",
   "metadata": {},
   "source": [
    "## Probability II\n",
    "\n",
    "### Question 1"
   ]
  },
  {
   "cell_type": "markdown",
   "metadata": {},
   "source": [
    "Suppose $X,Y$ are two continuous random variables, with joint PDF $f_{X,Y}(x,y)>0$ and joint CDF $F_{X,Y}(x,y)$. In addition, $X$ has marginal PDF $f_X(x)>0$ and marginal CDF $F_X(x)$; $Y$ has marginal PDF $f_Y(y)>0$ and marginal CDF $F_Y(y)$. Which statement(s) is/are equivalent to $X$ is independent with $Y$? Select all that apply.\n",
    "\n",
    "- [ ]  $P[X<3,Y<1]=P[X<3]P[Y<1]$\n",
    "- [x]  For joint and marginal CDFs, $F_{X,Y}(x,y)=F_X(x)F_Y(y)$\n",
    "- [ ]  For covariance, $Cov(X,Y)=0$\n",
    "- [ ]  $X$ and $Y$ is conditional independent give another random variable $Z$\n",
    "- [x]  For joint and marginal PDFs, $f_{X,Y}(x,y)=f_X(x)f_Y(y)$\n",
    "- [x]  For conditional PDFs, $f_{X|Y}(x|y)=f_X(x)$"
   ]
  },
  {
   "cell_type": "markdown",
   "metadata": {},
   "source": [
    "### Question 2"
   ]
  },
  {
   "cell_type": "markdown",
   "metadata": {},
   "source": [
    "Suppose $X$ follows a bivariate normal distribution $N(\\mu,\\Sigma)$, with $\\mu=[0,0]$ and $\\Sigma_{1,1}=1,\\Sigma_{1,2}=1,\\Sigma_{2,1}=1,\\Sigma_{2,2}=2$. Which one of the following choices is the correct expression of the PDF of $X=(X_1,X_2)$?\n",
    "\n",
    "&#9675; $$f_X(x_1,x_2)=\\frac{1}{\\sqrt{2\\pi}}e^{-\\frac{1}{2}(2x_1^2-2x_1x_2+x_2^2)}$$\n",
    "\n",
    "&#9679; $$f_X(x_1,x_2)=\\frac{1}{2\\pi}e^{-\\frac{1}{2}(x_1^2-2x_1x_2+2x_2^2)}$$\n",
    "\n",
    "&#9675; $$f_X(x_1,x_2)=\\frac{1}{2\\pi}e^{-\\frac{1}{2}(2x_1^2-2x_1x_2+x_2^2)}$$\n",
    "\n",
    "&#9675; $$f_X(x_1,x_2)=\\frac{1}{2\\pi}e^{-\\frac{1}{2}(x_1^2-2x_1x_2+x_2^2)}$$"
   ]
  },
  {
   "cell_type": "markdown",
   "metadata": {},
   "source": [
    "The inverse matrix $\\Sigma^{-1}$ is: $\\Sigma_{1,1}^{-1}=2,\\Sigma_{1,2}^{-1}=-1,\\Sigma_{2,1}^{-1}=-1,\\Sigma_{2,2}^{-1}=1$. So $(x-\\mu)^T\\Sigma^{-1}(x-\\mu)=2x_1^2-2x_1x_2+x_2^2$. Besides, $|\\Sigma|=1*2-1*1=1$. So we have:\n",
    "$$\n",
    "f_X(x_1,x_2)=\\frac{1}{2\\pi}e^{-\\frac{1}{2}(2x_1^2-2x_1x_2+x_2^2)}\n",
    "$$"
   ]
  },
  {
   "cell_type": "markdown",
   "metadata": {},
   "source": [
    "### Question 3"
   ]
  },
  {
   "cell_type": "markdown",
   "metadata": {},
   "source": [
    "Suppose $X$ and $Y$ are two standard normal random variables, i.e. $X,Y∼N(0,1)$, with covariance $0.8$. What is $E[X∣Y=1]$?"
   ]
  },
  {
   "cell_type": "markdown",
   "metadata": {},
   "source": [
    "We can decompose $Y=Z_1$ and $X=\\rho Z_1+\\sqrt{1-\\rho^2}Z_2=0.8Z_1+0.6Z_2$ with independent standard normal random variables $Z_1,Z_2$. So $Y=1$ means $Z_1=1$. Therefore:\n",
    "$$\n",
    "E[X|Y=1]=E[0.8Z_1+0.6Z_2|Z_1=1]=0.8\n",
    "$$"
   ]
  },
  {
   "cell_type": "markdown",
   "metadata": {},
   "source": [
    "### Question 4"
   ]
  },
  {
   "cell_type": "markdown",
   "metadata": {},
   "source": [
    "Suppose random process $X_n$ is a martingale. Which of the following statement(s) is/are true? Select all that apply.\n",
    "\n",
    "- [x]  For unconditional mean, $E[|X_n|]<\\infty$\n",
    "- [x]  For unconditional mean, $E[X_n]=E[X_0]$\n",
    "- [ ]  For conditional mean, $E[X_n|F_m]=E[X_t|F_s]$, for any $n>m>0,t>s>0$\n",
    "- [x]  For conditional mean, $E[X_{n+m}|F_n]=X_n$"
   ]
  },
  {
   "cell_type": "markdown",
   "metadata": {},
   "source": [
    "Explanation:\n",
    "\n",
    "Following the definition of martingale, $E[X_{n+m}|F_n]=X_n$. Take expectation again and apply Tower property (conditional expectation identity), we have:\n",
    "$$\n",
    "E[E[X_{n+m}|F_n]]=E[X_{n+m}]=E[X_n]\n",
    "$$\n",
    "Take $m=0$ we have:\n",
    "$$\n",
    "E[X_m]=E[X_0]\n",
    "$$"
   ]
  },
  {
   "cell_type": "markdown",
   "metadata": {},
   "source": [
    "### Question 5"
   ]
  },
  {
   "cell_type": "markdown",
   "metadata": {},
   "source": [
    "Suppose you are tossing a fair coin to bet. At each time your gain is $X_i$. The rule is: (i) if you get heads at $i$-th toss, $X_i=$'1$'; (ii) if you get tails at $i$-th toss, $X_i=$'−1$'. Let $W_n =X_1 +X_2 +⋯+X_n$ with $W_0=0$. Note that $W_n$ represents your total wealth after $n$ tosses.\n",
    "\n",
    "Suppose after 100 tosses you have '12$', that is $W_100 =12$. What is your expected wealth if you do another $100$ tosses, that is $E[W_{200}|W_{100}=12]$?"
   ]
  },
  {
   "cell_type": "markdown",
   "metadata": {},
   "source": [
    "$X_i$ is a random walk, and corresponding $W_n$ is a martingale. Follow the definition of martingale, \n",
    "$$E[W_{200}|W_{100}=12]=W_{100}=12$$\n"
   ]
  },
  {
   "cell_type": "markdown",
   "metadata": {},
   "source": [
    "### Question 6"
   ]
  },
  {
   "cell_type": "markdown",
   "metadata": {},
   "source": [
    "Consider an urn which contains red balls and green balls. Initially there is just one green ball and one red ball in the urn. At each time step a ball is chosen randomly from the urn: (i) If the ball is red, then it's returned to the urn with an additional red ball; (ii) if the ball is green, then it's returned to the urn with an additional green ball.\n",
    "\n",
    "Let $X_n$ denote the number of red balls in the urn after $n$ draws. Suppose after 100 draws, there are 70 red balls, that is $X_{100}=70$. What is the expected number of red balls in the urn after another 100 draws, that is $E[X_{200}|X_{100}=70]$? Round your answer to the nearest integer.\n",
    "\n",
    "Hint: consider $Y_n={X_n}/{(n+2)}$"
   ]
  },
  {
   "cell_type": "markdown",
   "metadata": {},
   "source": [
    "It can be shown that $Y_n={X_n}/{(n+2)}$ is a martingale. So we have:\n",
    "$$\n",
    "E[Y_{200}|Y_{100}=\\frac{70}{102}]=\\frac{70}{102}\n",
    "$$\n",
    "Then:\n",
    "$$\n",
    "X_{200}=Y_{200}*202=70*\\frac{202}{102}=138.62\\approx139\n",
    "$$"
   ]
  },
  {
   "cell_type": "markdown",
   "metadata": {},
   "source": [
    "## Brownian Motion, Vector\n",
    "### Question 1"
   ]
  },
  {
   "cell_type": "markdown",
   "metadata": {},
   "source": [
    "Suppose $X_t$ is a standard Brownian motion. What is $E[X_t|X_s=1]$ for $t>s>0$?"
   ]
  },
  {
   "cell_type": "markdown",
   "metadata": {},
   "source": [
    "Standard Brownian motion is martingale. So $E[X_t|X_s=1] = X_s = 1$"
   ]
  },
  {
   "cell_type": "markdown",
   "metadata": {},
   "source": [
    "### Question 2"
   ]
  },
  {
   "cell_type": "markdown",
   "metadata": {},
   "source": [
    "What is $E[X_{s+1}^{2}|X_s=1]$ for $s>0$?"
   ]
  },
  {
   "cell_type": "markdown",
   "metadata": {},
   "source": [
    "Decompose $X_{s+1}=(X_{s+1}-X_s)+X_s$, we have:\n",
    "$$\n",
    "E[X_{s+1}^2|X_s]=E[(X_{s+1}-X_s)^2|X_s]+2X_sE[X_{s+1}-X_s|X_s]+X_s^2\n",
    "$$\n",
    "\n",
    "Independent increment means $X_{s+1}-X_s$ is independent with $X_s=X_s-X_0$. In addition, $X_{s+1}-X_s\\sim N(0,1)$. Therefore:\n",
    "$$\n",
    "E[(X_{s+1}-X_s)^2|X_s]=E[(X_{s+1}-X_s)^2]=1\n",
    "$$\n",
    "and\n",
    "$$\n",
    "E[X_{s+1}-X_s|X_s]=E[X_{s+1}-X_s]=0\n",
    "$$\n",
    "\n",
    "So:\n",
    "$$\n",
    "E[X_{s+1}^2|X_s=1]=1+2*1*0+1^2=2\n",
    "$$"
   ]
  },
  {
   "cell_type": "markdown",
   "metadata": {},
   "source": [
    "### Question 3"
   ]
  },
  {
   "cell_type": "markdown",
   "metadata": {},
   "source": [
    "Given $X_1 = 1$, what is the probability of $X_{3}<2$? Round your answer to 2 digits."
   ]
  },
  {
   "cell_type": "markdown",
   "metadata": {},
   "source": [
    "Following definition of Brownian motion, $X_3-X_1\\sim N(0,2)$. So:\n",
    "$$\n",
    "P[X_3<2]=P[X_3-X_1<1]=N(\\frac{1}{\\sqrt{2}})\\approx0.76\n",
    "$$"
   ]
  },
  {
   "cell_type": "markdown",
   "metadata": {},
   "source": [
    "### Question 4"
   ]
  },
  {
   "cell_type": "markdown",
   "metadata": {},
   "source": [
    "Suppose $X_t$ is a geometric Brownian motion with $0<μ<+∞$. Which one of the following statements is true?\n",
    "\n",
    "&#9675; $X_t$ is a martingale.\n",
    "\n",
    "&#9675; $X_{t}^{2}$ is a martingale.\n",
    "\n",
    "&#9675; $X_t$ is a supermartingale.\n",
    "\n",
    "&#9679; $X_t$ is a submartingale."
   ]
  },
  {
   "cell_type": "markdown",
   "metadata": {},
   "source": [
    "Following the definition of geometric Brownian motion, we have:\n",
    "$$\n",
    "E[X_{t+s}|F_t]=e^{\\mu s}X_t\n",
    "$$\n",
    "for $s,t>0$. For $0<\\mu<+\\infty$, we have:\n",
    "$$\n",
    "1<e^{\\mu s}<+\\infty\n",
    "$$\n",
    "So:\n",
    "$$\n",
    "E[X_{t+s}|F_t]>X_t\n",
    "$$\n",
    "which is the definition of submartingale."
   ]
  },
  {
   "cell_type": "markdown",
   "metadata": {},
   "source": [
    "### Question 5"
   ]
  },
  {
   "cell_type": "markdown",
   "metadata": {},
   "source": [
    "Suppose $X_t$ is a geometric Brownian motion with $μ=1,σ^2=1$. Given $X_1 =1$, find the probability of $X_3 <3$. Round your answer to 2 digits."
   ]
  },
  {
   "cell_type": "markdown",
   "metadata": {},
   "source": [
    "Following the definition of geometric Brownian motion, we have:\n",
    "$$\n",
    "\\log(\\frac{X_3}{X_1})\\sim N((\\mu-\\frac{1}{2}\\sigma^2)*2,\\sigma^2*2)=N(1,2)\n",
    "$$\n",
    "So we have:\n",
    "$$\n",
    "P[X_3<3]=P[\\log(\\frac{X_3}{X_1})<\\log 3]=N(\\frac{\\log 3-1}{\\sqrt{2}})\\approx N(0.06973)\\approx0.53\n",
    "$$"
   ]
  },
  {
   "cell_type": "markdown",
   "metadata": {},
   "source": [
    "### Question 6"
   ]
  },
  {
   "cell_type": "markdown",
   "metadata": {},
   "source": [
    "Suppose we have $v_1 =[1,1,1]^{T}$, $v_2 =[1,0,1]^{T}$, $v_3 =[2,1,2]^{T}$, which of the following statements is/are true? Select all that apply.\n",
    "\n",
    "- [x]  $v_1$ and $v_3$ are linearly independent.\n",
    "​\n",
    "- [x]  $v_2$ and $v_3$  are linearly independent.\n",
    "\n",
    "- [x]  $v_1$ and $v_2$  are linearly independent.\n",
    "\n",
    "- [ ]  $v_1$, $v_2$ and $v_3$  are linearly independent.\n",
    "\n",
    "- [x]  $v_1$ is linearly dependent on both $v_2$ and $v_3$.\n",
    "\n",
    "\n"
   ]
  },
  {
   "cell_type": "markdown",
   "metadata": {},
   "source": [
    "### Question 7"
   ]
  },
  {
   "cell_type": "markdown",
   "metadata": {},
   "source": [
    "Which of the following statements about basis in linear space is/are correct? Select all that apply.\n",
    "\n",
    "- [ ]  For vectors $v_1$, $v_2$ in a basis of $R^{10}$, they must $||v_1||=||v_2||=1$.\n",
    "​\n",
    "- [x]  Zero vector $0$ cannot be one of the basis vectors.\n",
    "\n",
    "- [x]  $v_1=[1, 1, 1]^{T}$, $v_2=[1, 0, 1]^{T}]$, $v_3=[1, 1, 0]^{T}$ can be a basis of $R^{3}$.\n",
    "\n",
    "- [ ]  For vectors $v_1$, $v_2$ in a basis of $R^{10}$, so they must satisfy $v_{1}^{T}v_{2}=0$.\n",
    "\n",
    "- [x]  Basis for $R^{5}$ must have exactly $5$ vectors.\n",
    "\n",
    "- [ ]  $v_1=[1, 1, 1]^{T}$, $v_2=[1, 0, 1]^{T}]$, $v_3=[2, 1, 2]^{T}$ can be a basis of $R^{3}$."
   ]
  },
  {
   "cell_type": "markdown",
   "metadata": {},
   "source": [
    "### Question 8"
   ]
  },
  {
   "cell_type": "markdown",
   "metadata": {},
   "source": [
    "Suppose $v_1$ is a vector of all entries 1 in $R^n$ space, which we call \"1-vector\". What is $||v_1||_2$($l_2$ norm) for $n=16$?"
   ]
  },
  {
   "cell_type": "markdown",
   "metadata": {},
   "source": [
    "For $n=16$, the $l_2$ norm is:\n",
    "$$\n",
    "||v_1||_2 = \\sqrt{\\sum_{i=1}^n 1^2} = \\sqrt{16} = 4\n",
    "$$"
   ]
  },
  {
   "cell_type": "markdown",
   "metadata": {},
   "source": [
    "### Question 9"
   ]
  },
  {
   "cell_type": "markdown",
   "metadata": {},
   "source": [
    "Suppose we have $v_1 =[1,1,0]^{T}$, $v_2 =[1,0,1]^{T}$, what is the angle between $v_1$, and $v_2$ ? Your answer should be in degree, and in the range of 0 to 180."
   ]
  },
  {
   "cell_type": "markdown",
   "metadata": {},
   "source": [
    "Given vectors:\n",
    "$$\n",
    "v_1 = \\begin{bmatrix} 1 \\\\ 1 \\\\ 0 \\end{bmatrix}, \\quad v_2 = \\begin{bmatrix} 1 \\\\ 0 \\\\ 1 \\end{bmatrix}\n",
    "$$\n",
    "\n",
    "The angle θ between two vectors can be calculated using:\n",
    "$$\n",
    "\\cos \\theta = \\frac{v_1 \\cdot v_2}{||v_1|| \\cdot ||v_2||} = \\frac{1 \\cdot 1 + 1 \\cdot 0 + 0 \\cdot 1}{\\sqrt{1^2 + 1^2 + 0^2} \\cdot \\sqrt{1^2 + 0^2 + 1^2}} = \\frac{1}{\\sqrt{2} \\cdot \\sqrt{2}} = \\frac{1}{2}\n",
    "$$\n",
    "\n",
    "Therefore:\n",
    "$$\n",
    "\\theta = \\arccos(\\frac{1}{2}) = 60°\n",
    "$$"
   ]
  },
  {
   "cell_type": "markdown",
   "metadata": {},
   "source": [
    "## Matrix\n",
    "### Question 1"
   ]
  },
  {
   "cell_type": "markdown",
   "metadata": {},
   "source": [
    "Suppose $A,B$ are two matrices in $R^{n×n}$, and $I$ is the identity matrix in $R^{n×n}$.  Which of the following statements is/are true? Select all that apply.\n",
    "\n",
    "- [x]  If we define $C=A^{T}A$, then $C^{T}=C$.\n",
    "​\n",
    "- [x]  For identify matrix, we have $AI = IA = A$.\n",
    "\n",
    "- [ ]  Matrix multiplication is interchangeable, i.e. $AB=BA$.\n",
    "\n",
    "- [x]  For matrix transpose, we have $(AB)^{T}=B^{T}A^{T}$.\n",
    "\n",
    "- [ ]  If we define $C=AA$, then $C^{T}=C$."
   ]
  },
  {
   "cell_type": "markdown",
   "metadata": {},
   "source": [
    "We have $C^{T} =(A^{T}A)^{T} =A^{T}(A^{T})^{T} =A^{T}A=C$."
   ]
  },
  {
   "cell_type": "markdown",
   "metadata": {},
   "source": [
    "### Question 2"
   ]
  },
  {
   "cell_type": "markdown",
   "metadata": {},
   "source": [
    "For a linear function $f:R^n \\rightarrow R^m$, which of the following statements is/are true? Select all that apply.\n",
    "\n",
    "- [x]  For zero vectors $0_n$ in $R^n$ and $0_m$ in $R^m$, we have $f(0_n)=0_m$.\n",
    "\n",
    "- [x]  For any $x$ in $R^n$, define $g(x)=2x+c$, where $c$ is a non-zero vector in $R^n$. Then $g$ is a linear function defined on $g:R^n \\rightarrow R^n$.\n",
    "\n",
    "- [x]  Take $n=3,m=1$ and: $v_1 = [1, 1, 1]^{T}$, $v_2 = [1, 0, 1]^{T}$, $v_3 = [2, 1, 2]^{T}$. Suppose $f(v_1)=1$ and $f(v_2)=-3$. We must have $f(v_3)=-1$.\n",
    "\n",
    "- [x]  There exists matrix $A$ in $R^{n×n}$ so that for any $x$ in $R^n$, $f(x)=Ax$."
   ]
  },
  {
   "cell_type": "markdown",
   "metadata": {},
   "source": [
    "### Question 3"
   ]
  },
  {
   "cell_type": "markdown",
   "metadata": {},
   "source": [
    "Suppose we have a matrix $\n",
    "A = \\begin{bmatrix} \n",
    "1 & 1 & 1 \\\\\n",
    "1 & 0 & 1 \\\\\n",
    "2 & 1 & 2\n",
    "\\end{bmatrix}\n",
    "$. What is rank of $A$?\n"
   ]
  },
  {
   "cell_type": "markdown",
   "metadata": {},
   "source": [
    "$$\n",
    "A = \\begin{bmatrix} \n",
    "1 & 1 & 1 \\\\\n",
    "1 & 0 & 1 \\\\\n",
    "2 & 1 & 2\n",
    "\\end{bmatrix} \\xrightarrow{R_2 = R_2 - R_1} \\xrightarrow{R_3 = R_3 - 2R_1}\n",
    "\\begin{bmatrix}\n",
    "1 & 1 & 1 \\\\\n",
    "0 & -1 & 0 \\\\\n",
    "0 & -1 & 0\n",
    "\\end{bmatrix}\n",
    "$$"
   ]
  },
  {
   "cell_type": "markdown",
   "metadata": {},
   "source": [
    "### Question 4"
   ]
  },
  {
   "cell_type": "markdown",
   "metadata": {},
   "source": [
    "For a matrix $A$ in $R^{m×n}$, which of the following statements is/are true? Select all the apply.\n",
    "\n",
    "- [x]  Column rank of $A$ = row rank of $A$.\n",
    "​\n",
    "- [x]  If rank$(A)=m$, then range $(A)=R^m$.\n",
    "\n",
    "- [ ]  Column rank of $A$ $\\neq$  row rank of $A$.\n",
    "\n",
    "- [ ]  If $m=n$, then rank $(A)=n$ cannot imply $A$ is invertible."
   ]
  },
  {
   "cell_type": "markdown",
   "metadata": {},
   "source": [
    "## Optimization\n",
    "### Question 1"
   ]
  },
  {
   "cell_type": "markdown",
   "metadata": {},
   "source": [
    "If Alice wants to construct a hedging strategy via optimization, which of the following statements is/are true? Select all that apply.\n",
    "\n",
    "- [x] Alice should specify whether short position is allowed by constraints.\n",
    "\n",
    "- [ ] Alice does not need to specify short position, since long-only strategy will generate the same result as strategy allowing short positions.\n",
    "\n",
    "- [x] Alice should use the positions in each portfolio as variables."
   ]
  },
  {
   "cell_type": "markdown",
   "metadata": {},
   "source": [
    "### Question 2"
   ]
  },
  {
   "cell_type": "markdown",
   "metadata": {},
   "source": [
    "For primal linear program $P=min_{x}c^{T}x$, subject to $Ax\\geq b$, with $c = [1, -1]^{T}$, $x=[x_1, x_2]^{T}$, $A = \\begin{bmatrix} 1 & -1 \\\\ 2 & 1 \\end{bmatrix}$, $b = [1, 1]^{T}$. Suppose the variable in dual program is $u=[u_1, u_2]^{T}$ . Which one is the objective function in the dual program?\n",
    "\n",
    "&#9675; $u_1 + 2u_2$.\n",
    "\n",
    "&#9675; $-u_1 + u_2$.\n",
    "\n",
    "&#9675; $u_1 - u_2$.\n",
    "\n",
    "&#9679; $u_1 + u_2$.\n"
   ]
  },
  {
   "cell_type": "markdown",
   "metadata": {},
   "source": [
    "### Question 3"
   ]
  },
  {
   "cell_type": "markdown",
   "metadata": {},
   "source": [
    "Which of the following options is/are the constraint(s) in dual program? Select all that apply.\n",
    "\n",
    "- [x] $u_{2} \\geq 0$\n",
    "\n",
    "- [x] $u_{1} \\geq 0$\n",
    "\n",
    "- [x] $u_{1}+2u_{2} = 1$\n",
    "\n",
    "- [x] $-u_{1}+u_{2} = -1$\n"
   ]
  },
  {
   "cell_type": "markdown",
   "metadata": {},
   "source": [
    "### Question 4"
   ]
  },
  {
   "cell_type": "markdown",
   "metadata": {},
   "source": [
    "From the constrains, you can solve for $u_1$ and $u_2$. Suppose strong duality holds, what is the optimal value of the primal linear program $P$?"
   ]
  },
  {
   "cell_type": "markdown",
   "metadata": {},
   "source": [
    "From equality constraints we can solve $u_1=1$, $u_2=0$, and they satisfies the inequality constraints $u_1$, $u_2\\geq 0$. Strong duality means $P=D=b^Tu=1∗1+1∗0=1$."
   ]
  },
  {
   "cell_type": "markdown",
   "metadata": {},
   "source": [
    "### Question 5"
   ]
  },
  {
   "cell_type": "markdown",
   "metadata": {},
   "source": [
    "For an optimization problem $\\min_{x \\in R^n} f(x)$, which of the following statements is/are true? Select all that apply.\n",
    "\n",
    "- [x] Global minimum must also be local minimum.\n",
    "\n",
    "- [x] If $f(y) \\geq f(x^*)$ with $\\|y-x^*\\| \\leq r$ for a certain $r>0$, then $x^*$ is the local minimum.\n",
    "\n",
    "- [ ] If $f(y) \\geq f(x^*)$ with $\\|y-x^*\\| \\leq r$ for any $r>0$, then $x^*$ is the local minimum but not the global minimum.\n",
    "\n",
    "- [x] If $f(y) \\geq f(x^*)$ for any $y$ in $R^n$, then $x^*$ is the global minimum."
   ]
  },
  {
   "cell_type": "markdown",
   "metadata": {},
   "source": [
    "### Question 6"
   ]
  },
  {
   "cell_type": "markdown",
   "metadata": {},
   "source": [
    "What is the local minimum value of $f(x_1, x_2)=x_{1}^{2}+2x_{1}x_{2}+x_{2}^{3}$, Round your answer to two digits."
   ]
  },
  {
   "cell_type": "markdown",
   "metadata": {},
   "source": [
    "Gradient conditions: \n",
    "$$\n",
    "2x_1+2x_2=0, 2x_1+3x_2^2=0\n",
    "$$\n",
    "So:\n",
    "$$\n",
    "(x_1,x_2)=(0,0) \\text{ or } (-\\frac{2}{3},\\frac{2}{3})\n",
    "$$\n",
    "\n",
    "For $(x_1,x_2)=(0,0)$: Hessian:\n",
    "$$\n",
    "H=\\begin{bmatrix} \n",
    "2 & 2 \\\\\n",
    "2 & 6x_2\n",
    "\\end{bmatrix}=\\begin{bmatrix}\n",
    "2 & 2 \\\\\n",
    "2 & 0\n",
    "\\end{bmatrix}\n",
    "$$\n",
    "which is not positive semi-definite (determinant is -2). So $(0,0)$ is not local minima.\n",
    "\n",
    "For $(x_1,x_2)=(-\\frac{2}{3},\\frac{2}{3})$: Hessian:\n",
    "$$\n",
    "H=\\begin{bmatrix}\n",
    "2 & 2 \\\\\n",
    "2 & 6x_2\n",
    "\\end{bmatrix}=\\begin{bmatrix}\n",
    "2 & 2 \\\\\n",
    "2 & 4\n",
    "\\end{bmatrix}\n",
    "$$\n",
    "which is positive semi-definite (trace = 6>0, determinant = 4 >0). So $(-\\frac{2}{3},\\frac{2}{3})$ is local minima.\n",
    "\n",
    "So local minimum value is:\n",
    "$$\n",
    "f(-\\frac{2}{3},\\frac{2}{3})=-\\frac{4}{27}\\approx-0.15\n",
    "$$"
   ]
  },
  {
   "cell_type": "markdown",
   "metadata": {},
   "source": [
    "### Question 7"
   ]
  },
  {
   "cell_type": "markdown",
   "metadata": {},
   "source": [
    "What is the global maximum value of $f(x_1, x_2) = ln{x_1}+ln{x_2}$ with constraint $2x_1 + 3x_2 = 6$? Round your answer to two digits.\n"
   ]
  },
  {
   "cell_type": "markdown",
   "metadata": {},
   "source": [
    "Apply Lagrangian method: \n",
    "$$\n",
    "g(x_1,x_2,\\lambda) = \\ln x_1 + \\ln x_2 - \\lambda(2x_1+3x_2-6)\n",
    "$$\n",
    "\n",
    "Gradient conditions: \n",
    "$$\n",
    "\\frac{1}{x_1}=2\\lambda, \\frac{1}{x_2}=3\\lambda, 2x_1+3x_2=6\n",
    "$$\n",
    "\n",
    "which yields:\n",
    "$$\n",
    "x_1=1.5, x_2=1, \\lambda=\\frac{1}{3}\n",
    "$$\n",
    "\n",
    "This is a convex problem, so Lagrangian yields global maximum, so:\n",
    "$$\n",
    "f_{max}(x_1,x_2)=\\ln 1.5 \\approx 0.4055\n",
    "$$\n",
    "\n",
    "with constraint:\n",
    "$$\n",
    "2x_1+3x_2=6\n",
    "$$"
   ]
  }
 ],
 "metadata": {
  "kernelspec": {
   "display_name": "Python 3",
   "language": "python",
   "name": "python3"
  },
  "language_info": {
   "codemirror_mode": {
    "name": "ipython",
    "version": 3
   },
   "file_extension": ".py",
   "mimetype": "text/x-python",
   "name": "python",
   "nbconvert_exporter": "python",
   "pygments_lexer": "ipython3",
   "version": "3.11.7"
  }
 },
 "nbformat": 4,
 "nbformat_minor": 2
}
