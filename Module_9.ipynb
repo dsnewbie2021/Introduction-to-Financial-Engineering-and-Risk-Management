{
 "cells": [
  {
   "cell_type": "markdown",
   "metadata": {},
   "source": [
    "## Mean-Variance Analysis and CAPM\n",
    "\n",
    "Consider a market with $d=3$ risky assets and 1 risk-free asset with the following parameters:\n",
    "\n",
    "$$\n",
    "\\mu = \\begin{bmatrix} \n",
    "6\\% \\\\\n",
    "2\\% \\\\\n",
    "4\\%\n",
    "\\end{bmatrix}, \\quad\n",
    "V = \\begin{bmatrix}\n",
    "8.0 & -2.0 & 4.0 \\\\\n",
    "-2.0 & 2.0 & -2.0 \\\\\n",
    "4.0 & -2.0 & 8.0\n",
    "\\end{bmatrix} \\times 10^{-3}, \\quad r_f = 1\\%\n",
    "$$"
   ]
  },
  {
   "cell_type": "code",
   "execution_count": 1,
   "metadata": {},
   "outputs": [],
   "source": [
    "%load_ext autoreload\n",
    "%autoreload 2\n",
    "%matplotlib inline\n",
    "\n",
    "import pandas as pd\n",
    "import numpy as np\n",
    "import risk_kit as rk\n",
    "from portfolio import MeanVarPortfolio"
   ]
  },
  {
   "cell_type": "code",
   "execution_count": 2,
   "metadata": {},
   "outputs": [],
   "source": [
    "mu = np.array([6, 2, 4]) / 100\n",
    "V = np.array([[8.0, -2.0, 4.0],\n",
    "              [-2.0, 2.0, -2.0],\n",
    "              [4.0, -2.0, 8.0]]) * 10 ** -3\n",
    "rf = 1/100"
   ]
  },
  {
   "cell_type": "code",
   "execution_count": 3,
   "metadata": {},
   "outputs": [
    {
     "data": {
      "text/plain": [
       "<Axes: xlabel='Volatility'>"
      ]
     },
     "execution_count": 3,
     "metadata": {},
     "output_type": "execute_result"
    },
    {
     "data": {
      "image/png": "[encoded data removed]",
      "text/plain": [
       "<Figure size 640x480 with 1 Axes>"
      ]
     },
     "metadata": {},
     "output_type": "display_data"
    }
   ],
   "source": [
    "portfolio = MeanVarPortfolio(er=mu,\n",
    "                            covmat=V)\n",
    "portfolio.plot_ef(n_points=25,\n",
    "                 show_cml=True,\n",
    "                 riskfree_rate=rf,\n",
    "                 show_ew=True,\n",
    "                 show_gmv=True)"
   ]
  },
  {
   "cell_type": "markdown",
   "metadata": {},
   "source": [
    "The plot above shows the effecient frontier.\n",
    "\n",
    "The Capital Market Line is represented by the greed dotted line.\n",
    "\n",
    "The Green Mark represents the Maximum Sharpe Portfolio.\n",
    "\n",
    "The Yellow Mark represents the equally weighted portfolio.\n",
    "\n",
    "The Purple Mark represents the Global Minimum Variance portfolio."
   ]
  },
  {
   "cell_type": "markdown",
   "metadata": {},
   "source": [
    "### Question 1\n",
    "\n",
    "Compute the mean return on the portfolio $x = \\frac{1}{3}(1,1,1)$ consisting only of the risky assets."
   ]
  },
  {
   "cell_type": "code",
   "execution_count": 4,
   "metadata": {},
   "outputs": [
    {
     "data": {
      "text/plain": [
       "4.0"
      ]
     },
     "execution_count": 4,
     "metadata": {},
     "output_type": "execute_result"
    }
   ],
   "source": [
    "weights = np.array([1, 1, 1]) / 3\n",
    "ret, vol = portfolio.get_point(weights)\n",
    "\n",
    "round(ret * 100, 2)"
   ]
  },
  {
   "cell_type": "markdown",
   "metadata": {},
   "source": [
    "$$\n",
    "\\sum_{i=1}^3 \\mu_i x_i = \\frac{1}{3}(6+2+4) = \\frac{12}{3} = 4\\%\n",
    "$$"
   ]
  },
  {
   "cell_type": "markdown",
   "metadata": {},
   "source": [
    "### Question 2\n",
    "\n",
    "Compute the volatility of the return on the portfolio $x = \\frac{1}{3}(1,1,1)$ consisting only of the risky assets"
   ]
  },
  {
   "cell_type": "code",
   "execution_count": 5,
   "metadata": {},
   "outputs": [
    {
     "data": {
      "text/plain": [
       "4.47"
      ]
     },
     "execution_count": 5,
     "metadata": {},
     "output_type": "execute_result"
    }
   ],
   "source": [
    "round(vol * 100, 2)"
   ]
  },
  {
   "cell_type": "markdown",
   "metadata": {},
   "source": [
    "Let $x=\\frac{1}{3}(1,1,1)^T$. Then:\n",
    "$\n",
    "\\sigma_x = 100\\sqrt{x'Vx} = 4.4721\\% = 4.47\\%\n",
    "$"
   ]
  },
  {
   "cell_type": "markdown",
   "metadata": {},
   "source": [
    "### Question 3\n",
    "\n",
    "Compute the mean return on the minimum variance portfolio of just the risky assets.\n",
    "\n",
    "The minimum variance portfolio is defined as the portfolio of risky assets that has the least volatility among all possible portfolios of just the risky assets. This portfolio is the solution to the optimization problem\n",
    "\n",
    "$$\n",
    "\\begin{array}{ll}\n",
    "\\min & \\sigma_{x}^{2} = min x^TVx \\\\\n",
    "\\text{s.t.} & \\sum_{i=1}^d x_i = 1\n",
    "\\end{array}\n",
    "$$"
   ]
  },
  {
   "cell_type": "code",
   "execution_count": 6,
   "metadata": {},
   "outputs": [
    {
     "data": {
      "text/plain": [
       "3.0"
      ]
     },
     "execution_count": 6,
     "metadata": {},
     "output_type": "execute_result"
    }
   ],
   "source": [
    "weights_gmv = portfolio.gmv()\n",
    "ret, vol = portfolio.get_point(weights_gmv)\n",
    "round(ret * 100, 2)"
   ]
  },
  {
   "cell_type": "markdown",
   "metadata": {},
   "source": [
    "The minimum variance portfolio is given by:\n",
    "$\n",
    "x_{min} = \\frac{1}{\\sum_{i=1}^d (V^{-1}1)_i} \\cdot V^{-1}1\n",
    "$\n",
    "Therefore, the mean return is given by:\n",
    "$\n",
    "\\frac{1}{\\sum_{i=1}^d (V^{-1}1)_i} \\cdot \\mu^T V^{-1}1 = 3\\%\n",
    "$"
   ]
  },
  {
   "cell_type": "markdown",
   "metadata": {},
   "source": [
    "### Question 4\n",
    "\n",
    "Compute the mean return on the Sharpe optimal portfolio for this market.\n",
    "\n",
    "Recall that we can compute the Sharpe optimal portfolio by taking only the risky positions and re-scaling them so that the components add up to 1. This procedure can be done by using the functions in following worksheet \"Sheet 1\". Another way to compute the Sharpe portfolio is to use the formulas of the Sharpe portfolio."
   ]
  },
  {
   "cell_type": "code",
   "execution_count": 7,
   "metadata": {},
   "outputs": [
    {
     "data": {
      "text/plain": [
       "3.42"
      ]
     },
     "execution_count": 7,
     "metadata": {},
     "output_type": "execute_result"
    }
   ],
   "source": [
    "weights_msr = portfolio.msr(riskfree_rate=rf)\n",
    "ret, vol = portfolio.get_point(weights_msr)\n",
    "round(ret * 100, 2)"
   ]
  },
  {
   "cell_type": "markdown",
   "metadata": {},
   "source": [
    "The Sharpe optimal portfolio is given by:\n",
    "$\n",
    "x_{sh} = \\frac{1}{\\sum_{i=1}^d (V^{-1}\\hat{\\mu})_i} \\cdot V^{-1}\\hat{\\mu}\n",
    "$\n",
    "where $\\hat{\\mu}$ denotes the excess return. Therefore, the mean return is given by:\n",
    "$\n",
    "\\mu_{sh} = \\frac{1}{\\sum_{i=1}^d (V^{-1}\\hat{\\mu})_i} \\cdot \\mu^T V^{-1}\\hat{\\mu} = 3.4167\\% \\approx 3.42\\%\n",
    "$"
   ]
  },
  {
   "cell_type": "markdown",
   "metadata": {},
   "source": [
    "### Question 5\n",
    "\n",
    "Compute the volatility of the Sharpe optimal portfolio for this market.\n",
    "\n",
    "Recall that we can compute the Sharpe optimal portfolio by taking the risky positions corresponding to any risk aversion parameter and re-scaling them so that the components add up to 1."
   ]
  },
  {
   "cell_type": "code",
   "execution_count": 8,
   "metadata": {},
   "outputs": [
    {
     "data": {
      "text/plain": [
       "2.84"
      ]
     },
     "execution_count": 8,
     "metadata": {},
     "output_type": "execute_result"
    }
   ],
   "source": [
    "round(vol * 100, 2)"
   ]
  },
  {
   "cell_type": "markdown",
   "metadata": {},
   "source": [
    "The Sharpe optimal portfolio is given by:\n",
    "$\n",
    "x_{sh} = \\frac{1}{\\sum_{i=1}^d (V^{-1}\\hat{\\mu})_i} \\cdot V^{-1}\\hat{\\mu}\n",
    "$\n",
    "Therefore, the variance is given by:\n",
    "$\n",
    "vol_{sh}^2 = \\frac{1}{(\\sum_{i=1}^d (V^{-1}\\hat{\\mu})_i)^2} \\cdot \\hat{\\mu}^T V^{-1}VV^{-1}\\hat{\\mu}\n",
    "$\n",
    "From this we can compute the volatility to be $2.8382\\% \\approx 2.84\\%$."
   ]
  },
  {
   "cell_type": "markdown",
   "metadata": {},
   "source": [
    "### Question 6\n",
    "\n",
    "Using the results in the previous question, compute the slope of the capital market line."
   ]
  },
  {
   "cell_type": "code",
   "execution_count": 9,
   "metadata": {},
   "outputs": [
    {
     "data": {
      "text/plain": [
       "0.85"
      ]
     },
     "execution_count": 9,
     "metadata": {},
     "output_type": "execute_result"
    }
   ],
   "source": [
    "slope, intercept = portfolio.get_cml(riskfree_rate=rf)\n",
    "round(slope, 2)"
   ]
  },
  {
   "cell_type": "markdown",
   "metadata": {},
   "source": [
    "$$\n",
    "m = \\frac{\\mu_{sh}-r_f}{vol_{sh}} = 0.8515 \\approx 0.85\n",
    "$$"
   ]
  },
  {
   "cell_type": "markdown",
   "metadata": {},
   "source": [
    "### Question 7\n",
    "\n",
    "Suppose the volatility of a an efficient investment opportunity is $σ=5%$. What is the return on this opportunity?\n",
    "\n",
    "Recall that the mean return and volatility of all efficient investment opportunities must lie on the capital market line."
   ]
  },
  {
   "cell_type": "code",
   "execution_count": 10,
   "metadata": {},
   "outputs": [
    {
     "data": {
      "text/plain": [
       "5.26"
      ]
     },
     "execution_count": 10,
     "metadata": {},
     "output_type": "execute_result"
    }
   ],
   "source": [
    "sigma = 5 / 100\n",
    "round(portfolio.max_return_cml(sigma, rf) * 100, 2)"
   ]
  },
  {
   "cell_type": "markdown",
   "metadata": {},
   "source": [
    "$$\n",
    "r = r_f + m\\sigma = 1\\% + (0.8515)(5\\%) = 5.2573\\% \\approx 5.26\\%\n",
    "$$"
   ]
  }
 ],
 "metadata": {
  "kernelspec": {
   "display_name": "Python 3",
   "language": "python",
   "name": "python3"
  },
  "language_info": {
   "codemirror_mode": {
    "name": "ipython",
    "version": 3
   },
   "file_extension": ".py",
   "mimetype": "text/x-python",
   "name": "python",
   "nbconvert_exporter": "python",
   "pygments_lexer": "ipython3",
   "version": "3.11.7"
  }
 },
 "nbformat": 4,
 "nbformat_minor": 2
}
