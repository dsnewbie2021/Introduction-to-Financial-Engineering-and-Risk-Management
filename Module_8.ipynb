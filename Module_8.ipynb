{
 "cells": [
  {
   "cell_type": "code",
   "execution_count": 1,
   "metadata": {},
   "outputs": [],
   "source": [
    "%load_ext autoreload\n",
    "%autoreload 2\n",
    "\n",
    "import pandas as pd\n",
    "import numpy as np\n",
    "import risk_kit as rk\n",
    "from pricing_models import LevelPaymentMortgage, PassThroughMBS\n",
    "import scipy.optimize as opt"
   ]
  },
  {
   "cell_type": "markdown",
   "metadata": {},
   "source": [
    "In each of the following questions monthly mortgage coupon rates should be calculated by simply dividing the annual rate by 12. You should also assume that all of the securities pay monthly. You should also divide annual interest rates by 12 to get the corresponding monthly rate and assume monthly compounding when computing present values."
   ]
  },
  {
   "cell_type": "markdown",
   "metadata": {},
   "source": [
    "## Level-Payment Mortgage"
   ]
  },
  {
   "cell_type": "markdown",
   "metadata": {},
   "source": [
    "### Question 1"
   ]
  },
  {
   "cell_type": "markdown",
   "metadata": {},
   "source": [
    "Compute the monthly payment on a 30-year level payment mortgage assuming an annual mortgage rate of 5% and an initial mortgage principal of 400,000 usd."
   ]
  },
  {
   "cell_type": "code",
   "execution_count": 2,
   "metadata": {},
   "outputs": [
    {
     "data": {
      "text/plain": [
       "2147.29"
      ]
     },
     "execution_count": 2,
     "metadata": {},
     "output_type": "execute_result"
    }
   ],
   "source": [
    "T = 30\n",
    "r = 0.05\n",
    "P = 400000\n",
    "\n",
    "loan = LevelPaymentMortgage(P, r, T)\n",
    "round(loan.monthly_payment, 2)"
   ]
  },
  {
   "cell_type": "markdown",
   "metadata": {},
   "source": [
    "## Mortgage Pass-Throughs"
   ]
  },
  {
   "cell_type": "markdown",
   "metadata": {},
   "source": [
    "Consider a 400 million usd pass-through MBS that has just been created (so the 'seasoning' of the pass-through is equal to 0). The underlying pool of mortgages each has a maturity of 20 years and an annual mortgage coupon rate of 6%. The pass-through rate of the mortgage pool is 5%. "
   ]
  },
  {
   "cell_type": "code",
   "execution_count": 3,
   "metadata": {},
   "outputs": [
    {
     "data": {
      "text/html": [
       "<div>\n",
       "<style scoped>\n",
       "    .dataframe tbody tr th:only-of-type {\n",
       "        vertical-align: middle;\n",
       "    }\n",
       "\n",
       "    .dataframe tbody tr th {\n",
       "        vertical-align: top;\n",
       "    }\n",
       "\n",
       "    .dataframe thead th {\n",
       "        text-align: right;\n",
       "    }\n",
       "</style>\n",
       "<table border=\"1\" class=\"dataframe\">\n",
       "  <thead>\n",
       "    <tr style=\"text-align: right;\">\n",
       "      <th></th>\n",
       "      <th>Total Payment Received</th>\n",
       "      <th>Principal Received</th>\n",
       "      <th>Interest Received</th>\n",
       "      <th>Total Amount Paid</th>\n",
       "      <th>Principal Paid</th>\n",
       "      <th>Interest Paid</th>\n",
       "      <th>Earning</th>\n",
       "      <th>Prepayment Rate</th>\n",
       "      <th>Prepayment Amount</th>\n",
       "      <th>Total OutStanding Amount</th>\n",
       "    </tr>\n",
       "  </thead>\n",
       "  <tbody>\n",
       "    <tr>\n",
       "      <th>1</th>\n",
       "      <td>2.865724</td>\n",
       "      <td>0.865724</td>\n",
       "      <td>2.000000</td>\n",
       "      <td>2.598974</td>\n",
       "      <td>0.932308</td>\n",
       "      <td>1.666667</td>\n",
       "      <td>0.266750</td>\n",
       "      <td>0.000167</td>\n",
       "      <td>0.066583</td>\n",
       "      <td>399.067692</td>\n",
       "    </tr>\n",
       "    <tr>\n",
       "      <th>2</th>\n",
       "      <td>2.865246</td>\n",
       "      <td>0.869908</td>\n",
       "      <td>1.995338</td>\n",
       "      <td>2.665666</td>\n",
       "      <td>1.002884</td>\n",
       "      <td>1.662782</td>\n",
       "      <td>0.199580</td>\n",
       "      <td>0.000334</td>\n",
       "      <td>0.132977</td>\n",
       "      <td>398.064808</td>\n",
       "    </tr>\n",
       "    <tr>\n",
       "      <th>3</th>\n",
       "      <td>2.864289</td>\n",
       "      <td>0.873965</td>\n",
       "      <td>1.990324</td>\n",
       "      <td>2.731712</td>\n",
       "      <td>1.073109</td>\n",
       "      <td>1.658603</td>\n",
       "      <td>0.132577</td>\n",
       "      <td>0.000501</td>\n",
       "      <td>0.199144</td>\n",
       "      <td>396.991699</td>\n",
       "    </tr>\n",
       "    <tr>\n",
       "      <th>4</th>\n",
       "      <td>2.862853</td>\n",
       "      <td>0.877895</td>\n",
       "      <td>1.984958</td>\n",
       "      <td>2.797076</td>\n",
       "      <td>1.142944</td>\n",
       "      <td>1.654132</td>\n",
       "      <td>0.065777</td>\n",
       "      <td>0.000669</td>\n",
       "      <td>0.265049</td>\n",
       "      <td>395.848755</td>\n",
       "    </tr>\n",
       "    <tr>\n",
       "      <th>5</th>\n",
       "      <td>2.860938</td>\n",
       "      <td>0.881694</td>\n",
       "      <td>1.979244</td>\n",
       "      <td>2.861721</td>\n",
       "      <td>1.212351</td>\n",
       "      <td>1.649370</td>\n",
       "      <td>-0.000784</td>\n",
       "      <td>0.000837</td>\n",
       "      <td>0.330657</td>\n",
       "      <td>394.636404</td>\n",
       "    </tr>\n",
       "  </tbody>\n",
       "</table>\n",
       "</div>"
      ],
      "text/plain": [
       "   Total Payment Received  Principal Received  Interest Received  \\\n",
       "1                2.865724            0.865724           2.000000   \n",
       "2                2.865246            0.869908           1.995338   \n",
       "3                2.864289            0.873965           1.990324   \n",
       "4                2.862853            0.877895           1.984958   \n",
       "5                2.860938            0.881694           1.979244   \n",
       "\n",
       "   Total Amount Paid  Principal Paid  Interest Paid   Earning  \\\n",
       "1           2.598974        0.932308       1.666667  0.266750   \n",
       "2           2.665666        1.002884       1.662782  0.199580   \n",
       "3           2.731712        1.073109       1.658603  0.132577   \n",
       "4           2.797076        1.142944       1.654132  0.065777   \n",
       "5           2.861721        1.212351       1.649370 -0.000784   \n",
       "\n",
       "   Prepayment Rate  Prepayment Amount  Total OutStanding Amount  \n",
       "1         0.000167           0.066583                399.067692  \n",
       "2         0.000334           0.132977                398.064808  \n",
       "3         0.000501           0.199144                396.991699  \n",
       "4         0.000669           0.265049                395.848755  \n",
       "5         0.000837           0.330657                394.636404  "
      ]
     },
     "execution_count": 3,
     "metadata": {},
     "output_type": "execute_result"
    }
   ],
   "source": [
    "P = 400\n",
    "T = 20\n",
    "rate_recieved = 0.06\n",
    "rate_paid = 0.05\n",
    "PSA = 100\n",
    "\n",
    "mortgage_pool = PassThroughMBS(P=P,\n",
    "                              T=T,\n",
    "                              loan_r=rate_recieved,\n",
    "                              pass_r=rate_paid,\n",
    "                              PSA=PSA)\n",
    "\n",
    "mortgage_pool.data.head()"
   ]
  },
  {
   "cell_type": "markdown",
   "metadata": {},
   "source": [
    "### Question 2"
   ]
  },
  {
   "cell_type": "markdown",
   "metadata": {},
   "source": [
    "Assuming a prepayment multiplier of 100 PSA. What is the total amount of interest paid to the pass-through investors?"
   ]
  },
  {
   "cell_type": "code",
   "execution_count": 4,
   "metadata": {},
   "outputs": [
    {
     "data": {
      "text/plain": [
       "171.18"
      ]
     },
     "execution_count": 4,
     "metadata": {},
     "output_type": "execute_result"
    }
   ],
   "source": [
    "round(mortgage_pool.data['Interest Paid'].sum(), 2)"
   ]
  },
  {
   "cell_type": "markdown",
   "metadata": {},
   "source": [
    "### Question 3"
   ]
  },
  {
   "cell_type": "markdown",
   "metadata": {},
   "source": [
    "Referring to the same mortgage pass-through of the previous question, what is the total amount of the prepayments?"
   ]
  },
  {
   "cell_type": "code",
   "execution_count": 5,
   "metadata": {},
   "outputs": [
    {
     "data": {
      "text/plain": [
       "181.09"
      ]
     },
     "execution_count": 5,
     "metadata": {},
     "output_type": "execute_result"
    }
   ],
   "source": [
    "round(mortgage_pool.data['Prepayment Amount'].sum(), 2)"
   ]
  },
  {
   "cell_type": "markdown",
   "metadata": {},
   "source": [
    "### Question 4"
   ]
  },
  {
   "cell_type": "markdown",
   "metadata": {},
   "source": [
    "Referring to the same mortgage pass-through of the previous question, what is the total amount of the prepayments if the rate of prepayments increases to 200 PSA?"
   ]
  },
  {
   "cell_type": "code",
   "execution_count": 6,
   "metadata": {},
   "outputs": [
    {
     "data": {
      "text/plain": [
       "268.15"
      ]
     },
     "execution_count": 6,
     "metadata": {},
     "output_type": "execute_result"
    }
   ],
   "source": [
    "PSA = 200\n",
    "\n",
    "mortgage_pool = PassThroughMBS(P=P,\n",
    "                              T=T,\n",
    "                              loan_r=rate_recieved,\n",
    "                              pass_r=rate_paid,\n",
    "                              PSA=PSA)\n",
    "round(mortgage_pool.data['Prepayment Amount'].sum(), 2)"
   ]
  },
  {
   "cell_type": "markdown",
   "metadata": {},
   "source": [
    "## Principal-Only MBS and Interest-Only MBS"
   ]
  },
  {
   "cell_type": "markdown",
   "metadata": {},
   "source": [
    "### Question 5"
   ]
  },
  {
   "cell_type": "markdown",
   "metadata": {},
   "source": [
    "Suppose we construct principal-only (PO) and interest-only (IO) mortgage-backed securities (MBS) using the mortgage pass-through of the previous questions. Assume a prepayment multiplier of 100 PSA. "
   ]
  },
  {
   "cell_type": "code",
   "execution_count": 7,
   "metadata": {},
   "outputs": [],
   "source": [
    "PSA = 100\n",
    "\n",
    "mortgage_pool = PassThroughMBS(P=P,\n",
    "                              T=T,\n",
    "                              loan_r=rate_recieved,\n",
    "                              pass_r=rate_paid,\n",
    "                              PSA=PSA)"
   ]
  },
  {
   "cell_type": "markdown",
   "metadata": {},
   "source": [
    "What is the present value of the PO MBS if we use an annual risk-free rate of 4.5% to value the cash-flows?"
   ]
  },
  {
   "cell_type": "code",
   "execution_count": 8,
   "metadata": {},
   "outputs": [
    {
     "data": {
      "text/plain": [
       "280.1"
      ]
     },
     "execution_count": 8,
     "metadata": {},
     "output_type": "execute_result"
    }
   ],
   "source": [
    "cash_flows_po = mortgage_pool.data['Principal Paid']\n",
    "rate = 0.045 / 12\n",
    "pv = float(rk.present_value(flows=cash_flows_po, discount_rate=rate))\n",
    "round(pv, 2)"
   ]
  },
  {
   "cell_type": "markdown",
   "metadata": {},
   "source": [
    "### Question 6"
   ]
  },
  {
   "cell_type": "markdown",
   "metadata": {},
   "source": [
    "Referring to the previous question, what is the value of the IO MBS?"
   ]
  },
  {
   "cell_type": "code",
   "execution_count": 9,
   "metadata": {},
   "outputs": [
    {
     "data": {
      "text/plain": [
       "133.23"
      ]
     },
     "execution_count": 9,
     "metadata": {},
     "output_type": "execute_result"
    }
   ],
   "source": [
    "cash_flows_io = mortgage_pool.data['Interest Paid']\n",
    "rate = 0.045 / 12\n",
    "pv_r45 = float(rk.present_value(flows=cash_flows_io, discount_rate=rate))\n",
    "round(pv_r45, 2)"
   ]
  },
  {
   "cell_type": "markdown",
   "metadata": {},
   "source": [
    "### Question 7"
   ]
  },
  {
   "cell_type": "markdown",
   "metadata": {},
   "source": [
    "Referring to the previous question, what is the average life of the IO MBS?"
   ]
  },
  {
   "cell_type": "code",
   "execution_count": 10,
   "metadata": {},
   "outputs": [
    {
     "data": {
      "text/plain": [
       "6.01"
      ]
     },
     "execution_count": 10,
     "metadata": {},
     "output_type": "execute_result"
    }
   ],
   "source": [
    "round(rk.duration(cash_flows_io) / 12, 2)"
   ]
  },
  {
   "cell_type": "markdown",
   "metadata": {},
   "source": [
    "### Question 8"
   ]
  },
  {
   "cell_type": "markdown",
   "metadata": {},
   "source": [
    "Suppose now that you purchased the IO MBS of the previous question and that the price you paid was the same price that you calculated in the previous question. The risk-free interest rate suddenly changes from 4.5% to 3.5%. Everything else stays the same. How much money have you made or lost on your investment?"
   ]
  },
  {
   "cell_type": "code",
   "execution_count": 11,
   "metadata": {},
   "outputs": [
    {
     "data": {
      "text/plain": [
       "7.17"
      ]
     },
     "execution_count": 11,
     "metadata": {},
     "output_type": "execute_result"
    }
   ],
   "source": [
    "cash_flows_io = mortgage_pool.data['Interest Paid']\n",
    "rate = 0.035 / 12\n",
    "pv_r35 = float(rk.present_value(flows=cash_flows_io, discount_rate=rate))\n",
    "round(pv_r35 - pv_r45, 2)"
   ]
  },
  {
   "cell_type": "markdown",
   "metadata": {},
   "source": [
    "### Question 9"
   ]
  },
  {
   "cell_type": "markdown",
   "metadata": {},
   "source": [
    "Referring to the previous question, suppose the risk-free interest rate suddenly changes from 4.5% to 3.5% and that the pre-payment multiplier changes from 100 PSA to 150 PSA. How much money have you made or lost on your investment in the IO MBS?"
   ]
  },
  {
   "cell_type": "code",
   "execution_count": 12,
   "metadata": {},
   "outputs": [
    {
     "data": {
      "text/plain": [
       "-9.58"
      ]
     },
     "execution_count": 12,
     "metadata": {},
     "output_type": "execute_result"
    }
   ],
   "source": [
    "PSA = 150\n",
    "rate_new = 0.035/12\n",
    "\n",
    "mortgage_pool_new = PassThroughMBS(P=P,\n",
    "                                  T=T,\n",
    "                                  loan_r=rate_recieved,\n",
    "                                  pass_r=rate_paid,\n",
    "                                  PSA=PSA)\n",
    "cash_flows_io_new = mortgage_pool_new.data['Interest Paid']\n",
    "pv_new = float(rk.present_value(flows=cash_flows_io_new, discount_rate=rate_new))\n",
    "round(pv_new - pv_r45, 2)"
   ]
  }
 ],
 "metadata": {
  "kernelspec": {
   "display_name": "Python 3",
   "language": "python",
   "name": "python3"
  },
  "language_info": {
   "codemirror_mode": {
    "name": "ipython",
    "version": 3
   },
   "file_extension": ".py",
   "mimetype": "text/x-python",
   "name": "python",
   "nbconvert_exporter": "python",
   "pygments_lexer": "ipython3",
   "version": "3.7.1"
  }
 },
 "nbformat": 4,
 "nbformat_minor": 2
}
