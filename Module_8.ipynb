{
 "cells": [
  {
   "cell_type": "code",
   "execution_count": 1,
   "metadata": {},
   "outputs": [],
   "source": [
    "%reload_ext autoreload\n",
    "%autoreload 2\n",
    "\n",
    "import pandas as pd\n",
    "import numpy as np\n",
    "import risk_kit as rk\n",
    "from pricing_models import LevelPaymentMortgage, PassThroughMBS, StockPricing, SwapsPricing, OptionsPricing\n",
    "import scipy.optimize as opt"
   ]
  },
  {
   "cell_type": "markdown",
   "metadata": {},
   "source": [
    "In each of the following questions monthly mortgage coupon rates should be calculated by simply dividing the annual rate by 12. You should also assume that all of the securities pay monthly. You should also divide annual interest rates by 12 to get the corresponding monthly rate and assume monthly compounding when computing present values."
   ]
  },
  {
   "cell_type": "markdown",
   "metadata": {},
   "source": [
    "## Level-Payment Mortgage"
   ]
  },
  {
   "cell_type": "markdown",
   "metadata": {},
   "source": [
    "### Question 1"
   ]
  },
  {
   "cell_type": "markdown",
   "metadata": {},
   "source": [
    "Compute the monthly payment on a 30-year level payment mortgage assuming an annual mortgage rate of 5% and an initial mortgage principal of 400,000 usd."
   ]
  },
  {
   "cell_type": "code",
   "execution_count": 2,
   "metadata": {},
   "outputs": [
    {
     "data": {
      "text/plain": [
       "2147.29"
      ]
     },
     "execution_count": 2,
     "metadata": {},
     "output_type": "execute_result"
    }
   ],
   "source": [
    "T = 30\n",
    "r = 0.05\n",
    "P = 400000\n",
    "\n",
    "loan = LevelPaymentMortgage(P, r, T)\n",
    "round(loan.monthly_payment, 2)"
   ]
  },
  {
   "cell_type": "markdown",
   "metadata": {},
   "source": [
    "## Mortgage Pass-Throughs"
   ]
  },
  {
   "cell_type": "markdown",
   "metadata": {},
   "source": [
    "Consider a 400 million usd pass-through MBS that has just been created (so the 'seasoning' of the pass-through is equal to 0). The underlying pool of mortgages each has a maturity of 20 years and an annual mortgage coupon rate of 6%. The pass-through rate of the mortgage pool is 5%. "
   ]
  },
  {
   "cell_type": "code",
   "execution_count": 3,
   "metadata": {},
   "outputs": [
    {
     "name": "stderr",
     "output_type": "stream",
     "text": [
      "d:\\techlent\\lecture\\Financial Engineering and Risk Management\\Introduction-to-Financial-Engineering-and-Risk-Management\\pricing_models.py:1141: FutureWarning: The behavior of DataFrame concatenation with empty or all-NA entries is deprecated. In a future version, this will no longer exclude empty or all-NA columns when determining the result dtypes. To retain the old behavior, exclude the relevant entries before the concat operation.\n",
      "  self.data = pd.concat([self.data, pd.DataFrame([current_values])], ignore_index=True)\n"
     ]
    },
    {
     "data": {
      "text/html": [
       "<div>\n",
       "<style scoped>\n",
       "    .dataframe tbody tr th:only-of-type {\n",
       "        vertical-align: middle;\n",
       "    }\n",
       "\n",
       "    .dataframe tbody tr th {\n",
       "        vertical-align: top;\n",
       "    }\n",
       "\n",
       "    .dataframe thead th {\n",
       "        text-align: right;\n",
       "    }\n",
       "</style>\n",
       "<table border=\"1\" class=\"dataframe\">\n",
       "  <thead>\n",
       "    <tr style=\"text-align: right;\">\n",
       "      <th></th>\n",
       "      <th>Total Payment Received</th>\n",
       "      <th>Principal Received</th>\n",
       "      <th>Interest Received</th>\n",
       "      <th>Total Amount Paid</th>\n",
       "      <th>Principal Paid</th>\n",
       "      <th>Interest Paid</th>\n",
       "      <th>Earning</th>\n",
       "      <th>Prepayment Rate</th>\n",
       "      <th>Prepayment Amount</th>\n",
       "      <th>Total OutStanding Amount</th>\n",
       "    </tr>\n",
       "  </thead>\n",
       "  <tbody>\n",
       "    <tr>\n",
       "      <th>1</th>\n",
       "      <td>2.865724</td>\n",
       "      <td>0.865724</td>\n",
       "      <td>2.000000</td>\n",
       "      <td>2.598974</td>\n",
       "      <td>0.932308</td>\n",
       "      <td>1.666667</td>\n",
       "      <td>0.266750</td>\n",
       "      <td>0.000167</td>\n",
       "      <td>0.066583</td>\n",
       "      <td>399.067692</td>\n",
       "    </tr>\n",
       "    <tr>\n",
       "      <th>2</th>\n",
       "      <td>2.865246</td>\n",
       "      <td>0.869908</td>\n",
       "      <td>1.995338</td>\n",
       "      <td>2.665666</td>\n",
       "      <td>1.002884</td>\n",
       "      <td>1.662782</td>\n",
       "      <td>0.199580</td>\n",
       "      <td>0.000334</td>\n",
       "      <td>0.132977</td>\n",
       "      <td>398.064808</td>\n",
       "    </tr>\n",
       "    <tr>\n",
       "      <th>3</th>\n",
       "      <td>2.864289</td>\n",
       "      <td>0.873965</td>\n",
       "      <td>1.990324</td>\n",
       "      <td>2.731712</td>\n",
       "      <td>1.073109</td>\n",
       "      <td>1.658603</td>\n",
       "      <td>0.132577</td>\n",
       "      <td>0.000501</td>\n",
       "      <td>0.199144</td>\n",
       "      <td>396.991699</td>\n",
       "    </tr>\n",
       "    <tr>\n",
       "      <th>4</th>\n",
       "      <td>2.862853</td>\n",
       "      <td>0.877895</td>\n",
       "      <td>1.984958</td>\n",
       "      <td>2.797076</td>\n",
       "      <td>1.142944</td>\n",
       "      <td>1.654132</td>\n",
       "      <td>0.065777</td>\n",
       "      <td>0.000669</td>\n",
       "      <td>0.265049</td>\n",
       "      <td>395.848755</td>\n",
       "    </tr>\n",
       "    <tr>\n",
       "      <th>5</th>\n",
       "      <td>2.860938</td>\n",
       "      <td>0.881694</td>\n",
       "      <td>1.979244</td>\n",
       "      <td>2.861721</td>\n",
       "      <td>1.212351</td>\n",
       "      <td>1.649370</td>\n",
       "      <td>-0.000784</td>\n",
       "      <td>0.000837</td>\n",
       "      <td>0.330657</td>\n",
       "      <td>394.636404</td>\n",
       "    </tr>\n",
       "  </tbody>\n",
       "</table>\n",
       "</div>"
      ],
      "text/plain": [
       "   Total Payment Received  Principal Received  Interest Received  \\\n",
       "1                2.865724            0.865724           2.000000   \n",
       "2                2.865246            0.869908           1.995338   \n",
       "3                2.864289            0.873965           1.990324   \n",
       "4                2.862853            0.877895           1.984958   \n",
       "5                2.860938            0.881694           1.979244   \n",
       "\n",
       "   Total Amount Paid  Principal Paid  Interest Paid   Earning  \\\n",
       "1           2.598974        0.932308       1.666667  0.266750   \n",
       "2           2.665666        1.002884       1.662782  0.199580   \n",
       "3           2.731712        1.073109       1.658603  0.132577   \n",
       "4           2.797076        1.142944       1.654132  0.065777   \n",
       "5           2.861721        1.212351       1.649370 -0.000784   \n",
       "\n",
       "   Prepayment Rate  Prepayment Amount  Total OutStanding Amount  \n",
       "1         0.000167           0.066583                399.067692  \n",
       "2         0.000334           0.132977                398.064808  \n",
       "3         0.000501           0.199144                396.991699  \n",
       "4         0.000669           0.265049                395.848755  \n",
       "5         0.000837           0.330657                394.636404  "
      ]
     },
     "execution_count": 3,
     "metadata": {},
     "output_type": "execute_result"
    }
   ],
   "source": [
    "P = 400\n",
    "T = 20\n",
    "rate_recieved = 0.06\n",
    "rate_paid = 0.05\n",
    "PSA = 100\n",
    "\n",
    "mortgage_pool = PassThroughMBS(P=P,\n",
    "                              T=T,\n",
    "                              loan_r=rate_recieved,\n",
    "                              pass_r=rate_paid,\n",
    "                              PSA=PSA)\n",
    "\n",
    "mortgage_pool.data.head()"
   ]
  },
  {
   "cell_type": "markdown",
   "metadata": {},
   "source": [
    "### Question 2"
   ]
  },
  {
   "cell_type": "markdown",
   "metadata": {},
   "source": [
    "Assuming a prepayment multiplier of 100 PSA. What is the total amount of interest paid to the pass-through investors?"
   ]
  },
  {
   "cell_type": "code",
   "execution_count": 4,
   "metadata": {},
   "outputs": [
    {
     "data": {
      "text/plain": [
       "171.18"
      ]
     },
     "execution_count": 4,
     "metadata": {},
     "output_type": "execute_result"
    }
   ],
   "source": [
    "round(mortgage_pool.data['Interest Paid'].sum(), 2)"
   ]
  },
  {
   "cell_type": "markdown",
   "metadata": {},
   "source": [
    "### Question 3"
   ]
  },
  {
   "cell_type": "markdown",
   "metadata": {},
   "source": [
    "Referring to the same mortgage pass-through of the previous question, what is the total amount of the prepayments?"
   ]
  },
  {
   "cell_type": "code",
   "execution_count": 5,
   "metadata": {},
   "outputs": [
    {
     "data": {
      "text/plain": [
       "181.09"
      ]
     },
     "execution_count": 5,
     "metadata": {},
     "output_type": "execute_result"
    }
   ],
   "source": [
    "round(mortgage_pool.data['Prepayment Amount'].sum(), 2)"
   ]
  },
  {
   "cell_type": "markdown",
   "metadata": {},
   "source": [
    "### Question 4"
   ]
  },
  {
   "cell_type": "markdown",
   "metadata": {},
   "source": [
    "Referring to the same mortgage pass-through of the previous question, what is the total amount of the prepayments if the rate of prepayments increases to 200 PSA?"
   ]
  },
  {
   "cell_type": "code",
   "execution_count": 6,
   "metadata": {},
   "outputs": [
    {
     "name": "stderr",
     "output_type": "stream",
     "text": [
      "d:\\techlent\\lecture\\Financial Engineering and Risk Management\\Introduction-to-Financial-Engineering-and-Risk-Management\\pricing_models.py:1141: FutureWarning: The behavior of DataFrame concatenation with empty or all-NA entries is deprecated. In a future version, this will no longer exclude empty or all-NA columns when determining the result dtypes. To retain the old behavior, exclude the relevant entries before the concat operation.\n",
      "  self.data = pd.concat([self.data, pd.DataFrame([current_values])], ignore_index=True)\n"
     ]
    },
    {
     "data": {
      "text/plain": [
       "268.15"
      ]
     },
     "execution_count": 6,
     "metadata": {},
     "output_type": "execute_result"
    }
   ],
   "source": [
    "PSA = 200\n",
    "\n",
    "mortgage_pool = PassThroughMBS(P=P,\n",
    "                              T=T,\n",
    "                              loan_r=rate_recieved,\n",
    "                              pass_r=rate_paid,\n",
    "                              PSA=PSA)\n",
    "round(mortgage_pool.data['Prepayment Amount'].sum(), 2)"
   ]
  },
  {
   "cell_type": "markdown",
   "metadata": {},
   "source": [
    "## Principal-Only MBS and Interest-Only MBS"
   ]
  },
  {
   "cell_type": "markdown",
   "metadata": {},
   "source": [
    "### Question 1 (Pricing swaps using term structure model)"
   ]
  },
  {
   "cell_type": "markdown",
   "metadata": {},
   "source": [
    "Consider an n = 10-period binomial model for the short-rate, $r_{i,j}$. The lattice parameters are: \n",
    "$r_{0,0}$=5%, u=1.1, d=0.9 and q=1−q=1/2.\n",
    "\n",
    "Compute the initial value of a forward-starting swap that begins at t=1, with maturity t = 10 and a fixed rate of 4.5%. \n",
    "\n",
    "(The first payment then takes place at t = 2 and the final payment takes place at t = 11 as we are assuming, as usual, that payments take place in arrears.) You should assume a swap notional of 1 million and assume that you receive floating and pay fixed.)"
   ]
  },
  {
   "cell_type": "code",
   "execution_count": 7,
   "metadata": {},
   "outputs": [],
   "source": [
    "n = 10\n",
    "r00 = 0.05\n",
    "u = 1.1\n",
    "d = 0.9\n",
    "q = 0.5"
   ]
  },
  {
   "cell_type": "code",
   "execution_count": 8,
   "metadata": {},
   "outputs": [],
   "source": [
    "rate_model = StockPricing(n, r00, u, d)"
   ]
  },
  {
   "cell_type": "code",
   "execution_count": 9,
   "metadata": {},
   "outputs": [
    {
     "data": {
      "text/plain": [
       "33374"
      ]
     },
     "execution_count": 9,
     "metadata": {},
     "output_type": "execute_result"
    }
   ],
   "source": [
    "n = 11\n",
    "fixed_rate = 0.045\n",
    "start = 2\n",
    "is_long = 1\n",
    "N = 1000000\n",
    "\n",
    "swap_pricing = SwapsPricing(n, q, fixed_rate, start_time=2, is_long=is_long, r=rate_model)\n",
    "round(swap_pricing.price * N)"
   ]
  },
  {
   "cell_type": "markdown",
   "metadata": {},
   "source": [
    "### Question 2 (Pricing swaptions using term structure model)"
   ]
  },
  {
   "cell_type": "markdown",
   "metadata": {},
   "source": [
    "Compute the initial price of a swaption that matures at time t=5 and has a strike of 0. The underlying swap is the same swap as described in the previous question with a notional of 1 million. To be clear, you should assume that if the swaption is exercised at t=5 then the owner of the swaption will receive all cash-flows from the underlying swap from times t=6 to t=11 inclusive. (The swaption strike of 0 should also not be confused with the fixed rate of 4.5% on the underlying swap.)"
   ]
  },
  {
   "cell_type": "code",
   "execution_count": 10,
   "metadata": {},
   "outputs": [
    {
     "data": {
      "text/plain": [
       "26311"
      ]
     },
     "execution_count": 10,
     "metadata": {},
     "output_type": "execute_result"
    }
   ],
   "source": [
    "# Assuming the European Call Option\n",
    "n = 5\n",
    "strike = 0\n",
    "N = 1000000\n",
    "\n",
    "option_pricing = OptionsPricing(n, swap_pricing, rate_model, q, strike)\n",
    "round(option_pricing.price * N)"
   ]
  },
  {
   "cell_type": "markdown",
   "metadata": {},
   "source": [
    "### Question 3 (Calibration of term structure model)"
   ]
  },
  {
   "cell_type": "markdown",
   "metadata": {},
   "source": [
    "Refer to the material on defaultable bonds and credit-default swaps (CDS).\n",
    "\n",
    "The true price of 5 different defaultable coupon paying bonds with non-zero recovery are specified in  worksheet Calibration in the workbook \n",
    "Assignment5_cds.xlsx. The interest rate is r=5% per annum. Calibrate the six month hazard rates A6 to A16 by minimizing the SumError ensuring that the term structure of hazard rates are non-decreasing. You can model the non-decreasing hazard rates by adding constraints of the form A6≤A7,…,A15≤A16. Report the hazard rate at time 0 as a percentage. "
   ]
  },
  {
   "cell_type": "markdown",
   "metadata": {},
   "source": [
    "Answer - 1.84"
   ]
  },
  {
   "cell_type": "markdown",
   "metadata": {},
   "source": [
    "### Question 4 Question 4 (Pricing Credit Default Swaps)"
   ]
  },
  {
   "cell_type": "markdown",
   "metadata": {},
   "source": [
    "Refer to the material on defaultable bonds and credit-default swaps (CDS).\n",
    "\n",
    "Modify the data on the CDS pricing worksheet in the workbook bonds_and_cds.xlsx to compute a par spread in basis points for a 5yr CDS with notional principal N=10 million assuming that the expected recovery rate R=25%, the 3-month hazard rate is a flat 1%, and the interest rate is 5% per annum."
   ]
  },
  {
   "cell_type": "markdown",
   "metadata": {},
   "source": [
    "Answer - 301.51"
   ]
  },
  {
   "cell_type": "markdown",
   "metadata": {},
   "source": [
    "### Question 5 (Principal-only and Interest-only MBS - Part A)"
   ]
  },
  {
   "cell_type": "markdown",
   "metadata": {},
   "source": [
    "Background: In each of the following questions, monthly mortgage coupon rates should be calculated by simply dividing the annual rate by 12. You should also assume that all of the securities pay monthly. Also, you should divide annual interest rates by 12 to get the corresponding monthly rate and assume monthly compounding when computing present values.\n",
    "\n",
    "Suppose we construct principal-only (PO) and interest-only (IO) mortgage-backed securities (MBS) using the mortgage pass-through of the previous questions. Assume a prepayment multiplier of 100 PSA. "
   ]
  },
  {
   "cell_type": "code",
   "execution_count": 11,
   "metadata": {},
   "outputs": [
    {
     "name": "stderr",
     "output_type": "stream",
     "text": [
      "d:\\techlent\\lecture\\Financial Engineering and Risk Management\\Introduction-to-Financial-Engineering-and-Risk-Management\\pricing_models.py:1141: FutureWarning: The behavior of DataFrame concatenation with empty or all-NA entries is deprecated. In a future version, this will no longer exclude empty or all-NA columns when determining the result dtypes. To retain the old behavior, exclude the relevant entries before the concat operation.\n",
      "  self.data = pd.concat([self.data, pd.DataFrame([current_values])], ignore_index=True)\n"
     ]
    }
   ],
   "source": [
    "PSA = 100\n",
    "\n",
    "mortgage_pool = PassThroughMBS(P=P,\n",
    "                              T=T,\n",
    "                              loan_r=rate_recieved,\n",
    "                              pass_r=rate_paid,\n",
    "                              PSA=PSA)"
   ]
  },
  {
   "cell_type": "markdown",
   "metadata": {},
   "source": [
    "What is the present value of the PO MBS if we use an annual risk-free rate of 4.5% to value the cash-flows?"
   ]
  },
  {
   "cell_type": "code",
   "execution_count": 12,
   "metadata": {},
   "outputs": [
    {
     "name": "stderr",
     "output_type": "stream",
     "text": [
      "C:\\Users\\x_tia\\AppData\\Local\\Temp\\ipykernel_1572\\2864489323.py:3: FutureWarning: Calling float on a single element Series is deprecated and will raise a TypeError in the future. Use float(ser.iloc[0]) instead\n",
      "  pv = float(rk.present_value(flows=cash_flows_po, discount_rate=rate))\n"
     ]
    },
    {
     "data": {
      "text/plain": [
       "280.1"
      ]
     },
     "execution_count": 12,
     "metadata": {},
     "output_type": "execute_result"
    }
   ],
   "source": [
    "cash_flows_po = mortgage_pool.data['Principal Paid']\n",
    "rate = 0.045 / 12\n",
    "pv = float(rk.present_value(flows=cash_flows_po, discount_rate=rate))\n",
    "round(pv, 2)"
   ]
  },
  {
   "cell_type": "markdown",
   "metadata": {},
   "source": [
    "### Question (Principal-only and Interest-only MBS - Part B)"
   ]
  },
  {
   "cell_type": "markdown",
   "metadata": {},
   "source": [
    "Referring to the previous question, what is the value of the IO MBS?"
   ]
  },
  {
   "cell_type": "code",
   "execution_count": 13,
   "metadata": {},
   "outputs": [
    {
     "name": "stderr",
     "output_type": "stream",
     "text": [
      "C:\\Users\\x_tia\\AppData\\Local\\Temp\\ipykernel_1572\\3442375128.py:3: FutureWarning: Calling float on a single element Series is deprecated and will raise a TypeError in the future. Use float(ser.iloc[0]) instead\n",
      "  pv_r45 = float(rk.present_value(flows=cash_flows_io, discount_rate=rate))\n"
     ]
    },
    {
     "data": {
      "text/plain": [
       "133.23"
      ]
     },
     "execution_count": 13,
     "metadata": {},
     "output_type": "execute_result"
    }
   ],
   "source": [
    "cash_flows_io = mortgage_pool.data['Interest Paid']\n",
    "rate = 0.045 / 12\n",
    "pv_r45 = float(rk.present_value(flows=cash_flows_io, discount_rate=rate))\n",
    "round(pv_r45, 2)"
   ]
  },
  {
   "cell_type": "markdown",
   "metadata": {},
   "source": [
    "### Question 7 (Principal-only and Interest-only MBS - Part C)"
   ]
  },
  {
   "cell_type": "markdown",
   "metadata": {},
   "source": [
    "Referring to the previous question, what is the average life of the IO MBS?"
   ]
  },
  {
   "cell_type": "code",
   "execution_count": 14,
   "metadata": {},
   "outputs": [
    {
     "data": {
      "text/plain": [
       "6.01"
      ]
     },
     "execution_count": 14,
     "metadata": {},
     "output_type": "execute_result"
    }
   ],
   "source": [
    "round(rk.duration(cash_flows_io) / 12, 2)"
   ]
  },
  {
   "cell_type": "markdown",
   "metadata": {},
   "source": [
    "### Question 8 (Principal-only and Interest-only MBS - Part D)"
   ]
  },
  {
   "cell_type": "markdown",
   "metadata": {},
   "source": [
    "Suppose now that you purchased the IO MBS of the previous question and that the price you paid was the same price that you calculated in the previous question. The risk-free interest rate suddenly changes from 4.5% to 3.5%. Everything else stays the same. How much money have you made or lost on your investment?"
   ]
  },
  {
   "cell_type": "code",
   "execution_count": 15,
   "metadata": {},
   "outputs": [
    {
     "name": "stderr",
     "output_type": "stream",
     "text": [
      "C:\\Users\\x_tia\\AppData\\Local\\Temp\\ipykernel_1572\\1080693897.py:3: FutureWarning: Calling float on a single element Series is deprecated and will raise a TypeError in the future. Use float(ser.iloc[0]) instead\n",
      "  pv_r35 = float(rk.present_value(flows=cash_flows_io, discount_rate=rate))\n"
     ]
    },
    {
     "data": {
      "text/plain": [
       "7.17"
      ]
     },
     "execution_count": 15,
     "metadata": {},
     "output_type": "execute_result"
    }
   ],
   "source": [
    "cash_flows_io = mortgage_pool.data['Interest Paid']\n",
    "rate = 0.035 / 12\n",
    "pv_r35 = float(rk.present_value(flows=cash_flows_io, discount_rate=rate))\n",
    "round(pv_r35 - pv_r45, 2)"
   ]
  },
  {
   "cell_type": "markdown",
   "metadata": {},
   "source": [
    "### Question 9 (Principal-only and Interest-only MBS - Part E)"
   ]
  },
  {
   "cell_type": "markdown",
   "metadata": {},
   "source": [
    "Referring to the previous question, suppose the risk-free interest rate suddenly changes from 4.5% to 3.5% and that the pre-payment multiplier changes from 100 PSA to 150 PSA. How much money have you made or lost on your investment in the IO MBS?"
   ]
  },
  {
   "cell_type": "code",
   "execution_count": 16,
   "metadata": {},
   "outputs": [
    {
     "name": "stderr",
     "output_type": "stream",
     "text": [
      "d:\\techlent\\lecture\\Financial Engineering and Risk Management\\Introduction-to-Financial-Engineering-and-Risk-Management\\pricing_models.py:1141: FutureWarning: The behavior of DataFrame concatenation with empty or all-NA entries is deprecated. In a future version, this will no longer exclude empty or all-NA columns when determining the result dtypes. To retain the old behavior, exclude the relevant entries before the concat operation.\n",
      "  self.data = pd.concat([self.data, pd.DataFrame([current_values])], ignore_index=True)\n",
      "C:\\Users\\x_tia\\AppData\\Local\\Temp\\ipykernel_1572\\3281036712.py:10: FutureWarning: Calling float on a single element Series is deprecated and will raise a TypeError in the future. Use float(ser.iloc[0]) instead\n",
      "  pv_new = float(rk.present_value(flows=cash_flows_io_new, discount_rate=rate_new))\n"
     ]
    },
    {
     "data": {
      "text/plain": [
       "-9.58"
      ]
     },
     "execution_count": 16,
     "metadata": {},
     "output_type": "execute_result"
    }
   ],
   "source": [
    "PSA = 150\n",
    "rate_new = 0.035/12\n",
    "\n",
    "mortgage_pool_new = PassThroughMBS(P=P,\n",
    "                                  T=T,\n",
    "                                  loan_r=rate_recieved,\n",
    "                                  pass_r=rate_paid,\n",
    "                                  PSA=PSA)\n",
    "cash_flows_io_new = mortgage_pool_new.data['Interest Paid']\n",
    "pv_new = float(rk.present_value(flows=cash_flows_io_new, discount_rate=rate_new))\n",
    "round(pv_new - pv_r45, 2)"
   ]
  }
 ],
 "metadata": {
  "kernelspec": {
   "display_name": "Python 3",
   "language": "python",
   "name": "python3"
  },
  "language_info": {
   "codemirror_mode": {
    "name": "ipython",
    "version": 3
   },
   "file_extension": ".py",
   "mimetype": "text/x-python",
   "name": "python",
   "nbconvert_exporter": "python",
   "pygments_lexer": "ipython3",
   "version": "3.11.7"
  }
 },
 "nbformat": 4,
 "nbformat_minor": 2
}
