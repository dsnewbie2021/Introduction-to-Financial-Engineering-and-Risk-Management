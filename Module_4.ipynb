{
 "cells": [
  {
   "cell_type": "code",
   "execution_count": 1,
   "metadata": {},
   "outputs": [],
   "source": [
    "%load_ext autoreload\n",
    "%autoreload 2\n",
    "\n",
    "import pandas as pd\n",
    "import numpy as np\n",
    "import risk_kit as rk"
   ]
  },
  {
   "cell_type": "markdown",
   "metadata": {},
   "source": [
    "### Question 1"
   ]
  },
  {
   "cell_type": "markdown",
   "metadata": {},
   "source": [
    "Suppose the current term structure of interest rates, assuming annual compounding, is as follows:\n",
    "\n",
    "$s_1$ = 7.0\n",
    "\n",
    "$s_2$ = 7.3\n",
    "\n",
    "$s_3$ = 7.7\n",
    "\n",
    "$s_4$ = 8.1\n",
    "\n",
    "$s_5$ = 8.4\n",
    "\n",
    "$s_6$ = 8.8\n",
    "\n",
    "What is the discount rate d(0,4)?"
   ]
  },
  {
   "cell_type": "code",
   "execution_count": 2,
   "metadata": {},
   "outputs": [
    {
     "data": {
      "text/plain": [
       "0    0.070\n",
       "1    0.073\n",
       "2    0.077\n",
       "3    0.081\n",
       "4    0.084\n",
       "5    0.088\n",
       "dtype: float64"
      ]
     },
     "execution_count": 2,
     "metadata": {},
     "output_type": "execute_result"
    }
   ],
   "source": [
    "s = pd.Series([7.0, 7.3, 7.7, 8.1, 8.4, 8.8]) / 100\n",
    "s"
   ]
  },
  {
   "cell_type": "code",
   "execution_count": 3,
   "metadata": {},
   "outputs": [
    {
     "data": {
      "text/plain": [
       "0.732"
      ]
     },
     "execution_count": 3,
     "metadata": {},
     "output_type": "execute_result"
    }
   ],
   "source": [
    "periods = 4\n",
    "d4 = rk.discount(periods, s[periods - 1])\n",
    "round(d4, 3)"
   ]
  },
  {
   "cell_type": "markdown",
   "metadata": {},
   "source": [
    "### Question 2"
   ]
  },
  {
   "cell_type": "markdown",
   "metadata": {},
   "source": [
    "Suppose a 6-year swap with a notional principal of $10 million is being configured. \n",
    "\n",
    "What is the fixed rate of interest that will make the value of the swap equal to zero. (You should use the term structure of interest rates from Question 1.)"
   ]
  },
  {
   "cell_type": "code",
   "execution_count": 4,
   "metadata": {},
   "outputs": [
    {
     "data": {
      "text/plain": [
       "8.62"
      ]
     },
     "execution_count": 4,
     "metadata": {},
     "output_type": "execute_result"
    }
   ],
   "source": [
    "period = 6\n",
    "floating_bond_discount = 1 - rk.discount(period, s[period - 1])\n",
    "fixed_rate_discount = sum([rk.discount(t + 1, s[t]) for t in range(period)])\n",
    "fixed_rate = floating_bond_discount / fixed_rate_discount \n",
    "round(fixed_rate * 100, 2)"
   ]
  },
  {
   "cell_type": "markdown",
   "metadata": {},
   "source": [
    "### Question 3"
   ]
  },
  {
   "cell_type": "markdown",
   "metadata": {},
   "source": [
    "Suppose a farmer is expecting that her crop of oranges will be ready for harvest and sale as 150,000 pounds of orange juice in 33 months time. Suppose each orange juice futures contract is for 15,000 pounds of orange juice, and the current futures price is $F_0$ = 118.65 cents-per-pound.\n",
    "\n",
    "Assuming that the farmer has enough cash liquidity to fund any margin calls, what is the risk-free price that she can guarantee herself?"
   ]
  },
  {
   "cell_type": "code",
   "execution_count": 5,
   "metadata": {},
   "outputs": [
    {
     "data": {
      "text/plain": [
       "118.65"
      ]
     },
     "execution_count": 5,
     "metadata": {},
     "output_type": "execute_result"
    }
   ],
   "source": [
    "F0 = 118.65\n",
    "F0"
   ]
  },
  {
   "cell_type": "markdown",
   "metadata": {},
   "source": [
    "### Question 4"
   ]
  },
  {
   "cell_type": "markdown",
   "metadata": {},
   "source": [
    "Suppose a farmer is expecting that her crop of grapefruit will be ready for harvest and sale as 150,000 pounds of grapefruit juice in 33 months time. She would like to use futures to hedge her risk but unfortunately there\n",
    "are no futures contracts on grapefruit juice. Instead she will use orange juice futures.\n",
    "\n",
    "Suppose each orange juice futures contract is for 15,000 pounds of orange juice and the current futures price is $F_0$ = 118.65 cents-per-pound.\n",
    "\n",
    "The volatility, i.e. the standard deviation, of the prices of orange juice and grape fruit juice is 20% and 25%, respectively, and the correlation coefficient is 0.7. What is the approximate number of contracts she should purchase to minimize the variance of her payoff?"
   ]
  },
  {
   "cell_type": "code",
   "execution_count": 6,
   "metadata": {},
   "outputs": [
    {
     "data": {
      "text/plain": [
       "9"
      ]
     },
     "execution_count": 6,
     "metadata": {},
     "output_type": "execute_result"
    }
   ],
   "source": [
    "vol_orange = 0.2\n",
    "vol_grape = 0.25\n",
    "corr = 0.7\n",
    "\n",
    "harvest = 150000\n",
    "contract = 15000\n",
    "\n",
    "req = harvest / contract\n",
    "\n",
    "cov = vol_orange * vol_grape * corr\n",
    "\n",
    "y = cov / vol_orange ** 2\n",
    "n_contracts = y * req\n",
    "round(n_contracts)"
   ]
  },
  {
   "cell_type": "markdown",
   "metadata": {},
   "source": [
    "### Question 5"
   ]
  },
  {
   "cell_type": "markdown",
   "metadata": {},
   "source": [
    "Consider a 1-period binomial model with rate of interest as 2%, $S_0$ = 100$, u = 1/d = 1.05. \n",
    "\n",
    "Compute the value of a European call option on the stock with strike K=102. The stock does not pay dividends."
   ]
  },
  {
   "cell_type": "code",
   "execution_count": 7,
   "metadata": {},
   "outputs": [
    {
     "data": {
      "text/plain": [
       "2.04"
      ]
     },
     "execution_count": 7,
     "metadata": {},
     "output_type": "execute_result"
    }
   ],
   "source": [
    "S0 = 100\n",
    "u = 1.05\n",
    "d = 1 / u\n",
    "R = 1.02\n",
    "K = 102\n",
    "\n",
    "Cu = max(S0 * u - K, 0)\n",
    "Cd = max(S0 * d - K, 0)\n",
    "\n",
    "q = (R - d) / (u - d)\n",
    "\n",
    "C0 = (q * Cu + (1 - q) * Cd) / R\n",
    "\n",
    "round(C0, 2)"
   ]
  },
  {
   "cell_type": "markdown",
   "metadata": {},
   "source": [
    "### Question 6"
   ]
  },
  {
   "cell_type": "markdown",
   "metadata": {},
   "source": [
    "When you construct the replicating portfolio for the option in the previous question how many dollars do you need to invest in the cash account?"
   ]
  },
  {
   "cell_type": "code",
   "execution_count": 8,
   "metadata": {},
   "outputs": [
    {
     "data": {
      "text/plain": [
       "-28.694"
      ]
     },
     "execution_count": 8,
     "metadata": {},
     "output_type": "execute_result"
    }
   ],
   "source": [
    "x_s0 = (Cu - Cd) / (u - d)\n",
    "y = (Cu - x_s0 * u) / R\n",
    "round(y, 3)"
   ]
  }
 ],
 "metadata": {
  "kernelspec": {
   "display_name": "Python 3",
   "language": "python",
   "name": "python3"
  },
  "language_info": {
   "codemirror_mode": {
    "name": "ipython",
    "version": 3
   },
   "file_extension": ".py",
   "mimetype": "text/x-python",
   "name": "python",
   "nbconvert_exporter": "python",
   "pygments_lexer": "ipython3",
   "version": "3.7.1"
  }
 },
 "nbformat": 4,
 "nbformat_minor": 2
}
