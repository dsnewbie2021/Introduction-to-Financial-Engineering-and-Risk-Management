{
 "cells": [
  {
   "cell_type": "markdown",
   "metadata": {},
   "source": [
    "Suppose you are a portfolio manager and you are going to use derivatives to construct certain portfolio. The current stock price for AAPL is \\$171.01 per share, at 10 am, March 8, 2019. You want to sell 1 unit of European Call on AAPL, with strike of \\$180 and maturity of 1 year. \n",
    "\n",
    "Suppose the annualized interest rate is $3\\%$, the annualized drift for AAPL is $5\\%$, no dividend, and the annualized volatility is $10\\%$. In order to hedge the potential risk of your option, you are going to calculate several Greeks based on Black-Merton-Scholes model. "
   ]
  },
  {
   "cell_type": "markdown",
   "metadata": {},
   "source": [
    "Instructions and Hints: \n",
    "\n",
    "(i) In your calculation, all results should round to four digits, and you should use the convention that 0.00005 will be rounded up to 0.0001.  (It is understandable that calculation normal PDF and CDF can have computational error, so a quite wide range of answers is admitted.)\n",
    "\n",
    "(ii) You should carefully keep your intermediate calculation results, for example, $d_1$, as they will be helpful for later questions in this assignment.\n",
    "\n",
    "(iii) You can use online Normal CDF calculators but NO BMS-Calculator (option price or Greeks calculator) is allowed. Since there will be lots of formula-oriented questions, it will be helpful to make your OWN program in Excel, Python, Matlab etc., in order to do calculation."
   ]
  },
  {
   "cell_type": "markdown",
   "metadata": {},
   "source": [
    "### Part 1: Greeks based on Black-Merton-Scholes Greeks"
   ]
  },
  {
   "cell_type": "markdown",
   "metadata": {},
   "source": [
    "1. Calculate the Call option price, at 10 am, March 8, 2019."
   ]
  },
  {
   "cell_type": "markdown",
   "metadata": {},
   "source": [
    "To calculate the price of the European Call option on AAPL using the Black-Scholes-Merton model, we need to compute the option price based on the provided parameters and then calculate the specified Greeks (Delta, Gamma, Vega, Theta, and Rho). Let’s start with the call option price.\n",
    "\n",
    "Given Parameters:\n",
    "\n",
    "Current stock price ($S_0$): \\$171.01\n",
    "\n",
    "Strike price ($K$): \\$180\n",
    "\n",
    "Time to maturity ($T$): 1 year\n",
    "\n",
    "Risk-free interest rate ($r$): $3\\%$ or $0.03$ (annualized)\n",
    "\n",
    "Drift ($\\mu$): $5\\%$ or $0.05$ (not used in Black-Scholes pricing, only for stock price dynamics)\n",
    "\n",
    "Dividend yield ($q$): 0 (no dividend)\n",
    "\n",
    "Volatility ($\\sigma$): $10\\%$ or $0.10$ (annualized)"
   ]
  },
  {
   "cell_type": "markdown",
   "metadata": {},
   "source": [
    "The Black-Scholes formula for a European Call option price is:\n",
    "$$C = S_0 \\Phi(d_1) - K e^{-r T} \\Phi(d_2)$$\n",
    "where \n",
    "$$d_1 = \\frac{\\ln{\\frac{S_0}{K}} + (r + \\frac{\\sigma^2}{2}) T}{\\sigma \\sqrt{T}}$$\n",
    "and\n",
    "$$d_2 = d_1 - \\sigma \\sqrt{T}$$"
   ]
  },
  {
   "cell_type": "code",
   "execution_count": 1,
   "metadata": {},
   "outputs": [
    {
     "name": "stdout",
     "output_type": "stream",
     "text": [
      "d1: -0.1623\n",
      "d2: -0.2623\n"
     ]
    }
   ],
   "source": [
    "import math\n",
    "from scipy.stats import norm\n",
    "\n",
    "# Given parameters\n",
    "S = 171.01  # Current stock price\n",
    "K = 180     # Strike price\n",
    "r = 0.03    # Annualized interest rate\n",
    "sigma = 0.10  # Annualized volatility\n",
    "T = 1       # Time to maturity in years\n",
    "\n",
    "# Calculate d1 and d2\n",
    "d1 = (math.log(S / K) + (r + 0.5 * sigma**2) * T) / (sigma * math.sqrt(T))\n",
    "d2 = d1 - sigma * math.sqrt(T)\n",
    "\n",
    "print(f\"d1: {d1:.4f}\")\n",
    "print(f\"d2: {d2:.4f}\")"
   ]
  },
  {
   "cell_type": "markdown",
   "metadata": {},
   "source": [
    "Thus d1 is -0.1623, and d2 is -0.2623, respectively."
   ]
  },
  {
   "cell_type": "code",
   "execution_count": 2,
   "metadata": {},
   "outputs": [
    {
     "name": "stdout",
     "output_type": "stream",
     "text": [
      "Call Option Price: 5.2122\n"
     ]
    }
   ],
   "source": [
    "\n",
    "# Calculate the call option price\n",
    "call_price = S * norm.cdf(d1) - K * math.exp(-r * T) * norm.cdf(d2)\n",
    "\n",
    "print(f\"Call Option Price: {call_price:.4f}\")"
   ]
  },
  {
   "cell_type": "markdown",
   "metadata": {},
   "source": [
    "2. Calculate the Delta, at 10 am, March 8, 2019."
   ]
  },
  {
   "cell_type": "code",
   "execution_count": 3,
   "metadata": {},
   "outputs": [
    {
     "name": "stdout",
     "output_type": "stream",
     "text": [
      "Delta: 0.4355\n"
     ]
    }
   ],
   "source": [
    "# Given parameters\n",
    "d1 = -0.1623\n",
    "\n",
    "# Calculate Delta\n",
    "delta = norm.cdf(d1)\n",
    "\n",
    "print(f\"Delta: {delta:.4f}\")"
   ]
  },
  {
   "cell_type": "markdown",
   "metadata": {},
   "source": [
    "3. Calculate the Gamma, at 10 am, March 8, 2019. "
   ]
  },
  {
   "cell_type": "code",
   "execution_count": 4,
   "metadata": {},
   "outputs": [
    {
     "name": "stdout",
     "output_type": "stream",
     "text": [
      "Gamma: 0.0230\n"
     ]
    }
   ],
   "source": [
    "# Given parameters\n",
    "S = 171.01  # Current stock price\n",
    "sigma = 0.10  # Annualized volatility\n",
    "T = 1       # Time to maturity in years\n",
    "d1 = -0.1623\n",
    "\n",
    "# Calculate Gamma\n",
    "gamma = norm.pdf(d1) / (S * sigma * math.sqrt(T))\n",
    "\n",
    "print(f\"Gamma: {gamma:.4f}\")"
   ]
  },
  {
   "cell_type": "markdown",
   "metadata": {},
   "source": [
    "4. Calculate the Vega, at 10 am, March 8, 2019. "
   ]
  },
  {
   "cell_type": "code",
   "execution_count": 5,
   "metadata": {},
   "outputs": [
    {
     "name": "stdout",
     "output_type": "stream",
     "text": [
      "Vega: 67.3305\n"
     ]
    }
   ],
   "source": [
    "# Given parameters\n",
    "S = 171.01  # Current stock price\n",
    "T = 1       # Time to maturity in years\n",
    "d1 = -0.1623\n",
    "\n",
    "# Calculate Vega\n",
    "vega = S * norm.pdf(d1) * math.sqrt(T)\n",
    "\n",
    "print(f\"Vega: {vega:.4f}\")"
   ]
  },
  {
   "cell_type": "markdown",
   "metadata": {},
   "source": [
    "5. Calculate the Theta, at 10 am, March 8, 2019."
   ]
  },
  {
   "cell_type": "code",
   "execution_count": 6,
   "metadata": {},
   "outputs": [
    {
     "name": "stdout",
     "output_type": "stream",
     "text": [
      "Theta: -5.444581 (per day)\n"
     ]
    }
   ],
   "source": [
    "# Given parameters\n",
    "S = 171.01  # Current stock price\n",
    "K = 180     # Strike price\n",
    "r = 0.03    # Annualized interest rate\n",
    "sigma = 0.10  # Annualized volatility\n",
    "T = 1       # Time to maturity in years\n",
    "d1 = -0.1623\n",
    "d2 = -0.2623\n",
    "\n",
    "# Calculate Theta (per year, then divide by 365 for daily theta)\n",
    "theta = -((S * norm.pdf(d1) * sigma) / (2 * math.sqrt(T))) - (r * K * math.exp(-r * T) * norm.cdf(d2))\n",
    "\n",
    "print(f\"Theta: {theta:.6f} (per day)\")"
   ]
  },
  {
   "cell_type": "markdown",
   "metadata": {},
   "source": [
    "6. After selling the option, you want to do Delta-Hedge immediately. So you are currently buying Delta shares of AAPL, where Delta is your calculation result in Question 1. \n",
    "\n",
    "Calculate the value of your portfolio (i.e. the net cashflow) of selling one unit of call, and buying Delta shares of AAPL, at 10 am, March 8, 2019. For example, if you construct your portfolio by borrowing $10, then the answer is -10. Same for following questions.\n",
    "\n",
    "In your calculation, all results should round to four digits, and you should use the convention that 0.00005 will be rounded up to 0.0001. "
   ]
  },
  {
   "cell_type": "code",
   "execution_count": 7,
   "metadata": {},
   "outputs": [
    {
     "name": "stdout",
     "output_type": "stream",
     "text": [
      "Portfolio Value: -69.2686\n"
     ]
    }
   ],
   "source": [
    "# ... existing parameters ...\n",
    "S = 171.01\n",
    "delta = norm.cdf(d1)  # From Question 1 (assuming d1 = -0.1623)\n",
    "call_price = S * norm.cdf(d1) - K * math.exp(-r * T) * norm.cdf(d2)  # From BSM formula\n",
    "\n",
    "# Calculate portfolio value (short call + long delta shares)\n",
    "portfolio_value = call_price - delta * S\n",
    "\n",
    "print(f\"Portfolio Value: {portfolio_value:.4f}\")\n"
   ]
  },
  {
   "cell_type": "markdown",
   "metadata": {},
   "source": [
    "7. Suppose you are doing a monthly Delta-Hedge, that is, you re-hedge per month. After one month, at 10 am, April 8, 2019, the stock price is $\\$180.2$, and you want to re-hedge right now.\n",
    "\n",
    "Calculate the additional amount of shares of AAPL you should buy (positive for buying, negative for selling) at 10 am, April 8, 2019, in order to re-hedge.\n",
    "\n",
    "Think about why you are selling or buying stocks when the stock price goes up from the meaning of Delta Hedging.\n",
    "\n",
    "In your calculation, all results should round to four digits, and you should use the convention that 0.00005 will be rounded up to 0.0001. "
   ]
  },
  {
   "cell_type": "code",
   "execution_count": 8,
   "metadata": {},
   "outputs": [
    {
     "name": "stdout",
     "output_type": "stream",
     "text": [
      "Additional shares to buy: 0.2001\n"
     ]
    }
   ],
   "source": [
    "# New parameters after one month\n",
    "S_new = 180.2  # New stock price\n",
    "T_new = 11/12  # 1 month has passed (1 year - 1 month)\n",
    "\n",
    "# Calculate new d1 and delta\n",
    "d1_new = (math.log(S_new/K) + (r + 0.5*sigma**2)*T_new) / (sigma*math.sqrt(T_new))\n",
    "delta_new = norm.cdf(d1_new)\n",
    "\n",
    "# Calculate additional shares needed (new delta - old delta)\n",
    "additional_shares = delta_new - delta  # delta from previous calculation\n",
    "\n",
    "print(f\"Additional shares to buy: {additional_shares:.4f}\")"
   ]
  },
  {
   "cell_type": "markdown",
   "metadata": {},
   "source": [
    "8. Calculate the change of your portfolio value (i.e. the net cashflow). Note that your answer should be in $\\$$ with new portfolio value minus previous value, in present value at 10 am, April 8, 2019.\n",
    "\n",
    "In your calculation, all results should round to four digits, and you should use the convention that 0.00005 will be rounded up to 0.0001. "
   ]
  },
  {
   "cell_type": "code",
   "execution_count": 9,
   "metadata": {},
   "outputs": [
    {
     "name": "stdout",
     "output_type": "stream",
     "text": [
      "Portfolio Value Change: $0.4201\n"
     ]
    }
   ],
   "source": [
    "# ... existing parameters ...\n",
    "from math import exp\n",
    "\n",
    "# New parameters after one month\n",
    "S_new = 180.2\n",
    "T_new = 11/12\n",
    "monthly_discount = exp(-r * (1/12))  # Discount factor for 1 month\n",
    "\n",
    "# Calculate new option price and delta\n",
    "d1_new = (math.log(S_new/K) + (r + 0.5*sigma**2)*T_new) / (sigma*math.sqrt(T_new))\n",
    "d2_new = d1_new - sigma*math.sqrt(T_new)\n",
    "call_price_new = S_new * norm.cdf(d1_new) - K * exp(-r*T_new) * norm.cdf(d2_new)\n",
    "delta_new = norm.cdf(d1_new)\n",
    "\n",
    "# Calculate portfolio value change\n",
    "portfolio_change = (call_price_new - call_price) - delta*(S_new - S) * monthly_discount\n",
    "\n",
    "# Round according to specified convention\n",
    "portfolio_change_rounded = round(portfolio_change + 0.00005, 4)\n",
    "\n",
    "print(f\"Portfolio Value Change: ${portfolio_change_rounded:.4f}\")"
   ]
  },
  {
   "cell_type": "markdown",
   "metadata": {},
   "source": [
    "### Part 2: Volatility Surface I\n",
    "\n",
    "9. Back to at 10 am, March 8, 2019. Suppose you are constructing another portfolio by buying a European Call on AAPL with strike 180 and selling the European Call on AAPL with strike 185.\n",
    "\n",
    "Without volatility skew, that is, volatility is always 10% for different strikes. Calculate your portfolio value V, at 10 am, March 8, 2019.\n",
    "\n",
    "In your calculation, all results should round to four digits, and you should use the convention that 0.00005 will be rounded up to 0.0001. "
   ]
  },
  {
   "cell_type": "code",
   "execution_count": 10,
   "metadata": {},
   "outputs": [
    {
     "name": "stdout",
     "output_type": "stream",
     "text": [
      "Portfolio Value: 1.6743\n"
     ]
    }
   ],
   "source": [
    "# Parameters\n",
    "S = 171.01\n",
    "r = 0.03\n",
    "sigma = 0.10\n",
    "T = 1\n",
    "\n",
    "# Calculate call option prices\n",
    "def black_scholes_call(S, K, r, sigma, T):\n",
    "    d1 = (math.log(S/K) + (r + 0.5*sigma**2)*T) / (sigma*math.sqrt(T))\n",
    "    d2 = d1 - sigma*math.sqrt(T)\n",
    "    return S * norm.cdf(d1) - K * math.exp(-r*T) * norm.cdf(d2)\n",
    "\n",
    "# Calculate both call prices\n",
    "call_180 = black_scholes_call(S, 180, r, sigma, T)\n",
    "call_185 = black_scholes_call(S, 185, r, sigma, T)\n",
    "\n",
    "# Portfolio value (long 180 call, short 185 call)\n",
    "portfolio_value = call_180 - call_185\n",
    "\n",
    "# Apply rounding convention\n",
    "portfolio_value = round(portfolio_value + 0.00005, 4)\n",
    "\n",
    "print(f\"Portfolio Value: {portfolio_value:.4f}\")"
   ]
  },
  {
   "cell_type": "markdown",
   "metadata": {},
   "source": [
    "10. Suppose the market actually has a volatility skew:\n",
    "$$\n",
    "\\sigma(K) = \\min\\left\\{1, 18K^{-1}\\right\\}\n",
    "$$\n",
    "Calculate your portfolio V' again, at 10 am, March 8, 2019. \n",
    "\n",
    "Think about why the portfolio value goes higher or lower after we assume the volatility skew in the market.\n",
    "\n",
    "In your calculation, all results should round to four digits, and you should use the convention that 0.00005 will be rounded up to 0.0001. "
   ]
  },
  {
   "cell_type": "code",
   "execution_count": 11,
   "metadata": {},
   "outputs": [
    {
     "name": "stdout",
     "output_type": "stream",
     "text": [
      "Portfolio Value with Skew: 1.8414\n"
     ]
    }
   ],
   "source": [
    "# Parameters\n",
    "S = 171.01\n",
    "r = 0.03\n",
    "T = 1\n",
    "\n",
    "# Volatility skew function\n",
    "def volatility_skew(K):\n",
    "    return min(1, 18/K)\n",
    "\n",
    "# Calculate call prices with skew\n",
    "def black_scholes_call_skew(S, K, r, T):\n",
    "    sigma = volatility_skew(K)\n",
    "    d1 = (math.log(S/K) + (r + 0.5*sigma**2)*T) / (sigma*math.sqrt(T))\n",
    "    d2 = d1 - sigma*math.sqrt(T)\n",
    "    return S * norm.cdf(d1) - K * math.exp(-r*T) * norm.cdf(d2)\n",
    "\n",
    "# Calculate both call prices with skew\n",
    "call_180_skew = black_scholes_call_skew(S, 180, r, T)\n",
    "call_185_skew = black_scholes_call_skew(S, 185, r, T)\n",
    "\n",
    "# Portfolio value with skew\n",
    "portfolio_value_skew = call_180_skew - call_185_skew\n",
    "\n",
    "# Apply rounding convention\n",
    "portfolio_value_skew = round(portfolio_value_skew + 0.00005, 4)\n",
    "\n",
    "print(f\"Portfolio Value with Skew: {portfolio_value_skew:.4f}\")"
   ]
  },
  {
   "cell_type": "markdown",
   "metadata": {},
   "source": [
    "### Part 3: Digital Option and Volatility Surface II\n",
    "\n",
    "11. Now you are focusing on portfolios with digital options on AAPL, at 10 am, March 8, 2019. All the information about the stock stays the same, and we are back to a world of constant volatility $10\\%$ again.\n",
    "\n",
    "Note that the payoff of this option at maturity is:\n",
    "$$\n",
    "1_{S_T \\geq K}\n",
    "$$\n",
    "Calculate the price of digital call option on AAPL with strike 180 and maturity of 1 year, at 10 am, March 8, 2019.\n",
    "\n",
    "Think about the proper range for the digital option's price, from the Put-Call Parity. In addition, compare this number with the Delta of European Call in Question 2, think about why.\n",
    "\n",
    "In your calculation, all results should round to four digits, and you should use the convention that 0.00005 will be rounded up to 0.0001. "
   ]
  },
  {
   "cell_type": "code",
   "execution_count": 12,
   "metadata": {},
   "outputs": [
    {
     "name": "stdout",
     "output_type": "stream",
     "text": [
      "Digital Call Option Price: 0.3849\n"
     ]
    }
   ],
   "source": [
    "# Given parameters\n",
    "S = 171.01\n",
    "K = 180\n",
    "r = 0.03\n",
    "sigma = 0.10\n",
    "T = 1\n",
    "\n",
    "# Calculate d2 for digital option\n",
    "d2 = (math.log(S/K) + (r - 0.5*sigma**2)*T) / (sigma*math.sqrt(T))\n",
    "\n",
    "# Digital call price is e^(-rT)*N(d2)\n",
    "digital_price = math.exp(-r*T) * norm.cdf(d2)\n",
    "\n",
    "# Apply rounding convention\n",
    "digital_price = round(digital_price + 0.00005, 4)\n",
    "\n",
    "print(f\"Digital Call Option Price: {digital_price:.4f}\")"
   ]
  },
  {
   "cell_type": "markdown",
   "metadata": {},
   "source": [
    "12. Suppose you are going to sell this digital option at the price you calculated at Question 11 now. Meantime, you want to do Delta-Hedging to lowered potential risk.\n",
    "\n",
    "Calculate the amount of shares of AAPL you should buy or sell (positive for buying, negative for selling), based on Black-Scholes model, at 10 am, March 8, 2019.\n",
    "\n",
    "Again, compare this number with the Gamma of European Call in Question 3, think about why.\n",
    "\n",
    "In your calculation, all results should round to four digits, and you should use the convention that 0.00005 will be rounded up to 0.0001. "
   ]
  },
  {
   "cell_type": "code",
   "execution_count": 13,
   "metadata": {},
   "outputs": [
    {
     "name": "stdout",
     "output_type": "stream",
     "text": [
      "Digital Call Delta Hedge: 0.0219 shares\n"
     ]
    }
   ],
   "source": [
    "# Calculate digital call delta\n",
    "d1 = (math.log(S/K) + (r + 0.5*sigma**2)*T) / (sigma*math.sqrt(T))\n",
    "digital_delta = math.exp(-r*T) * norm.pdf(d2) / (S * sigma * math.sqrt(T))\n",
    "\n",
    "# Apply rounding convention\n",
    "digital_delta = round(digital_delta + 0.00005, 4)\n",
    "\n",
    "print(f\"Digital Call Delta Hedge: {digital_delta:.4f} shares\")"
   ]
  },
  {
   "cell_type": "markdown",
   "metadata": {},
   "source": [
    "13. Suppose you are constructing another portfolio by buying a digital European Call on AAPL with strike 180 and selling a digital European Call on AAPL with strike 185.\n",
    "\n",
    "Calculate your portfolio value W , at 10 am, March 8, 2019.\n",
    "\n",
    "In your calculation, all results should round to four digits, and you should use the convention that 0.00005 will be rounded up to 0.0001. "
   ]
  },
  {
   "cell_type": "code",
   "execution_count": 14,
   "metadata": {},
   "outputs": [
    {
     "name": "stdout",
     "output_type": "stream",
     "text": [
      "Portfolio Value W: 0.0977\n"
     ]
    }
   ],
   "source": [
    "# Parameters\n",
    "S = 171.01\n",
    "r = 0.03\n",
    "sigma = 0.10\n",
    "T = 1\n",
    "\n",
    "# Digital call price function\n",
    "def digital_call_price(S, K, r, sigma, T):\n",
    "    d2 = (math.log(S/K) + (r - 0.5*sigma**2)*T) / (sigma*math.sqrt(T))\n",
    "    return math.exp(-r*T) * norm.cdf(d2)\n",
    "\n",
    "# Calculate both digital call prices\n",
    "digital_180 = digital_call_price(S, 180, r, sigma, T)\n",
    "digital_185 = digital_call_price(S, 185, r, sigma, T)\n",
    "\n",
    "# Portfolio value (long 180 digital call, short 185 digital call)\n",
    "W = digital_180 - digital_185\n",
    "\n",
    "# Apply rounding convention\n",
    "W = round(W + 0.00005, 4)\n",
    "\n",
    "print(f\"Portfolio Value W: {W:.4f}\")"
   ]
  },
  {
   "cell_type": "markdown",
   "metadata": {},
   "source": [
    "14. Now we assume the market has a volatility skew again, as in Question 10:\n",
    "$$\n",
    "\\sigma(K) = \\min\\left\\{1, 18K^{-1}\\right\\}\n",
    "$$\n",
    "Note that here we should use the pricing formula based on chain rule:\n",
    "$$\n",
    "C_{Digital}(K) = -\\frac{dC(K,\\sigma(K))}{dK} = -\\frac{\\partial C(K,\\sigma(K))}{\\partial K} - \\frac{\\partial C(K,\\sigma(K))}{\\partial \\sigma} \\cdot \\frac{\\partial \\sigma(K)}{\\partial K}\n",
    "$$\n",
    "Calculate your portfolio W' again, at 10 am, March 8, 2019. \n",
    "\n",
    "Compare the difference of portfolio value W' - W with the previous one V' - V , think about the impact of volatility skew on different portfolios.\n",
    "\n",
    "In your calculation, all results should round to four digits, and you should use the convention that 0.00005 will be rounded up to 0.0001. "
   ]
  },
  {
   "cell_type": "code",
   "execution_count": 15,
   "metadata": {},
   "outputs": [
    {
     "name": "stdout",
     "output_type": "stream",
     "text": [
      "Portfolio Value W': 0.1076\n"
     ]
    }
   ],
   "source": [
    "# Parameters\n",
    "S = 171.01\n",
    "r = 0.03\n",
    "T = 1\n",
    "\n",
    "# Volatility skew function\n",
    "def volatility_skew(K):\n",
    "    return min(1, 18/K)\n",
    "\n",
    "# Digital call price with skew\n",
    "def digital_call_skew(S, K, r, T):\n",
    "    sigma = volatility_skew(K)\n",
    "    d2 = (math.log(S/K) + (r - 0.5*sigma**2)*T) / (sigma*math.sqrt(T))\n",
    "    vega = S * norm.pdf(d2) * math.sqrt(T)  # For vega term\n",
    "    \n",
    "    # Calculate partial derivatives\n",
    "    dC_dK = -math.exp(-r*T) * norm.cdf(d2)  # Strike derivative\n",
    "    dC_dsigma = vega  # Volatility sensitivity\n",
    "    dsigma_dK = -18/(K**2) if K > 18 else 0  # Skew derivative\n",
    "    \n",
    "    return -dC_dK - dC_dsigma * dsigma_dK\n",
    "\n",
    "# Calculate both digital calls with skew\n",
    "digital_180_skew = digital_call_skew(S, 180, r, T)\n",
    "digital_185_skew = digital_call_skew(S, 185, r, T)\n",
    "\n",
    "# Portfolio value with skew\n",
    "W_prime = digital_180_skew - digital_185_skew\n",
    "\n",
    "# Apply rounding convention\n",
    "W_prime = round(W_prime + 0.00005, 4)\n",
    "\n",
    "print(f\"Portfolio Value W': {W_prime:.4f}\")"
   ]
  }
 ],
 "metadata": {
  "kernelspec": {
   "display_name": "Python 3",
   "language": "python",
   "name": "python3"
  },
  "language_info": {
   "codemirror_mode": {
    "name": "ipython",
    "version": 3
   },
   "file_extension": ".py",
   "mimetype": "text/x-python",
   "name": "python",
   "nbconvert_exporter": "python",
   "pygments_lexer": "ipython3",
   "version": "3.11.7"
  }
 },
 "nbformat": 4,
 "nbformat_minor": 2
}
