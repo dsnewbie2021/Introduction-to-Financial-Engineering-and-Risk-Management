{
 "cells": [
  {
   "cell_type": "markdown",
   "metadata": {},
   "source": [
    "### Question 1\n",
    "\n",
    "A file of the stocks daily returns (Calculated as $\\frac{P_{i+1}-P_{i}}{P_{i}}$) from January 4th 2016- December 28th 2017 is provided below. Please download this file to answer the questions.  \n",
    "\n",
    "There are 23 stocks' daily returns from January 4th, 2016 to December 28th, 2017 from Yahoo Finance. Suppose these 23 stocks are the only risky assets available in the market. Please compute the mean daily returns of each stock, and the covariance matrix of those stocks' returns. Please enter the average daily return of Stock 'GE' from from January, 4th 2016 to December 28th, 2017. (Round to the fourth decimal place.)"
   ]
  },
  {
   "cell_type": "code",
   "execution_count": 1,
   "metadata": {},
   "outputs": [],
   "source": [
    "# %pip install openpyxl\n"
   ]
  },
  {
   "cell_type": "code",
   "execution_count": 2,
   "metadata": {},
   "outputs": [],
   "source": [
    "#%pip install cvxpy"
   ]
  },
  {
   "cell_type": "code",
   "execution_count": 3,
   "metadata": {},
   "outputs": [
    {
     "name": "stdout",
     "output_type": "stream",
     "text": [
      "-0.0011\n"
     ]
    }
   ],
   "source": [
    "import pandas as pd\n",
    "import numpy as np\n",
    "import openpyxl\n",
    "import cvxpy as cp\n",
    "from matplotlib import pyplot as plt\n",
    "\n",
    "# URL of the Excel file\n",
    "file_url = \"FERM_3_Assignment_1.xlsx\"\n",
    "\n",
    "# Read the Excel file into a pandas DataFrame\n",
    "df = pd.read_excel(file_url, sheet_name='Daily_Returns_Q1_Q2')\n",
    "\n",
    "# Set the 'date' column as the index\n",
    "df['date'] = pd.to_datetime(df['date'])\n",
    "df = df.set_index('date')\n",
    "\n",
    "# Calculate the mean daily returns for each stock\n",
    "mean_daily_returns = df.mean()\n",
    "\n",
    "# Calculate the covariance matrix of the stocks' returns\n",
    "covariance_matrix = df.cov()\n",
    "\n",
    "# Extract the average daily return of Stock 'GE'\n",
    "ge_avg_daily_return = mean_daily_returns['GE']\n",
    "\n",
    "# Print the average daily return of Stock 'GE'\n",
    "print(f\"{ge_avg_daily_return:.4f}\")"
   ]
  },
  {
   "cell_type": "markdown",
   "metadata": {},
   "source": [
    "### Question 2\n",
    "\n",
    "Please enter the covariance between daily returns of IBM and GE from from January, 4th 2016 to December 28th, 2017. (Round to the sixth decimal place.)\n"
   ]
  },
  {
   "cell_type": "code",
   "execution_count": 4,
   "metadata": {},
   "outputs": [
    {
     "name": "stdout",
     "output_type": "stream",
     "text": [
      "0.000047\n"
     ]
    }
   ],
   "source": [
    "# Extract the covariance between 'IBM' and 'GE'\n",
    "covariance_ibm_ge = covariance_matrix.loc['IBM', 'GE']\n",
    "\n",
    "# Print the covariance between 'IBM' and 'GE'\n",
    "print(f\"{covariance_ibm_ge:.6f}\")\n"
   ]
  },
  {
   "cell_type": "markdown",
   "metadata": {},
   "source": [
    "### Question 3\n",
    "\n",
    "Suppose we want to minimize the risk of the portfolio with the constraint that average daily return should be greater than or equal to 0.05%. i.e.:\n",
    "\n",
    "$$\n",
    "\\begin{array}{ll}\n",
    "\\text{minimize} & x^TVx \\\\\n",
    "\\text{s.t.} & \\mu^Tx \\geq 0.0005 \\\\\n",
    "& 1^Tx = 1\n",
    "\\end{array}\n",
    "$$\n",
    "\n",
    "Where $\\mu$ is the daily return vector of the stocks, $x$ is the weight vector of stocks in the portfolio, and $V$ is the covariance matrix of the stocks' daily returns.\n",
    "\n",
    "What is the optimal value?\n",
    "\n",
    "Let $x_1$ be your optimal portfolio in this problem\n",
    "\n",
    "&#9675; $5.143*10^{-5}$.\n",
    "\n",
    "&#9675; $0.003617$.\n",
    "\n",
    "&#9675; $0.005828$.\n",
    "\n",
    "&#9679; $3.3*10^{-5}$."
   ]
  },
  {
   "cell_type": "code",
   "execution_count": 5,
   "metadata": {},
   "outputs": [
    {
     "name": "stdout",
     "output_type": "stream",
     "text": [
      "Optimal Portfolio Variance: 3.5281547646196786e-05\n",
      "Optimal Weights: [ 7.88274308e-02  3.04497058e-18  2.52405086e-02  3.05861265e-18\n",
      "  3.81399457e-02  1.96877645e-02  7.49697949e-19  5.51252176e-02\n",
      "  5.37249829e-02  2.49283239e-02  4.41913379e-19  2.00641749e-01\n",
      "  4.72418477e-18  1.27944529e-01  2.25128120e-18 -3.95519600e-20\n",
      "  2.06789904e-02  3.68816027e-02  3.77157221e-02  2.34902052e-01\n",
      "  2.86424754e-02  1.29119670e-02  4.00673840e-03]\n"
     ]
    }
   ],
   "source": [
    "# Define the number of assets\n",
    "n = len(mean_daily_returns)\n",
    "\n",
    "# Define the weights as a variable\n",
    "x = cp.Variable(n)\n",
    "\n",
    "# Define the constraints\n",
    "constraints = [\n",
    "    cp.sum(x) == 1,  # Weights sum to 1\n",
    "    x >= 0,         # No short selling\n",
    "    x @ mean_daily_returns >= 0.0005  # Target return\n",
    "]\n",
    "\n",
    "# Define the objective function\n",
    "portfolio_variance = cp.quad_form(x, covariance_matrix.values)  # Use .values to convert DataFrame to NumPy array\n",
    "\n",
    "# Define the problem\n",
    "problem = cp.Problem(cp.Minimize(portfolio_variance), constraints)\n",
    "\n",
    "# Solve the problem\n",
    "problem.solve()\n",
    "\n",
    "# Print the optimal portfolio variance and weights\n",
    "print(\"Optimal Portfolio Variance:\", problem.value)\n",
    "print(\"Optimal Weights:\", x.value)"
   ]
  },
  {
   "cell_type": "markdown",
   "metadata": {},
   "source": [
    "### Question 4\n",
    "\n",
    "\n",
    "What is the expected return of the portfolio $x_1$ ? (Round your answer to the fourth decimal place.)"
   ]
  },
  {
   "cell_type": "code",
   "execution_count": 6,
   "metadata": {},
   "outputs": [
    {
     "name": "stdout",
     "output_type": "stream",
     "text": [
      "0.0005\n"
     ]
    }
   ],
   "source": [
    "# Get the optimal weights\n",
    "optimal_weights = x.value\n",
    "\n",
    "# Calculate the expected return of the optimal portfolio\n",
    "expected_return = optimal_weights @ mean_daily_returns\n",
    "\n",
    "# Print the expected return, rounded to four decimal places\n",
    "print(f\"{expected_return:.4f}\")"
   ]
  },
  {
   "cell_type": "markdown",
   "metadata": {},
   "source": [
    "### Question 5\n",
    "\n",
    "Suppose we now want to change the previous constraint so that the average daily return should be greater than or equal to 0.08%.\n",
    "\n",
    "What is the new optimal value of the problem? (Round your solution to the sixth decimal place.)\n",
    "\n",
    "Let $x_2$ be your optimal portfolio in this problem.\n"
   ]
  },
  {
   "cell_type": "code",
   "execution_count": 7,
   "metadata": {},
   "outputs": [
    {
     "name": "stdout",
     "output_type": "stream",
     "text": [
      "0.000043\n"
     ]
    }
   ],
   "source": [
    "# Define the constraints\n",
    "constraints = [\n",
    "    cp.sum(x) == 1,  # Weights sum to 1\n",
    "    x >= 0,         # No short selling\n",
    "    x @ mean_daily_returns >= 0.0008  # Target return changed to 0.08%\n",
    "]\n",
    "\n",
    "# Define the objective function\n",
    "portfolio_variance = cp.quad_form(x, covariance_matrix.values)\n",
    "\n",
    "# Define the problem\n",
    "problem = cp.Problem(cp.Minimize(portfolio_variance), constraints)\n",
    "\n",
    "# Solve the problem\n",
    "problem.solve()\n",
    "\n",
    "# Print the optimal portfolio variance\n",
    "print(f\"{problem.value:.6f}\")"
   ]
  },
  {
   "cell_type": "markdown",
   "metadata": {},
   "source": [
    "### Question 6\n",
    "\n",
    "Suppose we now want to change the previous constraint so that the average daily return should be greater than or equal to 0.1%.\n",
    "\n",
    "Solve for the optimal solution $x_3$ by solving the mean variance problem.\n",
    "\n",
    "Compute $z = \\phi x_1 + (1-\\phi)x_2$, where $\\phi = \\frac{0.08\\% - 0.1\\%}{0.08\\% - 0.05\\%}$\n",
    "\n",
    "Compare $z$ and $x_3$, test two fund theorem: \n",
    "\n",
    "\n"
   ]
  },
  {
   "cell_type": "code",
   "execution_count": 8,
   "metadata": {},
   "outputs": [
    {
     "name": "stdout",
     "output_type": "stream",
     "text": [
      "Two-Fund Theorem: z != x3\n"
     ]
    }
   ],
   "source": [
    "# --- Solve for x1 (0.05% return) ---\n",
    "x1 = cp.Variable(n)\n",
    "constraints1 = [\n",
    "    cp.sum(x1) == 1,\n",
    "    x1 >= 0,\n",
    "    x1 @ mean_daily_returns >= 0.0005\n",
    "]\n",
    "portfolio_variance1 = cp.quad_form(x1, covariance_matrix.values)\n",
    "problem1 = cp.Problem(cp.Minimize(portfolio_variance1), constraints1)\n",
    "problem1.solve()\n",
    "x1_optimal = x1.value\n",
    "\n",
    "# --- Solve for x2 (0.08% return) ---\n",
    "x2 = cp.Variable(n)\n",
    "constraints2 = [\n",
    "    cp.sum(x2) == 1,\n",
    "    x2 >= 0,\n",
    "    x2 @ mean_daily_returns >= 0.0008\n",
    "]\n",
    "portfolio_variance2 = cp.quad_form(x2, covariance_matrix.values)\n",
    "problem2 = cp.Problem(cp.Minimize(portfolio_variance2), constraints2)\n",
    "problem2.solve()\n",
    "x2_optimal = x2.value\n",
    "\n",
    "# --- Solve for x3 (0.1% return) ---\n",
    "x3 = cp.Variable(n)\n",
    "constraints3 = [\n",
    "    cp.sum(x3) == 1,\n",
    "    x3 >= 0,\n",
    "    x3 @ mean_daily_returns >= 0.001\n",
    "]\n",
    "portfolio_variance3 = cp.quad_form(x3, covariance_matrix.values)\n",
    "problem3 = cp.Problem(cp.Minimize(portfolio_variance3), constraints3)\n",
    "problem3.solve()\n",
    "x3_optimal = x3.value\n",
    "\n",
    "# --- Calculate z ---\n",
    "phi = (0.0008 - 0.001) / (0.0008 - 0.0005)\n",
    "z = phi * x1_optimal + (1 - phi) * x2_optimal\n",
    "\n",
    "# --- Compare z and x3 ---\n",
    "# Need to normalize z so weights add to 1\n",
    "z = z / np.sum(z)\n",
    "\n",
    "# Test two fund theorem (using numpy's allclose for approximate comparison)\n",
    "are_equal = np.allclose(z, x3_optimal)\n",
    "\n",
    "print(f\"Two-Fund Theorem: {'z == x3' if are_equal else 'z != x3'}\")"
   ]
  },
  {
   "cell_type": "markdown",
   "metadata": {},
   "source": [
    "### Question 7\n",
    "\n",
    "By applying the two fund theorem, change $phi$ in the previous question, get portfolios $z = \\phi x_1 + (1-\\phi)x_2$ for different $phi$. \n",
    "\n",
    "Compute the average daily returns and portfolio variances when $\\phi \\in [-2,2]$, plot the Efficient Frontier like above.\n",
    "\n",
    "Look at the graph, then give the approximate optimal return if we are given a risk tolerance that variance should be less than or equal to 0.000040. (Round your answer to the fourth decimal place.)"
   ]
  },
  {
   "cell_type": "code",
   "execution_count": 9,
   "metadata": {},
   "outputs": [
    {
     "data": {
      "image/png": "[encoded data removed]",
      "text/plain": [
       "<Figure size 640x480 with 1 Axes>"
      ]
     },
     "metadata": {},
     "output_type": "display_data"
    },
    {
     "name": "stdout",
     "output_type": "stream",
     "text": [
      "Approximate Optimal Return (Variance <= 0.000040): 0.0007\n"
     ]
    }
   ],
   "source": [
    "# --- Range of phi values ---\n",
    "phi_values = np.linspace(-2, 2, 100)  # Create 100 points\n",
    "\n",
    "# --- Store results for plotting ---\n",
    "returns = []\n",
    "variances = []\n",
    "\n",
    "# --- Loop through phi values ---\n",
    "for phi in phi_values:\n",
    "    # --- Calculate z ---\n",
    "    z = phi * x1_optimal + (1 - phi) * x2_optimal\n",
    "\n",
    "    # --- Normalize z ---\n",
    "    z = z / np.sum(z)\n",
    "\n",
    "    # --- Calculate portfolio return and variance ---\n",
    "    portfolio_return = z @ mean_daily_returns\n",
    "    portfolio_variance = z.T @ covariance_matrix.values @ z\n",
    "\n",
    "    returns.append(portfolio_return)\n",
    "    variances.append(portfolio_variance)\n",
    "\n",
    "# --- Plot the Efficient Frontier ---\n",
    "plt.plot(variances, returns)\n",
    "plt.xlabel(\"Portfolio Variance\")\n",
    "plt.ylabel(\"Portfolio Return\")\n",
    "plt.title(\"Efficient Frontier\")\n",
    "plt.grid(True)\n",
    "\n",
    "# Highlight the point where variance <= 0.000040\n",
    "variance_threshold = 0.000040\n",
    "returns_at_threshold = [ret for var, ret in zip(variances, returns) if var <= variance_threshold]\n",
    "if returns_at_threshold:\n",
    "    max_return_at_threshold = max(returns_at_threshold)\n",
    "    plt.scatter(variance_threshold, max_return_at_threshold, color='red', label=f'Max Return at Variance <= {variance_threshold}')\n",
    "    plt.legend()\n",
    "\n",
    "plt.show()\n",
    "\n",
    "# --- Approximate optimal return ---\n",
    "# Find the return closest to the variance threshold\n",
    "variances = np.array(variances)\n",
    "returns = np.array(returns)\n",
    "index_at_threshold = np.argmin(np.abs(variances - variance_threshold))\n",
    "approximate_optimal_return = returns[index_at_threshold]\n",
    "\n",
    "print(f\"Approximate Optimal Return (Variance <= 0.000040): {approximate_optimal_return:.4f}\")"
   ]
  },
  {
   "cell_type": "markdown",
   "metadata": {},
   "source": [
    "### Question 8\n",
    "\n",
    "Which of the following portfolios are not achievable in practice?\n",
    "\n",
    "![Efficient Frontier](image1.png)\n",
    "\n",
    "&#9675; Portfolio A.\n",
    "\n",
    "&#9675; Portfolio B.\n",
    "\n",
    "&#9675; Portfolio C.\n",
    "\n",
    "&#9679; Portfolio D."
   ]
  },
  {
   "cell_type": "markdown",
   "metadata": {},
   "source": [
    "### Question 9\n",
    "\n",
    "Assume the risk free rate of daily return $r_f$ is $0.01\\%$. We want to maximize the Sharpe ratio problem:\n",
    "\n",
    "$$\n",
    "\\begin{array}{ll}\n",
    "\\text{maximize} & \\frac{(\\mu-r_f1)^Tx}{\\sqrt{x^TVx}} \\\\\n",
    "\\text{subject to} & 1^Tx = 1\n",
    "\\end{array}\n",
    "$$\n",
    "\n",
    "The problem is now equivalent to maximize the return of unit risk, which is also called the market price of risk. We can rewrite maximization of the Sharpe ratio as minimizing the risk of unit return:\n",
    "\n",
    "$$\n",
    "\\begin{array}{ll}\n",
    "\\text{minimize} & x^TVx \\\\\n",
    "\\text{subject to} & (\\mu-r_f1)^Tx = 1\n",
    "\\end{array}\n",
    "$$\n",
    "\n",
    "Now the $x$ from the optimal solution is no longer the weight vector of our portfolio.\n",
    "\n",
    "So our sharp portfolio should be:\n",
    "$$\n",
    "x_{Sharpe}^* = \\frac{x}{1^Tx}\n",
    "$$\n",
    "\n",
    "Compute the Sharpe ratio for these stocks and round your answer to the third decimal place."
   ]
  },
  {
   "cell_type": "code",
   "execution_count": 10,
   "metadata": {},
   "outputs": [
    {
     "name": "stdout",
     "output_type": "stream",
     "text": [
      "Sharpe Ratio: 0.260\n"
     ]
    }
   ],
   "source": [
    "# Risk-free rate\n",
    "rf = 0.0001\n",
    "\n",
    "# Define the number of assets\n",
    "n = len(mean_daily_returns)\n",
    "\n",
    "# Convert pandas Series to numpy array\n",
    "mean_returns_np = mean_daily_returns.values\n",
    "\n",
    "# --- Define and solve the equivalent quadratic problem ---\n",
    "x = cp.Variable(n)\n",
    "gamma = cp.Parameter(nonneg=True)\n",
    "gamma.value = 1.0  # Trade-off parameter\n",
    "\n",
    "# Objective: minimize risk for given return\n",
    "risk = cp.quad_form(x, covariance_matrix.values)\n",
    "ret = mean_returns_np @ x\n",
    "\n",
    "objective = cp.Minimize(risk)\n",
    "constraints = [\n",
    "    cp.sum(x) == 1,\n",
    "    ret >= rf + gamma  # Target return constraint\n",
    "]\n",
    "\n",
    "problem = cp.Problem(objective, constraints)\n",
    "problem.solve()\n",
    "\n",
    "# --- Optimal Sharpe portfolio ---\n",
    "x_sharpe = x.value\n",
    "\n",
    "# --- Calculate Sharpe Ratio ---\n",
    "portfolio_return = mean_returns_np @ x_sharpe - rf\n",
    "portfolio_risk = np.sqrt(x_sharpe.T @ covariance_matrix.values @ x_sharpe)\n",
    "sharpe_ratio_value = portfolio_return / portfolio_risk\n",
    "\n",
    "print(f\"Sharpe Ratio: {sharpe_ratio_value:.3f}\")"
   ]
  },
  {
   "cell_type": "markdown",
   "metadata": {},
   "source": [
    "### Question 10\n",
    "\n",
    "Can we realize the Sharpe portfolio calculated from the previous question as a long-only portfolio?\n",
    "\n",
    "&#9675; Yes.\n",
    "\n",
    "&#9679; No."
   ]
  }
 ],
 "metadata": {
  "kernelspec": {
   "display_name": "Python 3",
   "language": "python",
   "name": "python3"
  },
  "language_info": {
   "codemirror_mode": {
    "name": "ipython",
    "version": 3
   },
   "file_extension": ".py",
   "mimetype": "text/x-python",
   "name": "python",
   "nbconvert_exporter": "python",
   "pygments_lexer": "ipython3",
   "version": "3.11.7"
  }
 },
 "nbformat": 4,
 "nbformat_minor": 2
}
