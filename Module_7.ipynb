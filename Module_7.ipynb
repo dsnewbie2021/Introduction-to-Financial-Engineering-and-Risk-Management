{
 "cells": [
  {
   "cell_type": "code",
   "execution_count": 1,
   "metadata": {},
   "outputs": [],
   "source": [
    "%load_ext autoreload\n",
    "%autoreload 2\n",
    "\n",
    "import pandas as pd\n",
    "import numpy as np\n",
    "import risk_kit as rk\n",
    "from pricing_models import StockPricing, FuturesPricing, OptionsPricing, \\\n",
    "                           SwapsPricing, BondPricing, ForwardsPricing, BDTRate, \\\n",
    "                           CashPricing\n",
    "import scipy.optimize as opt"
   ]
  },
  {
   "cell_type": "markdown",
   "metadata": {},
   "source": [
    "Questions 1 and 2 should be answered by building and calibrating a 10-period Black-Derman-Toy model for the short-rate, $r_{i,j}$. You may assume that the term-structure of interest rates observed in the market place is:\n",
    "\n",
    "Period 1 2 3 4 5 6 7 8 9 10\n",
    "\n",
    "Spot Rate 3.0% 3.1% 3.2% 3.3% 3.4% 3.5% 3.55% 3.6% 3.65% 3.7%\n",
    "\n",
    "As in the video modules, these interest rates assume per-period compounding so that, for example, the market-price of a zero-coupon bond that matures in period 6 is $Z_0^6$ = $100/(1+.035)^6$ = 81.35 assuming a face value of 100."
   ]
  },
  {
   "cell_type": "code",
   "execution_count": 2,
   "metadata": {},
   "outputs": [],
   "source": [
    "n = 10\n",
    "market_spot_rates = np.array([3.0, 3.1, 3.2, 3.3, 3.4, 3.5, 3.55, 3.6, 3.65, 3.7]) / 100\n",
    "q = 0.5"
   ]
  },
  {
   "cell_type": "markdown",
   "metadata": {},
   "source": [
    "### Question 1"
   ]
  },
  {
   "cell_type": "markdown",
   "metadata": {},
   "source": [
    "Assume b = 0.05 is a constant for all ii in the BDT model as we assumed in the video lectures. Calibrate the $a_i$ parameters so that the model term-structure matches the market term-structure. Be sure that the final error returned is at most $10^{-8}$."
   ]
  },
  {
   "cell_type": "code",
   "execution_count": 3,
   "metadata": {
    "scrolled": true
   },
   "outputs": [
    {
     "name": "stdout",
     "output_type": "stream",
     "text": [
      "1.4451216300674596e-27\n"
     ]
    },
    {
     "name": "stderr",
     "output_type": "stream",
     "text": [
      "/home/gt18/anaconda3/lib/python3.7/site-packages/scipy/optimize/nonlin.py:1000: RuntimeWarning: divide by zero encountered in true_divide\n",
      "  d = v / vdot(df, v)\n"
     ]
    }
   ],
   "source": [
    "b = 0.05\n",
    "iterations = 200\n",
    "error_threshold = 1e-8\n",
    "\n",
    "rates, error = BDTRate.calibrate(n, q, b, market_spot_rates, iterations)\n",
    "\n",
    "print(error)\n",
    "# if error < error_threshold:\n",
    "#     print('The squared error is less than the allowed threshold')"
   ]
  },
  {
   "cell_type": "markdown",
   "metadata": {},
   "source": [
    "Once your model has been calibrated, compute the price of a payer swaption with notional 1 million that expires at time t = 3 with an option strike of 0. You may assume the underlying swap has a fixed rate of 3.9\\% and that if the option is exercised then cash-flows take place at times t = 4, $\\ldots$ , 10. (The cash-flow at time t = i is based on the short-rate that prevailed in the previous period, i.e. the payments of the underlying swap are made in arrears.)"
   ]
  },
  {
   "cell_type": "code",
   "execution_count": 4,
   "metadata": {},
   "outputs": [
    {
     "data": {
      "text/plain": [
       "4102.0"
      ]
     },
     "execution_count": 4,
     "metadata": {},
     "output_type": "execute_result"
    }
   ],
   "source": [
    "N = 1000000\n",
    "fixed_rate = 0.039\n",
    "start_time = 4\n",
    "is_long = 1\n",
    "\n",
    "swap_pricing = SwapsPricing(n, q, fixed_rate, start_time, is_long, rates)\n",
    "\n",
    "n_options = 3\n",
    "strike = 0\n",
    "\n",
    "option_pricing = OptionsPricing(n_options, swap_pricing, rates, q, strike)\n",
    "round(option_pricing.price * N)"
   ]
  },
  {
   "cell_type": "markdown",
   "metadata": {},
   "source": [
    "### Question 2"
   ]
  },
  {
   "cell_type": "markdown",
   "metadata": {},
   "source": [
    "Repeat the previous question but now assume a value of b = 0.1."
   ]
  },
  {
   "cell_type": "code",
   "execution_count": 5,
   "metadata": {
    "scrolled": true
   },
   "outputs": [
    {
     "name": "stdout",
     "output_type": "stream",
     "text": [
      "The squared error is less than the allowed threshold\n"
     ]
    }
   ],
   "source": [
    "b = 0.1\n",
    "iterations = 200\n",
    "error_threshold = 1e-8\n",
    "\n",
    "rates, error = BDTRate.calibrate(n, q, b, market_spot_rates, iterations)\n",
    "\n",
    "if error < error_threshold:\n",
    "    print('The squared error is less than the allowed threshold')"
   ]
  },
  {
   "cell_type": "code",
   "execution_count": 6,
   "metadata": {},
   "outputs": [
    {
     "data": {
      "text/plain": [
       "8097.0"
      ]
     },
     "execution_count": 6,
     "metadata": {},
     "output_type": "execute_result"
    }
   ],
   "source": [
    "N = 1000000\n",
    "fixed_rate = 0.039\n",
    "start_time = 4\n",
    "is_long = 1\n",
    "\n",
    "swap_pricing = SwapsPricing(n, q, fixed_rate, start_time, is_long, rates)\n",
    "\n",
    "n_options = 3\n",
    "strike = 0\n",
    "\n",
    "option_pricing = OptionsPricing(n_options, swap_pricing, rates, q, strike)\n",
    "round(option_pricing.price * N)"
   ]
  },
  {
   "cell_type": "markdown",
   "metadata": {},
   "source": [
    "### Question 3"
   ]
  },
  {
   "cell_type": "markdown",
   "metadata": {},
   "source": [
    "Construct a n = 10-period binomial model for the short-rate, $r_{i,j}$. The lattice parameters are: $r_{0,0}$= 5%, u=1.1, d=0.9 and q = 1-q = 1/2.\n",
    "\n",
    "Assume that the 1-step hazard rate in node (i,j) is given by $h_{ij}$ = a $b^{j-\\frac{i}{2}}$ where a = 0.01 and b = 1.01. Compute the price of a zero-coupon bond with face value F = 100 and recovery R = 20%."
   ]
  },
  {
   "cell_type": "code",
   "execution_count": 7,
   "metadata": {},
   "outputs": [
    {
     "data": {
      "text/plain": [
       "57.22"
      ]
     },
     "execution_count": 7,
     "metadata": {},
     "output_type": "execute_result"
    }
   ],
   "source": [
    "n = 10\n",
    "r0 = 0.05\n",
    "u = 1.1\n",
    "d = 0.9\n",
    "q = 0.5\n",
    "\n",
    "rates = StockPricing(n, r0, u, d)\n",
    "\n",
    "hazard = {\n",
    "    'a': 0.01,\n",
    "    'b': 1.01,\n",
    "    'recovery_rate': 0.2\n",
    "}\n",
    "F = 100\n",
    "coupon = 0.0\n",
    "\n",
    "bond_pricing = BondPricing(n, F, q, rates, coupon, hazard)\n",
    "round(bond_pricing.price, 2)"
   ]
  },
  {
   "cell_type": "markdown",
   "metadata": {},
   "source": [
    "### Question 4"
   ]
  },
  {
   "cell_type": "markdown",
   "metadata": {},
   "source": [
    "The true price of 5 different defaultable coupon paying bonds with non-zero recovery are specified in worksheet ${\\tt Calibration}$ in the workbook ${\\tt Assignment5\\_cds.xlsx}$. The interest rate is r = 5% per annum. Calibrate the six month hazard rates ${\\tt A6}$ to ${\\tt A16}$ by minimizing the ${\\tt Sum \\,Error}$ ensuring that the term structure of hazard rates are non-decreasing. \n",
    "\n",
    "You can model the non-decreasing hazard rates by adding constraints of the form ${\\tt A6} \\leq {\\tt A7}, \\ldots, {\\tt A15} \\leq {\\tt A16}$. Report the hazard rate at time 0 as a percentage.\n",
    "\n"
   ]
  },
  {
   "cell_type": "markdown",
   "metadata": {},
   "source": [
    "$TO\\ BE\\ DONE\\ IN\\ EXCCEL$\n",
    "\n",
    "Answer - 1.84"
   ]
  },
  {
   "cell_type": "markdown",
   "metadata": {},
   "source": [
    "### Question 5"
   ]
  },
  {
   "cell_type": "markdown",
   "metadata": {},
   "source": [
    "Modify the data on the ${\\tt CDS \\,pricing}$ worksheet in the workbook ${\\tt bonds\\_and\\_cds.xlsx}$ to compute a par spread in basis points for a 5yr CDS with notional principal N = 10 million assuming that the expected recovery rate R = 25%, the 3-month hazard rate is a flat 1%, and the interest rate is 5% per annum."
   ]
  },
  {
   "cell_type": "markdown",
   "metadata": {},
   "source": [
    "$TO\\ BE\\ DONE\\ IN\\ EXCCEL$\n",
    "\n",
    "Answer - 301.51"
   ]
  }
 ],
 "metadata": {
  "kernelspec": {
   "display_name": "Python 3",
   "language": "python",
   "name": "python3"
  },
  "language_info": {
   "codemirror_mode": {
    "name": "ipython",
    "version": 3
   },
   "file_extension": ".py",
   "mimetype": "text/x-python",
   "name": "python",
   "nbconvert_exporter": "python",
   "pygments_lexer": "ipython3",
   "version": "3.7.1"
  }
 },
 "nbformat": 4,
 "nbformat_minor": 2
}
